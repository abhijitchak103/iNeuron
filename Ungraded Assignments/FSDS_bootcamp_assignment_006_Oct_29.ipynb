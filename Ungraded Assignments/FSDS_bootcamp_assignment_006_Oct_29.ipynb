{
  "nbformat": 4,
  "nbformat_minor": 0,
  "metadata": {
    "colab": {
      "provenance": [],
      "collapsed_sections": []
    },
    "kernelspec": {
      "name": "python3",
      "display_name": "Python 3"
    },
    "language_info": {
      "name": "python"
    }
  },
  "cells": [
    {
      "cell_type": "code",
      "source": [
        "# Write a function which will try to find out the length of a string without using an inbuilt len function\n",
        "\n",
        "def leng(s):\n",
        "    \"\"\"\n",
        "    Returns the length of string s\n",
        "    \"\"\"\n",
        "    l = 0\n",
        "    for char in s:\n",
        "        l += 1\n",
        "    return l\n",
        "\n",
        "leng(\"abhijit\")"
      ],
      "metadata": {
        "colab": {
          "base_uri": "https://localhost:8080/"
        },
        "id": "BcG9C9ShW6CT",
        "outputId": "263482db-9aa8-4b51-dd06-9f06a2a71bbe"
      },
      "execution_count": 1,
      "outputs": [
        {
          "output_type": "execute_result",
          "data": {
            "text/plain": [
              "7"
            ]
          },
          "metadata": {},
          "execution_count": 1
        }
      ]
    },
    {
      "cell_type": "code",
      "source": [
        "# Write a function which will be able to print an index of list element\n",
        "\n",
        "def ind(l, a):\n",
        "    \"\"\"\n",
        "    Returns the index of \"a\" in list \"l\"\n",
        "    \"\"\"\n",
        "    for i in range(len(l)):\n",
        "        if l[i] == a:\n",
        "            ans = i\n",
        "    return ans\n",
        "\n",
        "ind(\"abhijit\", \"b\")"
      ],
      "metadata": {
        "colab": {
          "base_uri": "https://localhost:8080/"
        },
        "id": "sjd4hSdyaIty",
        "outputId": "65c35e1d-01f1-41da-f0f0-7ea41ee2c33f"
      },
      "execution_count": 2,
      "outputs": [
        {
          "output_type": "execute_result",
          "data": {
            "text/plain": [
              "1"
            ]
          },
          "metadata": {},
          "execution_count": 2
        }
      ]
    },
    {
      "cell_type": "code",
      "source": [
        "# Write a function which will be able to print the IP adress of your system\n",
        "\n",
        "def my_ip():\n",
        "    \"\"\"\n",
        "    Returns the ip address of the system\n",
        "    \"\"\"\n",
        "\n",
        "    import socket\n",
        "    hostname = socket.gethostname()\n",
        "    ip = socket.gethostbyname(hostname)\n",
        "\n",
        "    return ip\n",
        "\n",
        "my_ip()"
      ],
      "metadata": {
        "colab": {
          "base_uri": "https://localhost:8080/",
          "height": 35
        },
        "id": "k98K6HzVaUmx",
        "outputId": "1c8134a2-64fd-4b1b-eb99-b7fd10e4f0b9"
      },
      "execution_count": 3,
      "outputs": [
        {
          "output_type": "execute_result",
          "data": {
            "text/plain": [
              "'172.28.0.2'"
            ],
            "application/vnd.google.colaboratory.intrinsic+json": {
              "type": "string"
            }
          },
          "metadata": {},
          "execution_count": 3
        }
      ]
    },
    {
      "cell_type": "code",
      "source": [
        "# Write a function which will shut down your system\n",
        "\n",
        "def shutdown():\n",
        "    \"\"\"\n",
        "    Shuts down the system open calling and giving input as yes\n",
        "    \"\"\"\n",
        "    import os\n",
        "    resp = (input(\"Do you want to shut down your system? (y: Yes, n: No) \")).lower()\n",
        "    \n",
        "    if resp == \"y\":\n",
        "        os.system(\"shutdown /s /t 1\")\n",
        "    else:\n",
        "        exit()"
      ],
      "metadata": {
        "id": "5HaOypD4axoJ"
      },
      "execution_count": 4,
      "outputs": []
    },
    {
      "cell_type": "code",
      "source": [
        "# Write a function which will take input as a list with any kind of numeric value and output as a multiplication of all \n",
        "# numeric data, l = [3.5, 6.56, 4,5,\"sudh\",\"ineuron\", \"fsds bootcamp 2.0\"]\n",
        "\n",
        "def mult_num(l):\n",
        "    \"\"\"\n",
        "    Returns the product of all numeric elements in a given list\n",
        "    Input: List\n",
        "    Output: Float\n",
        "    \"\"\"\n",
        "    result = 1\n",
        "    for num in l:\n",
        "        if type(num) == int or type(num) == float:\n",
        "            result = result * num\n",
        "    return result\n",
        "\n",
        "l1 = [3.5, 6.56, 4, 5, \"sudh\", \"ineuron\", \"fsds bootcamp 2.0\"]\n",
        "print(round(mult_num(l1), 2))"
      ],
      "metadata": {
        "id": "55kR-cTTa3-5",
        "colab": {
          "base_uri": "https://localhost:8080/"
        },
        "outputId": "f880a207-5a60-4af1-fd8c-25ecbac0e3c3"
      },
      "execution_count": 5,
      "outputs": [
        {
          "output_type": "stream",
          "name": "stdout",
          "text": [
            "459.2\n"
          ]
        }
      ]
    },
    {
      "cell_type": "code",
      "source": [
        "# Write a function which will be able to read all the mails\n"
      ],
      "metadata": {
        "id": "ymNKF8lObPcx"
      },
      "execution_count": 6,
      "outputs": []
    },
    {
      "cell_type": "code",
      "source": [
        "# Write a function which will be able to send a mail to anyone"
      ],
      "metadata": {
        "id": "YKgWIVPVbVkZ"
      },
      "execution_count": 7,
      "outputs": []
    },
    {
      "cell_type": "code",
      "source": [
        "# Write a function which will be able to read a doc/word file from your system\n",
        "\n",
        "\n",
        "def read(path):\n",
        "    \"\"\"\n",
        "    Reads the input doc/word file from system. Required input: File Path \n",
        "    \"\"\"\n",
        "\n",
        "    file = open(path, \"r\")\n",
        "    for line in file:\n",
        "        print(line)\n",
        "    file.close()\n",
        "\n",
        "read(r\"C:\\Users\\Abhijit\\Data_Science\\Logging_iNeuron\\Read_doc.txt\")"
      ],
      "metadata": {
        "id": "NmHPxBKabaAg"
      },
      "execution_count": null,
      "outputs": []
    }
  ]
}
