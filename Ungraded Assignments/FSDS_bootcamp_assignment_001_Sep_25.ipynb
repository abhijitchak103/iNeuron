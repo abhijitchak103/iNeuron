{
  "nbformat": 4,
  "nbformat_minor": 0,
  "metadata": {
    "colab": {
      "provenance": [],
      "collapsed_sections": [],
      "authorship_tag": "ABX9TyOguGar1YuQuGqhEJWcmt8+",
      "include_colab_link": true
    },
    "kernelspec": {
      "name": "python3",
      "display_name": "Python 3"
    },
    "language_info": {
      "name": "python"
    }
  },
  "cells": [
    {
      "cell_type": "markdown",
      "metadata": {
        "id": "view-in-github",
        "colab_type": "text"
      },
      "source": [
        "<a href=\"https://colab.research.google.com/github/abhijitchak103/iNeuron/blob/Ungraded-Assignments/FSDS_bootcamp_assignment_001_Sep_25.ipynb\" target=\"_parent\"><img src=\"https://colab.research.google.com/assets/colab-badge.svg\" alt=\"Open In Colab\"/></a>"
      ]
    },
    {
      "cell_type": "markdown",
      "source": [
        "1. Find out all the types of error that we have encountered in our lecture and why? Also include the examples."
      ],
      "metadata": {
        "id": "Ty2SKtl4vueP"
      }
    },
    {
      "cell_type": "code",
      "source": [
        "# NameError: occurs when a variable is not defined and is anyway used\n",
        "\n",
        "# eg\n",
        "\n",
        "print(a)"
      ],
      "metadata": {
        "colab": {
          "base_uri": "https://localhost:8080/",
          "height": 200
        },
        "id": "2vQvXY-OvyTm",
        "outputId": "d8f6d0a6-a939-4cf0-d22b-53671e70c9a0"
      },
      "execution_count": null,
      "outputs": [
        {
          "output_type": "error",
          "ename": "NameError",
          "evalue": "ignored",
          "traceback": [
            "\u001b[0;31m---------------------------------------------------------------------------\u001b[0m",
            "\u001b[0;31mNameError\u001b[0m                                 Traceback (most recent call last)",
            "\u001b[0;32m<ipython-input-1-13af53f9099f>\u001b[0m in \u001b[0;36m<module>\u001b[0;34m\u001b[0m\n\u001b[1;32m      3\u001b[0m \u001b[0;31m# eg\u001b[0m\u001b[0;34m\u001b[0m\u001b[0;34m\u001b[0m\u001b[0;34m\u001b[0m\u001b[0m\n\u001b[1;32m      4\u001b[0m \u001b[0;34m\u001b[0m\u001b[0m\n\u001b[0;32m----> 5\u001b[0;31m \u001b[0mprint\u001b[0m\u001b[0;34m(\u001b[0m\u001b[0ma\u001b[0m\u001b[0;34m)\u001b[0m\u001b[0;34m\u001b[0m\u001b[0;34m\u001b[0m\u001b[0m\n\u001b[0m",
            "\u001b[0;31mNameError\u001b[0m: name 'a' is not defined"
          ]
        }
      ]
    },
    {
      "cell_type": "code",
      "source": [
        "# TypeError: Occurs when operations are performed among different data types\n",
        "\n",
        "# eg. performing addition between integer and string variables\n",
        "a = 5\n",
        "b = \"6\"\n",
        "a+b"
      ],
      "metadata": {
        "colab": {
          "base_uri": "https://localhost:8080/",
          "height": 200
        },
        "id": "BTE-fyqdwVfs",
        "outputId": "b8e000e7-e937-427c-87c1-c52925608ed8"
      },
      "execution_count": null,
      "outputs": [
        {
          "output_type": "error",
          "ename": "TypeError",
          "evalue": "ignored",
          "traceback": [
            "\u001b[0;31m---------------------------------------------------------------------------\u001b[0m",
            "\u001b[0;31mTypeError\u001b[0m                                 Traceback (most recent call last)",
            "\u001b[0;32m<ipython-input-2-89621b8cadad>\u001b[0m in \u001b[0;36m<module>\u001b[0;34m\u001b[0m\n\u001b[1;32m      4\u001b[0m \u001b[0ma\u001b[0m \u001b[0;34m=\u001b[0m \u001b[0;36m5\u001b[0m\u001b[0;34m\u001b[0m\u001b[0;34m\u001b[0m\u001b[0m\n\u001b[1;32m      5\u001b[0m \u001b[0mb\u001b[0m \u001b[0;34m=\u001b[0m \u001b[0;34m\"6\"\u001b[0m\u001b[0;34m\u001b[0m\u001b[0;34m\u001b[0m\u001b[0m\n\u001b[0;32m----> 6\u001b[0;31m \u001b[0ma\u001b[0m\u001b[0;34m+\u001b[0m\u001b[0mb\u001b[0m\u001b[0;34m\u001b[0m\u001b[0;34m\u001b[0m\u001b[0m\n\u001b[0m",
            "\u001b[0;31mTypeError\u001b[0m: unsupported operand type(s) for +: 'int' and 'str'"
          ]
        }
      ]
    },
    {
      "cell_type": "code",
      "source": [
        "# SyntaxError: Using incorrect syntax\n",
        "# eg. Not using proper paranthesis in print statements\n",
        "print(a"
      ],
      "metadata": {
        "colab": {
          "base_uri": "https://localhost:8080/",
          "height": 130
        },
        "id": "Ai4ox1dNxSfH",
        "outputId": "15361311-717f-4598-aae4-e21b489a3f36"
      },
      "execution_count": null,
      "outputs": [
        {
          "output_type": "error",
          "ename": "SyntaxError",
          "evalue": "ignored",
          "traceback": [
            "\u001b[0;36m  File \u001b[0;32m\"<ipython-input-3-775b3dfd3f81>\"\u001b[0;36m, line \u001b[0;32m3\u001b[0m\n\u001b[0;31m    print(a\u001b[0m\n\u001b[0m           ^\u001b[0m\n\u001b[0;31mSyntaxError\u001b[0m\u001b[0;31m:\u001b[0m unexpected EOF while parsing\n"
          ]
        }
      ]
    },
    {
      "cell_type": "markdown",
      "source": [
        "2. Take input A and B and print their sum, mul, div, square of the nos."
      ],
      "metadata": {
        "id": "kkAu27cuxtIl"
      }
    },
    {
      "cell_type": "code",
      "source": [
        "print(f\"Performing basic calculations on user inputs..\")\n",
        "print(f\"Input the two number..\")\n",
        "a = int(input(\"Enter the first number, a: \"))\n",
        "b = int(input(\"Enter the second number, b: \"))\n",
        "print(\"\\n\")\n",
        "print(f\"The sum of numbers a: {a} and b: {b} is {a+b}\")\n",
        "print(f\"The product of numbers a: {a} and b: {b} is {a*b}\")\n",
        "print(f\"The division of numbers a: {a} and b: {b} is {a/b}\")\n",
        "print(f\"The square of numbers a: {a} and b: {b} are {a**2} and {b**2} respectively.\")"
      ],
      "metadata": {
        "colab": {
          "base_uri": "https://localhost:8080/"
        },
        "id": "shxzRCvtxjfH",
        "outputId": "cff537cb-6039-4730-b58c-d2e0fd48d153"
      },
      "execution_count": null,
      "outputs": [
        {
          "output_type": "stream",
          "name": "stdout",
          "text": [
            "Performing basic calculations on user inputs..\n",
            "Input the two number..\n",
            "Enter the first number, a: 25\n",
            "Enter the second number, b: 5\n",
            "\n",
            "\n",
            "The sum of numbers a: 25 and b: 5 is 30\n",
            "The product of numbers a: 25 and b: 5 is 125\n",
            "The division of numbers a: 25 and b: 5 is 5.0\n",
            "The square of numbers a: 25 and b: 5 are 625 and 25 respectively.\n"
          ]
        }
      ]
    },
    {
      "cell_type": "markdown",
      "source": [
        "3. How many reserve keywords are there in python and why we should not use them as a variable name."
      ],
      "metadata": {
        "id": "6sEipPoNyzhm"
      }
    },
    {
      "cell_type": "code",
      "source": [
        "# There are 31 reserved keywords as mentioned in the Python documentation: https://docs.python.org/2.5/ref/keywords.html \n",
        "# Reserved keywords like print, for, del, etc... perform specific inbuilt functions within the python langauge\n",
        "# Using them as variable names would change their built purpose and render them unusable."
      ],
      "metadata": {
        "id": "ttjKtzBWyowf"
      },
      "execution_count": null,
      "outputs": []
    },
    {
      "cell_type": "markdown",
      "source": [
        "4. Create email ids with the user inputs. in the following format - lastname.firstname@gmail.com"
      ],
      "metadata": {
        "id": "5gKDb8aI0Cv_"
      }
    },
    {
      "cell_type": "code",
      "source": [
        "firstname = input(\"Please enter your first name: \")\n",
        "lastname = input(\"Please enter your last name: \")\n",
        "print(f\"Your email id is: {lastname}.{firstname}@gmail.com\")"
      ],
      "metadata": {
        "colab": {
          "base_uri": "https://localhost:8080/"
        },
        "id": "vXuDSxmLzbPE",
        "outputId": "b8124f05-19f4-4396-9930-521159dc7a34"
      },
      "execution_count": null,
      "outputs": [
        {
          "output_type": "stream",
          "name": "stdout",
          "text": [
            "Please enter your first name: Abhijit\n",
            "Please enter your last name: Chakraborty\n",
            "Your email id is: Chakraborty.Abhijit@gmail.com\n"
          ]
        }
      ]
    },
    {
      "cell_type": "markdown",
      "source": [
        "5. Try to print the following lines -\n",
        "  - Hi I'm Sunny\n",
        "  - My address is 22\\3\n",
        "  - I earn 20$ daily."
      ],
      "metadata": {
        "id": "qYC-pNb62yGx"
      }
    },
    {
      "cell_type": "code",
      "source": [
        "print(f\"\"\"\n",
        "Hi I'm Sunny\n",
        "My address is 22\\\\3\n",
        "I earn 20$ daily.\n",
        "\"\"\")"
      ],
      "metadata": {
        "colab": {
          "base_uri": "https://localhost:8080/"
        },
        "id": "EnKCqnmB2mXf",
        "outputId": "7b2d0ff3-5712-42cf-8a1a-fff727fcc087"
      },
      "execution_count": null,
      "outputs": [
        {
          "output_type": "stream",
          "name": "stdout",
          "text": [
            "\n",
            "Hi I'm Sunny\n",
            "My address is 22\\3\n",
            "I earn 20$ daily.\n",
            "\n"
          ]
        }
      ]
    },
    {
      "cell_type": "markdown",
      "source": [
        "6. Take user input (name, address, date of birth etc) to fill a form for your college and print their email IDs"
      ],
      "metadata": {
        "id": "CwIEQgjg32Gs"
      }
    },
    {
      "cell_type": "code",
      "source": [
        "print(\"Please fill the following information for college:\")\n",
        "firstname = input(\"Enter your first name: \")\n",
        "lastname = input(\"Enter your last name: \")\n",
        "address = input(\"Enter your address: \")\n",
        "d_o_b = input(\"Enter your Date of Birth: \")\n",
        "stream = input(\"Enter your stream of studies: \")\n",
        "semester = input(\"Enter your semester of studies: \")\n",
        "print(f\"Your email id is: {lastname}.{firstname}@college.ac.in\")"
      ],
      "metadata": {
        "colab": {
          "base_uri": "https://localhost:8080/"
        },
        "id": "WTJVVhBJ3LoQ",
        "outputId": "06c959b8-ff91-4387-8363-c51715bf7d02"
      },
      "execution_count": null,
      "outputs": [
        {
          "output_type": "stream",
          "name": "stdout",
          "text": [
            "Please fill the following information for college:\n",
            "Enter your first name: Abhijit\n",
            "Enter your last name: Chakraborty\n",
            "Enter your address: Guwahati\n",
            "Enter your Date of Birth: 21.05.1992\n",
            "Enter your stream of studies: Civil\n",
            "Enter your semester of studies: 6\n",
            "Your email id is: Chakraborty.Abhijit@college.ac.in\n"
          ]
        }
      ]
    },
    {
      "cell_type": "markdown",
      "source": [
        "7. Convert the following -\n",
        "  - \"22.4\" into integer\n",
        "  - \"22\" into complex no."
      ],
      "metadata": {
        "id": "D_B4gEBy5hy4"
      }
    },
    {
      "cell_type": "code",
      "source": [
        "a = \"22.4\"\n",
        "a = int(a)\n",
        "\n",
        "# Expecting a ValueError\n",
        "print(type(a))"
      ],
      "metadata": {
        "colab": {
          "base_uri": "https://localhost:8080/",
          "height": 235
        },
        "id": "VPygbgZ55C_d",
        "outputId": "75b0eb7c-57a1-42b9-b9ab-a806389be5ee"
      },
      "execution_count": null,
      "outputs": [
        {
          "output_type": "error",
          "ename": "ValueError",
          "evalue": "ignored",
          "traceback": [
            "\u001b[0;31m---------------------------------------------------------------------------\u001b[0m",
            "\u001b[0;31mValueError\u001b[0m                                Traceback (most recent call last)",
            "\u001b[0;32m<ipython-input-14-0f039ae29eca>\u001b[0m in \u001b[0;36m<module>\u001b[0;34m\u001b[0m\n\u001b[1;32m      1\u001b[0m \u001b[0ma\u001b[0m \u001b[0;34m=\u001b[0m \u001b[0;34m\"22.4\"\u001b[0m\u001b[0;34m\u001b[0m\u001b[0;34m\u001b[0m\u001b[0m\n\u001b[0;32m----> 2\u001b[0;31m \u001b[0ma\u001b[0m \u001b[0;34m=\u001b[0m \u001b[0mint\u001b[0m\u001b[0;34m(\u001b[0m\u001b[0ma\u001b[0m\u001b[0;34m)\u001b[0m\u001b[0;34m\u001b[0m\u001b[0;34m\u001b[0m\u001b[0m\n\u001b[0m\u001b[1;32m      3\u001b[0m \u001b[0;34m\u001b[0m\u001b[0m\n\u001b[1;32m      4\u001b[0m \u001b[0;31m# Expecting a ValueError\u001b[0m\u001b[0;34m\u001b[0m\u001b[0;34m\u001b[0m\u001b[0;34m\u001b[0m\u001b[0m\n\u001b[1;32m      5\u001b[0m \u001b[0mprint\u001b[0m\u001b[0;34m(\u001b[0m\u001b[0mtype\u001b[0m\u001b[0;34m(\u001b[0m\u001b[0ma\u001b[0m\u001b[0;34m)\u001b[0m\u001b[0;34m)\u001b[0m\u001b[0;34m\u001b[0m\u001b[0;34m\u001b[0m\u001b[0m\n",
            "\u001b[0;31mValueError\u001b[0m: invalid literal for int() with base 10: '22.4'"
          ]
        }
      ]
    },
    {
      "cell_type": "code",
      "source": [
        "b = \"22\"\n",
        "b = complex(b)\n",
        "\n",
        "print(type(b))"
      ],
      "metadata": {
        "colab": {
          "base_uri": "https://localhost:8080/"
        },
        "id": "ZD9EoxLe52Ez",
        "outputId": "736b0ca3-2ea0-4967-f004-b979d99c4593"
      },
      "execution_count": null,
      "outputs": [
        {
          "output_type": "stream",
          "name": "stdout",
          "text": [
            "<class 'complex'>\n"
          ]
        }
      ]
    },
    {
      "cell_type": "code",
      "source": [],
      "metadata": {
        "id": "dxJRH-dp5-D0"
      },
      "execution_count": null,
      "outputs": []
    }
  ]
}
