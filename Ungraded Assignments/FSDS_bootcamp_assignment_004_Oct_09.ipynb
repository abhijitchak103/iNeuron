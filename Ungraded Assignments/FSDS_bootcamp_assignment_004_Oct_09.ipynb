{
  "nbformat": 4,
  "nbformat_minor": 0,
  "metadata": {
    "colab": {
      "provenance": [],
      "collapsed_sections": [],
      "include_colab_link": true
    },
    "kernelspec": {
      "name": "python3",
      "display_name": "Python 3"
    },
    "language_info": {
      "name": "python"
    }
  },
  "cells": [
    {
      "cell_type": "markdown",
      "metadata": {
        "id": "view-in-github",
        "colab_type": "text"
      },
      "source": [
        "<a href=\"https://colab.research.google.com/github/abhijitchak103/iNeuron/blob/Ungraded-Assignments/FSDS_bootcamp_assignment_004_Oct_09.ipynb\" target=\"_parent\"><img src=\"https://colab.research.google.com/assets/colab-badge.svg\" alt=\"Open In Colab\"/></a>"
      ]
    },
    {
      "cell_type": "markdown",
      "source": [
        "# ASSIGNMENTS \n",
        "## Send it before 0000 hrs IST or 12 AM Wednesday\n",
        "\n",
        "## NOTE: Evaluation will be done before next class.\n",
        "\n",
        "## HOW TO SUBMIT: -\n",
        "Download this notebook, Solve it and upload in the google form given in the mail."
      ],
      "metadata": {
        "id": "dkGbTD94s6CD"
      }
    },
    {
      "cell_type": "markdown",
      "source": [
        "## control flow and conditional statements"
      ],
      "metadata": {
        "id": "n3FuI-mutNl6"
      }
    },
    {
      "cell_type": "markdown",
      "source": [
        "Q1. Find the largest number from the given list, use for loop.\n",
        "\n",
        "```\n",
        "numbers = [12, 75, 150, 180, 145, 525, 50]\n",
        "```"
      ],
      "metadata": {
        "id": "NCW2epdyuJ-a"
      }
    },
    {
      "cell_type": "code",
      "source": [
        "numbers = [12, 75, 150, 180, 145, 525, 50]\n",
        "\n",
        "a = numbers[0]\n",
        "\n",
        "for i in range(len(numbers)):\n",
        "  b = numbers[i]\n",
        "  if b >= a:\n",
        "    a = b\n",
        "\n",
        "print(f\"The largest number is the given list is: {a}\")\n",
        "\n"
      ],
      "metadata": {
        "colab": {
          "base_uri": "https://localhost:8080/"
        },
        "id": "peMPOqV_338Z",
        "outputId": "928ebf13-7061-49c1-8ee5-44acf0194dc4"
      },
      "execution_count": null,
      "outputs": [
        {
          "output_type": "stream",
          "name": "stdout",
          "text": [
            "The largest number is the given list is: 525\n"
          ]
        }
      ]
    },
    {
      "cell_type": "markdown",
      "source": [
        "Q2. Print all the even number between (1, 12)."
      ],
      "metadata": {
        "id": "Qsg0i1fTwEQj"
      }
    },
    {
      "cell_type": "code",
      "source": [
        "print(\"The even numbers between 1 and 12 are: \")\n",
        "for i in range(1, 12):\n",
        "  if i % 2 == 0:\n",
        "    print(i)"
      ],
      "metadata": {
        "colab": {
          "base_uri": "https://localhost:8080/"
        },
        "id": "OGgibYn2BX4X",
        "outputId": "d2965ee8-523f-4679-8931-1f1efad35fc0"
      },
      "execution_count": null,
      "outputs": [
        {
          "output_type": "stream",
          "name": "stdout",
          "text": [
            "The even numbers between 1 and 12 are: \n",
            "2\n",
            "4\n",
            "6\n",
            "8\n",
            "10\n"
          ]
        }
      ]
    },
    {
      "cell_type": "markdown",
      "source": [
        "Q3. Calculate the sum of all numbers from 1 to a given number\n",
        "    \n",
        "    Expected Output:\n",
        "\n",
        "    Enter number 10\n",
        "    \n",
        "    Sum is:  55\n"
      ],
      "metadata": {
        "id": "WG2QcDDhwi4a"
      }
    },
    {
      "cell_type": "code",
      "source": [
        "num = int(input(\"Enter number \"))\n",
        "\n",
        "print(\"\")\n",
        "sum = 0\n",
        "for i in range(num + 1):\n",
        "  sum += i\n",
        "print(f\"Sum is: {sum}\")"
      ],
      "metadata": {
        "colab": {
          "base_uri": "https://localhost:8080/"
        },
        "id": "_NlgWwkQB1SF",
        "outputId": "2b510217-869a-4b42-a989-07c3bd43cad4"
      },
      "execution_count": null,
      "outputs": [
        {
          "output_type": "stream",
          "name": "stdout",
          "text": [
            "Enter number 10\n",
            "\n",
            "Sum is: 55\n"
          ]
        }
      ]
    },
    {
      "cell_type": "markdown",
      "source": [
        "Q4. Write a program to display only those numbers from a list that satisfy the following conditions\n",
        "\n",
        "- The number must be divisible by five\n",
        "\n",
        "- If the number is greater than 150, then skip it and move to the next number\n",
        "\n",
        "- If the number is greater than 500, then stop the loop"
      ],
      "metadata": {
        "id": "mc7lLUm5f4Cq"
      }
    },
    {
      "cell_type": "code",
      "source": [
        "# Given:\n",
        "\n",
        "numbers = [12, 75, 150, 180, 145, 525, 50]\n",
        "\n",
        "for num in numbers:\n",
        "    if num%5 == 0:\n",
        "        if num > 500:\n",
        "            break\n",
        "        if num > 150:\n",
        "            continue\n",
        "        print(num)"
      ],
      "metadata": {
        "id": "P3Ct2ocKf6Hy",
        "colab": {
          "base_uri": "https://localhost:8080/"
        },
        "outputId": "6dbf3b75-fe75-4353-f805-caa13e0e98f7"
      },
      "execution_count": 2,
      "outputs": [
        {
          "output_type": "stream",
          "name": "stdout",
          "text": [
            "75\n",
            "150\n",
            "145\n"
          ]
        }
      ]
    },
    {
      "cell_type": "markdown",
      "source": [
        "Q5. Print the given list in reverse order.\n",
        "\n",
        "```\n",
        "list1 = [10, 20, 30, 40, 50]\n",
        "```"
      ],
      "metadata": {
        "id": "rrxWvy7nMnAs"
      }
    },
    {
      "cell_type": "code",
      "source": [
        "list1 = [10, 20, 30, 40, 50]\n",
        "\n",
        "i = len(list1)\n",
        "list1_reverse = []\n",
        "\n",
        "while i > 0:\n",
        "  list1_reverse.append(list1[i-1])\n",
        "  i -= 1\n",
        "\n",
        "print(f\"The reverse of the given list is: {list1_reverse}\")"
      ],
      "metadata": {
        "id": "z-GDgPn3Nr0y",
        "colab": {
          "base_uri": "https://localhost:8080/"
        },
        "outputId": "6e78899e-f782-4df8-a600-3669aa977186"
      },
      "execution_count": null,
      "outputs": [
        {
          "output_type": "stream",
          "name": "stdout",
          "text": [
            "The reverse of the given list is: [50, 40, 30, 20, 10]\n"
          ]
        }
      ]
    },
    {
      "cell_type": "code",
      "source": [],
      "metadata": {
        "id": "hi8qLJxwFWIt"
      },
      "execution_count": null,
      "outputs": []
    }
  ]
}
