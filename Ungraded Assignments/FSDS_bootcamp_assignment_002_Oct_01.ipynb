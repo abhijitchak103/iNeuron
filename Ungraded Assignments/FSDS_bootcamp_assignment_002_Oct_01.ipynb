{
  "nbformat": 4,
  "nbformat_minor": 0,
  "metadata": {
    "colab": {
      "provenance": [],
      "collapsed_sections": [],
      "include_colab_link": true
    },
    "kernelspec": {
      "name": "python3",
      "display_name": "Python 3"
    },
    "language_info": {
      "name": "python"
    }
  },
  "cells": [
    {
      "cell_type": "markdown",
      "metadata": {
        "id": "view-in-github",
        "colab_type": "text"
      },
      "source": [
        "<a href=\"https://colab.research.google.com/github/abhijitchak103/iNeuron/blob/Ungraded-Assignments/FSDS_bootcamp_assignment_002_Oct_01.ipynb\" target=\"_parent\"><img src=\"https://colab.research.google.com/assets/colab-badge.svg\" alt=\"Open In Colab\"/></a>"
      ]
    },
    {
      "cell_type": "markdown",
      "source": [
        "# ASSIGNMENTS - Compulsory\n",
        "## Send it before 0000 hrs IST or 12 AM Wednesday\n",
        "\n",
        "## NOTE: Evaluation will be done before next class.\n",
        "\n",
        "## HOW TO SUBMIT: -\n",
        "Download this notebook, Solve it and upload in the google form given in the mail."
      ],
      "metadata": {
        "id": "cyOfbWCdOjEr"
      }
    },
    {
      "cell_type": "markdown",
      "source": [
        "## Solutions"
      ],
      "metadata": {
        "id": "3dr942UwVh3n"
      }
    },
    {
      "cell_type": "markdown",
      "source": [
        "1. What is indentation error? Why indentation is important? Give one simple example?\n",
        "\n",
        "Identation error happens when the subsequent lines of codes are not given proper spaces.\n",
        "\n",
        "It is important as it tells the computer the sequence of steps it needs to follow to run the program without errors.\n",
        "\n",
        "Example: in an if-else conditional:\n",
        "\n",
        "```python\n",
        "if a == 1:\n",
        " print(\"a = 1\")\n",
        "else:\n",
        " print(\"a is not equal 1\")\n",
        "```"
      ],
      "metadata": {
        "id": "-OOMCXY7VfGC"
      }
    },
    {
      "cell_type": "code",
      "source": [
        "# in case of indentation error\n",
        "a = 1\n",
        "\n",
        "if a == 1:\n",
        "print(\"a = 1\")\n",
        "else:\n",
        "print(\"a is not equal to 1\")"
      ],
      "metadata": {
        "colab": {
          "base_uri": "https://localhost:8080/",
          "height": 130
        },
        "id": "xQeiSwdNzul6",
        "outputId": "05d33dd6-2da7-4600-b859-231c5991cb1d"
      },
      "execution_count": null,
      "outputs": [
        {
          "output_type": "error",
          "ename": "IndentationError",
          "evalue": "ignored",
          "traceback": [
            "\u001b[0;36m  File \u001b[0;32m\"<ipython-input-43-804af1617761>\"\u001b[0;36m, line \u001b[0;32m5\u001b[0m\n\u001b[0;31m    print(\"a = 1\")\u001b[0m\n\u001b[0m        ^\u001b[0m\n\u001b[0;31mIndentationError\u001b[0m\u001b[0;31m:\u001b[0m expected an indented block\n"
          ]
        }
      ]
    },
    {
      "cell_type": "markdown",
      "source": [
        "2. Correct the following code and write the comment where you made the correction?\n",
        "\n",
        "  ```python\n",
        "  class_started = bool(input(\"Hey friend, is class started?: [0-False/1-True]\"))\n",
        "\n",
        "  if class_started:\n",
        "      print(\"Since class started...\")\n",
        "      print(\"Lets concentrate\")\n",
        "  else:\n",
        "      print(\"Since class is not started...\")\n",
        "      print(\"let's revise\")    \n",
        "  ```"
      ],
      "metadata": {
        "id": "9zZWTI8ua86J"
      }
    },
    {
      "cell_type": "code",
      "execution_count": null,
      "metadata": {
        "id": "XumyqFp6MHnv",
        "colab": {
          "base_uri": "https://localhost:8080/"
        },
        "outputId": "28893c92-8b89-49e4-b05e-ce7d2c1e339d"
      },
      "outputs": [
        {
          "output_type": "stream",
          "name": "stdout",
          "text": [
            "Hey friend, is class started?: [0-False/1-True]0\n",
            "Since class is not started...\n",
            "let's revise\n"
          ]
        }
      ],
      "source": [
        "class_started = input(\"Hey friend, is class started?: [0-False/1-True]\")  # taking a string input\n",
        "\n",
        "if class_started == \"1\": # using string character equality\n",
        "   print(\"Since class started...\")\n",
        "   print(\"Lets concentrate\")\n",
        "else:\n",
        "   print(\"Since class is not started...\")\n",
        "   print(\"let's revise\")"
      ]
    },
    {
      "cell_type": "markdown",
      "source": [
        "3. Use if else condition to verify that dataype of input() method in python is always string."
      ],
      "metadata": {
        "id": "3MFMJJ8gcxx9"
      }
    },
    {
      "cell_type": "code",
      "source": [
        "user_input = input(\"Provide an input: \")\n",
        "\n",
        "if type(user_input) == str:\n",
        "  print(\"User Input using input() is of string datatype.\")\n",
        "else:\n",
        "  print(\"User input is of a datatype other than string.\")"
      ],
      "metadata": {
        "id": "y-PBGlVaZzBg",
        "colab": {
          "base_uri": "https://localhost:8080/"
        },
        "outputId": "85dcb7b4-4e8e-4caa-d6c9-d0479916aaf7"
      },
      "execution_count": null,
      "outputs": [
        {
          "output_type": "stream",
          "name": "stdout",
          "text": [
            "Provide an input: try\n",
            "User Input using input() is of string datatype.\n"
          ]
        }
      ]
    },
    {
      "cell_type": "code",
      "source": [
        "user_input = input(\"Provide an input: \")\n",
        "\n",
        "if type(user_input) == str:\n",
        "  print(\"User Input using input() is of string datatype.\")\n",
        "else:\n",
        "  print(\"User input is of a datatype other than string.\")"
      ],
      "metadata": {
        "colab": {
          "base_uri": "https://localhost:8080/"
        },
        "id": "3lKSUdpTdWaN",
        "outputId": "167c2d16-f698-4841-f798-c43e09be1f0a"
      },
      "execution_count": null,
      "outputs": [
        {
          "output_type": "stream",
          "name": "stdout",
          "text": [
            "Provide an input: 56\n",
            "User Input using input() is of string datatype.\n"
          ]
        }
      ]
    },
    {
      "cell_type": "code",
      "source": [
        "user_input = input(\"Provide an input: \")\n",
        "\n",
        "if type(user_input) == str:\n",
        "  print(\"User Input using input() is of string datatype.\")\n",
        "else:\n",
        "  print(\"User input is of a datatype other than string.\")"
      ],
      "metadata": {
        "colab": {
          "base_uri": "https://localhost:8080/"
        },
        "id": "lmockFjAdd8g",
        "outputId": "7d400f42-fc64-4930-fbd2-7da196373a0d"
      },
      "execution_count": null,
      "outputs": [
        {
          "output_type": "stream",
          "name": "stdout",
          "text": [
            "Provide an input: True\n",
            "User Input using input() is of string datatype.\n"
          ]
        }
      ]
    },
    {
      "cell_type": "code",
      "source": [
        "user_input = input(\"Provide an input: \")\n",
        "\n",
        "if type(user_input) == str:\n",
        "  print(\"User Input using input() is of string datatype.\")\n",
        "else:\n",
        "  print(\"User input is of a datatype other than string.\")"
      ],
      "metadata": {
        "colab": {
          "base_uri": "https://localhost:8080/"
        },
        "id": "c8i6RIY1dhFx",
        "outputId": "22f87301-2b8e-4e4b-d576-709b450f09bd"
      },
      "execution_count": null,
      "outputs": [
        {
          "output_type": "stream",
          "name": "stdout",
          "text": [
            "Provide an input: 75.2\n",
            "User Input using input() is of string datatype.\n"
          ]
        }
      ]
    },
    {
      "cell_type": "code",
      "source": [
        "user_input = input(\"Provide an input: \")\n",
        "\n",
        "if type(user_input) == str:\n",
        "  print(\"User Input using input() is of string datatype.\")\n",
        "else:\n",
        "  print(\"User input is of a datatype other than string.\")"
      ],
      "metadata": {
        "colab": {
          "base_uri": "https://localhost:8080/"
        },
        "id": "t5QfR1VqdmYg",
        "outputId": "29461670-ffb0-480c-8b3e-e86642e467f6"
      },
      "execution_count": null,
      "outputs": [
        {
          "output_type": "stream",
          "name": "stdout",
          "text": [
            "Provide an input: 2+9j\n",
            "User Input using input() is of string datatype.\n"
          ]
        }
      ]
    },
    {
      "cell_type": "markdown",
      "source": [
        "Hence, it is proved that `input()` method always provides a string datatype by default."
      ],
      "metadata": {
        "id": "4igaqns6dtmd"
      }
    },
    {
      "cell_type": "markdown",
      "source": [
        "4. Take 3 variables and assign integer values to them. Find the largest variable, by only using the if and else conditions"
      ],
      "metadata": {
        "id": "sAEJgy7keB1x"
      }
    },
    {
      "cell_type": "code",
      "source": [
        "a = int(input(\"Please enter the first integer: \"))\n",
        "b = int(input(\"Please enter the second integer: \"))\n",
        "c = int(input(\"Please enter the third integer: \"))\n",
        "\n",
        "if (a - b > 0) and (a - c > 0):\n",
        "  print(f\"{a} is the largest integer.\")\n",
        "elif (b - a > 0) and (b - c > 0):\n",
        "  print(f\"{b} is the largest integer\")\n",
        "else:\n",
        "  print(f\"{c} is the largest integer\")"
      ],
      "metadata": {
        "colab": {
          "base_uri": "https://localhost:8080/"
        },
        "id": "dOYBRHO6dqrQ",
        "outputId": "68c09afc-d961-4c9d-9c02-58a0b5e5760e"
      },
      "execution_count": null,
      "outputs": [
        {
          "output_type": "stream",
          "name": "stdout",
          "text": [
            "Please enter the first integer: 8\n",
            "Please enter the second integer: 6\n",
            "Please enter the third integer: 3\n",
            "8 is the largest integer.\n"
          ]
        }
      ]
    },
    {
      "cell_type": "markdown",
      "source": [
        "5. What would be the solution?\n",
        "    1. True\n",
        "    2. False\n",
        "\n",
        "    ```python\n",
        "    a = 6\n",
        "    b = 10\n",
        "    print( not ( not a == 10 or not b == 10) )\n",
        "    ```\n",
        "\n",
        "Answer: \n",
        "  - (not(not False or not True))\n",
        "  - (not(True or False))\n",
        "  - (not True)\n",
        "  - False\n",
        "    "
      ],
      "metadata": {
        "id": "oMHvQ_8cfWr7"
      }
    },
    {
      "cell_type": "markdown",
      "source": [
        "6. Find the answer as well as find out the reason behind the result? -\n",
        "    - case 1:\n",
        "        ```python\n",
        "        A = 5.0\n",
        "        B = 10/2\n",
        "        print(A is B)\n",
        "        ```\n",
        "    - case 2:\n",
        "        ```python\n",
        "        A = 5.0\n",
        "        B = int(10/2)\n",
        "        print(A is B)\n",
        "        ```\n",
        "    - case 3:\n",
        "        ```python\n",
        "        A = 5.0\n",
        "        B = float(10/2)\n",
        "        print(A is B)\n",
        "        ```"
      ],
      "metadata": {
        "id": "sAjVBZ4lgOBZ"
      }
    },
    {
      "cell_type": "code",
      "source": [
        "# case 1\n",
        "\n",
        "A = 5.0\n",
        "B = 10/2\n",
        "print(A is B)"
      ],
      "metadata": {
        "colab": {
          "base_uri": "https://localhost:8080/"
        },
        "id": "zzOk8SLoe7TX",
        "outputId": "95c2bb50-deb4-41d2-d992-1778f3aa88af"
      },
      "execution_count": null,
      "outputs": [
        {
          "output_type": "stream",
          "name": "stdout",
          "text": [
            "False\n"
          ]
        }
      ]
    },
    {
      "cell_type": "code",
      "source": [
        "print(f\"id of A is: {id(A)}\")\n",
        "print(f\"id of B is: {id(B)}\")\n",
        "\n",
        "print(\"\"\"Since id of A and B are different...\n",
        "The answer of A is B is False.\"\"\")"
      ],
      "metadata": {
        "colab": {
          "base_uri": "https://localhost:8080/"
        },
        "id": "qxykWLokgYjD",
        "outputId": "3fde9f0c-ebb7-43de-cb72-bf7dea9de147"
      },
      "execution_count": null,
      "outputs": [
        {
          "output_type": "stream",
          "name": "stdout",
          "text": [
            "id of A is: 140156214426160\n",
            "id of B is: 140156214427472\n",
            "Since id of A and B are different...\n",
            "The answer of A is B is False.\n"
          ]
        }
      ]
    },
    {
      "cell_type": "code",
      "source": [
        "# case 2\n",
        "\n",
        "A = 5.0\n",
        "B = int(10/2)\n",
        "print(A is B)"
      ],
      "metadata": {
        "colab": {
          "base_uri": "https://localhost:8080/"
        },
        "id": "A3Qqi5K3gbFQ",
        "outputId": "43b6fa95-a8d2-43d5-e6c5-2d4d9f66d42e"
      },
      "execution_count": null,
      "outputs": [
        {
          "output_type": "stream",
          "name": "stdout",
          "text": [
            "False\n"
          ]
        }
      ]
    },
    {
      "cell_type": "code",
      "source": [
        "print(\"\"\"Since datatypes of A and B are different, \n",
        "id of A and B are also different...\n",
        "The answer of A is B is False.\"\"\")"
      ],
      "metadata": {
        "colab": {
          "base_uri": "https://localhost:8080/"
        },
        "id": "uqhZSgMPhBIx",
        "outputId": "ed8366b8-6f9a-4655-af4e-5595ffbcef7c"
      },
      "execution_count": null,
      "outputs": [
        {
          "output_type": "stream",
          "name": "stdout",
          "text": [
            "Since datatypes of A and B are different, \n",
            "id of A and B are also different...\n",
            "The answer of A is B is False.\n"
          ]
        }
      ]
    },
    {
      "cell_type": "code",
      "source": [
        "# case 3\n",
        "\n",
        "A = 5.0\n",
        "B = float(10/2)\n",
        "print(A is B)"
      ],
      "metadata": {
        "colab": {
          "base_uri": "https://localhost:8080/"
        },
        "id": "L0oWqVknhD8A",
        "outputId": "2195d6bd-19ed-4df7-f1b9-fb45edc9b1fe"
      },
      "execution_count": null,
      "outputs": [
        {
          "output_type": "stream",
          "name": "stdout",
          "text": [
            "False\n"
          ]
        }
      ]
    },
    {
      "cell_type": "code",
      "source": [
        "print(f\"id of A is: {id(A)}\")\n",
        "print(f\"id of B is: {id(B)}\")\n",
        "\n",
        "print(\"\"\"Although the datatypes of A and B are same,\n",
        "id of A and B are different...\n",
        "The answer of A is B is False.\"\"\")"
      ],
      "metadata": {
        "colab": {
          "base_uri": "https://localhost:8080/"
        },
        "id": "LTwvV0xKhZ02",
        "outputId": "b493867b-fc94-4cf3-e886-1d28b73f730c"
      },
      "execution_count": null,
      "outputs": [
        {
          "output_type": "stream",
          "name": "stdout",
          "text": [
            "id of A is: 140156214534608\n",
            "id of B is: 140156214424048\n",
            "Although the datatypes of A and B are same,\n",
            "id of A and B are different...\n",
            "The answer of A is B is False.\n"
          ]
        }
      ]
    },
    {
      "cell_type": "markdown",
      "source": [
        "7. Write a program that asks the user to enter a number. You should print out a message to the user, either “That number is divisible by either 3 or 5”, or “That number is not divisible by either 3 or 5”. Be sure to consider the data type of the input you are taking in from the user. Use a single if/else block to solve this problem."
      ],
      "metadata": {
        "id": "C0Z62q8XiCaZ"
      }
    },
    {
      "cell_type": "code",
      "source": [
        "user_input = float(input(\"Please enter a number: \"))\n",
        "\n",
        "if user_input % 3 == 0 or user_input % 5 == 0:\n",
        "  print(f\"The number {user_input} is divisible by either 3 or 5.\")\n",
        "else:\n",
        "  print(f\"The number {user_input} is not divisible by either 3 or 5.\")"
      ],
      "metadata": {
        "colab": {
          "base_uri": "https://localhost:8080/"
        },
        "id": "IJH_rQHxhebF",
        "outputId": "e0a1bec6-c9d2-4954-8f01-371dc6dc5b1e"
      },
      "execution_count": null,
      "outputs": [
        {
          "output_type": "stream",
          "name": "stdout",
          "text": [
            "Please enter a number: 14\n",
            "The number 14.0 is not divisible by either 3 or 5.\n"
          ]
        }
      ]
    },
    {
      "cell_type": "markdown",
      "source": [
        "8. Take user input for length and width. Then calculate the area of rectangle. Also print as per length and width whether its a square of rectangle."
      ],
      "metadata": {
        "id": "aCXTpywPvKz4"
      }
    },
    {
      "cell_type": "code",
      "source": [
        "length = float(input(\"Please enter the length of the rectangle: \"))\n",
        "width = float(input(\"Please enter the width of the rectangle: \"))\n",
        "\n",
        "print(\"---------------------------------\")\n",
        "print(f\"The area of the rectangle with length {length} units and width {width} units is {length*width} sq.units.\")\n",
        "print(\"---------------------------------\")\n",
        "\n",
        "if length == width:\n",
        "  print(\"The quadrilateral is a square.\")\n",
        "else:\n",
        "  print(\"The quadrilateral is a rectangle.\")"
      ],
      "metadata": {
        "colab": {
          "base_uri": "https://localhost:8080/"
        },
        "id": "2Dhkd2Qxu2D1",
        "outputId": "e8045f22-cbd6-4660-f6c3-626251a33ae5"
      },
      "execution_count": null,
      "outputs": [
        {
          "output_type": "stream",
          "name": "stdout",
          "text": [
            "Please enter the length of the rectangle: 2\n",
            "Please enter the width of the rectangle: 2\n",
            "---------------------------------\n",
            "The area of the rectangle with length 2.0 units and width 2.0 units is 4.0 sq.units.\n",
            "---------------------------------\n",
            "The quadrilateral is a square.\n"
          ]
        }
      ]
    },
    {
      "cell_type": "markdown",
      "source": [
        "9. Take two variable radius_1 and radius_2 and calculate the area of circle_1 and circle_2. Also print which circle has large area. If area is equal then print area is equal."
      ],
      "metadata": {
        "id": "89Qqgg69wRhJ"
      }
    },
    {
      "cell_type": "code",
      "source": [
        "radius_1 = float(input(\"Please enter the radius of Circle 1: \"))\n",
        "radius_2 = float(input(\"Please enter the radius of Circle 2: \"))\n",
        "\n",
        "print(\"\\n\")\n",
        "print(f\"The area of Circle 1 with radius {radius_1} is {3.14*(radius_1**2)} sq. units.\")\n",
        "print(f\"The area of Circle 2 with radius {radius_2} is {3.14*(radius_2**2)} sq. units.\")\n",
        "print(\"\\n\")\n",
        "\n",
        "if radius_1 > radius_2:\n",
        "  print(\"Circle 1 has larger area.\")\n",
        "elif radius_2 > radius_1:\n",
        "  print(\"Circle 2 has larger area.\")\n",
        "else:\n",
        "  print(\"Area is equal.\")"
      ],
      "metadata": {
        "colab": {
          "base_uri": "https://localhost:8080/"
        },
        "id": "A9ZIAdxgu7dl",
        "outputId": "70b2eeff-8f89-4f8d-b4f1-f18622d122f5"
      },
      "execution_count": null,
      "outputs": [
        {
          "output_type": "stream",
          "name": "stdout",
          "text": [
            "Please enter the radius of Circle 1: 3\n",
            "Please enter the radius of Circle 2: 3\n",
            "\n",
            "\n",
            "The area of Circle 1 with radius 3.0 is 28.26 sq. units.\n",
            "The area of Circle 2 with radius 3.0 is 28.26 sq. units.\n",
            "\n",
            "\n",
            "Area is equal.\n"
          ]
        }
      ]
    },
    {
      "cell_type": "markdown",
      "source": [
        "10. Check whether a year is leap year or not. Use nested if...else to solve this problem. A leap year is exactly divisible by 4 except for century years (years ending with 00). The century year is a leap year only if it is perfectly divisible by 400."
      ],
      "metadata": {
        "id": "KOPU_8sAxgXy"
      }
    },
    {
      "cell_type": "code",
      "source": [
        "year = int(input(\"Please enter a year to check for leap year: \"))\n",
        "\n",
        "print(\"\")\n",
        "if year % 100 == 0:\n",
        "  if year % 400 == 0:\n",
        "    print(f\"Year {year} is a leap year.\")\n",
        "  else:\n",
        "    print(f\"Year {year} is not a leap year.\")\n",
        "else:\n",
        "  if year % 4 == 0:\n",
        "    print(f\"Year {year} is a leap year.\")\n",
        "  else:\n",
        "    print(f\"Year {year} is not a leap year.\")"
      ],
      "metadata": {
        "colab": {
          "base_uri": "https://localhost:8080/"
        },
        "id": "q-ZPfJm8xRn_",
        "outputId": "8c3ce48d-a733-49c3-87aa-0846fec740e8"
      },
      "execution_count": null,
      "outputs": [
        {
          "output_type": "stream",
          "name": "stdout",
          "text": [
            "Please enter a year to check for leap year: 2000\n",
            "\n",
            "Year 2000 is a leap year.\n"
          ]
        }
      ]
    },
    {
      "cell_type": "code",
      "source": [],
      "metadata": {
        "id": "O2ByDKHVzMt1"
      },
      "execution_count": null,
      "outputs": []
    }
  ]
}
