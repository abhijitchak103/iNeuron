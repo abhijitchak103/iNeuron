{
  "nbformat": 4,
  "nbformat_minor": 0,
  "metadata": {
    "colab": {
      "provenance": [],
      "collapsed_sections": [],
      "include_colab_link": true
    },
    "kernelspec": {
      "name": "python3",
      "display_name": "Python 3"
    },
    "language_info": {
      "name": "python"
    }
  },
  "cells": [
    {
      "cell_type": "markdown",
      "metadata": {
        "id": "view-in-github",
        "colab_type": "text"
      },
      "source": [
        "<a href=\"https://colab.research.google.com/github/abhijitchak103/iNeuron/blob/Ungraded-Assignments/FSDS_bootcamp_assignment_003_Oct_08.ipynb\" target=\"_parent\"><img src=\"https://colab.research.google.com/assets/colab-badge.svg\" alt=\"Open In Colab\"/></a>"
      ]
    },
    {
      "cell_type": "markdown",
      "source": [
        "# ASSIGNMENTS - Compulsory\n",
        "## Send it before 0000 hrs IST or 12 AM Wednesday\n",
        "\n",
        "## NOTE: Evaluation will be done before next class.\n",
        "\n",
        "## HOW TO SUBMIT: -\n",
        "Download this notebook, Solve it and upload in the google form given in the mail."
      ],
      "metadata": {
        "id": "cyOfbWCdOjEr"
      }
    },
    {
      "cell_type": "markdown",
      "source": [
        "## Python String Manipulation\n",
        "\n",
        "\n",
        "\n",
        "\n",
        "\n",
        "\n",
        "\n",
        "\n",
        "\n"
      ],
      "metadata": {
        "id": "GT4IytkJMNa-"
      }
    },
    {
      "cell_type": "markdown",
      "source": [
        "## Solutions"
      ],
      "metadata": {
        "id": "bLfs5TSIqB_P"
      }
    },
    {
      "cell_type": "markdown",
      "source": [
        "1. Count the number of times `iNeuron` appears in the string.\n",
        "```python\n",
        "text = \"Welcome to iNeuron, You are a part of FSDS Bootcamp 2 in iNeuron. I hope you are enjoying the course by iNeuron\"\n",
        "```"
      ],
      "metadata": {
        "id": "PfhB6R8NpFT5"
      }
    },
    {
      "cell_type": "code",
      "source": [
        "text = \"Welcome to iNeuron, You are a part of FSDS Bootcamp 2 in iNeuron. I hope you are enjoying the course by iNeuron\"\n",
        "\n",
        "text_count = text.count(\"iNeuron\")\n",
        "\n",
        "print(f\"\"\"The number of times \"iNeuron\" occurs is: {text_count}\"\"\")"
      ],
      "metadata": {
        "id": "KwVni9gipNi-",
        "colab": {
          "base_uri": "https://localhost:8080/"
        },
        "outputId": "e147bf63-f82d-42ba-c7e8-7d6e55313527"
      },
      "execution_count": null,
      "outputs": [
        {
          "output_type": "stream",
          "name": "stdout",
          "text": [
            "The number of times \"iNeuron\" occurs is: 3\n"
          ]
        }
      ]
    },
    {
      "cell_type": "markdown",
      "source": [
        "2. Check if position `5` to `11` ends with the phrase `iNeuron.` in the string \n",
        "```python\n",
        "txt = \"Hello, welcome to FSDS 2.0 at iNeuron.\"\n",
        "```"
      ],
      "metadata": {
        "id": "vi_HiLgyqLxP"
      }
    },
    {
      "cell_type": "code",
      "source": [
        "txt = \"hello, welcome to FSDS 2.0 at iNeuron.\"\n",
        "\n",
        "txt[5:12].endswith(\"iNeuron.\")"
      ],
      "metadata": {
        "colab": {
          "base_uri": "https://localhost:8080/"
        },
        "id": "spOqSuglpwTT",
        "outputId": "34113902-af72-4f6b-b7f7-d9ad543844f7"
      },
      "execution_count": null,
      "outputs": [
        {
          "output_type": "execute_result",
          "data": {
            "text/plain": [
              "False"
            ]
          },
          "metadata": {},
          "execution_count": 4
        }
      ]
    },
    {
      "cell_type": "markdown",
      "source": [
        "3. Write a program that takes your full name as input and displays the abbreviations of the first and middle names except the last name which is displayed as it is. For example, if your name is Sunny Bhaveen Chandra, then the output should be S.B.Chandra."
      ],
      "metadata": {
        "id": "1cpgQM4_rcWK"
      }
    },
    {
      "cell_type": "code",
      "source": [
        "name = input(\"Enter your name: \")\n",
        "\n",
        "name_list = name.split(\" \")\n",
        "result = name_list[0][0] + \".\" + name_list[1][0] + \".\" + name_list[2]\n",
        "\n",
        "print(f\"The abbreviated name is {result}\")"
      ],
      "metadata": {
        "colab": {
          "base_uri": "https://localhost:8080/"
        },
        "id": "7sO3UcajqjHA",
        "outputId": "e71566cd-ca8b-4117-dbbc-f7d80a7a0544"
      },
      "execution_count": null,
      "outputs": [
        {
          "output_type": "stream",
          "name": "stdout",
          "text": [
            "Enter your name: Abhijit Joy Chakraborty\n",
            "The abbreviated name is A.J.Chakraborty\n"
          ]
        }
      ]
    },
    {
      "cell_type": "markdown",
      "source": [
        "4. Join all items in a list into a string, using a hash(`#`) character as separator:\n",
        "```python\n",
        "LIST = [\"My\", \"name\", \"is\", \"Rishav\", \"Dash\"]\n",
        "```"
      ],
      "metadata": {
        "id": "ksvMWgoHs_ja"
      }
    },
    {
      "cell_type": "code",
      "source": [
        "LIST = [\"My\", \"name\", \"is\", \"Rishav\", \"Dash\"]\n",
        "\n",
        "list_string = \"#\".join(LIST)\n",
        "print(f\"The joined string of elements in LIST is: \\n{list_string}\")"
      ],
      "metadata": {
        "colab": {
          "base_uri": "https://localhost:8080/"
        },
        "id": "qmtNEjzfsXa8",
        "outputId": "a519d026-2c44-4ebf-9d38-ba4096cdbdec"
      },
      "execution_count": null,
      "outputs": [
        {
          "output_type": "stream",
          "name": "stdout",
          "text": [
            "The joined string of elements in LIST is: \n",
            "My#name#is#Rishav#Dash\n"
          ]
        }
      ]
    },
    {
      "cell_type": "markdown",
      "source": [
        "5. Write example for the following string manipulation function,\n",
        "\n",
        "  ```\n",
        "  - isdecimal()\n",
        "  - islower()\n",
        "  - isupper()\n",
        "  - isalpha()\n",
        "  - isnumeric()\n",
        "\n",
        "  ```"
      ],
      "metadata": {
        "id": "ZRx7yUtTthBF"
      }
    },
    {
      "cell_type": "code",
      "source": [
        "# Test for isdecimal()\n",
        "\n",
        "test = \"8567\"\n",
        "print(f\"The result for `isdecimal()` on {test} is {test.isdecimal()}\")\n",
        "print(\"--------------------------------------------------\")\n",
        "\n",
        "# Test for islower()\n",
        "\n",
        "test = \"ABHIJIT\"\n",
        "print(f\"The result for `islower()` on {test} is {test.islower()}\")\n",
        "print(\"--------------------------------------------------\")\n",
        "\n",
        "# Test for isupper()\n",
        "\n",
        "test = \"ABHIJIT\"\n",
        "print(f\"The result for `isupper()` on {test} is {test.isupper()}\")\n",
        "print(\"--------------------------------------------------\")\n",
        "\n",
        "# Test for isalpha()\n",
        "\n",
        "test = \"ABHIJIT\"\n",
        "print(f\"The result for `isalpha()` on {test} is {test.isalpha()}\")\n",
        "print(\"--------------------------------------------------\")\n",
        "\n",
        "# Test for isnumeric()\n",
        "\n",
        "test = \"8567\"\n",
        "print(f\"The result for `isnumeric()` on {test} is {test.isnumeric()}\")"
      ],
      "metadata": {
        "colab": {
          "base_uri": "https://localhost:8080/"
        },
        "id": "I8jbjmIVtVs6",
        "outputId": "6dc0bf0f-511c-4430-a656-c759fce667c1"
      },
      "execution_count": null,
      "outputs": [
        {
          "output_type": "stream",
          "name": "stdout",
          "text": [
            "The result for `isdecimal()` on 8567 is True\n",
            "--------------------------------------------------\n",
            "The result for `islower()` on ABHIJIT is False\n",
            "--------------------------------------------------\n",
            "The result for `isupper()` on ABHIJIT is True\n",
            "--------------------------------------------------\n",
            "The result for `isalpha()` on ABHIJIT is True\n",
            "--------------------------------------------------\n",
            "The result for `isnumeric()` on 8567 is True\n"
          ]
        }
      ]
    },
    {
      "cell_type": "markdown",
      "source": [
        "6. Indian PAN card format follows the following formats - \n",
        "    - `AYEPC7894X`\n",
        "    - `ABCDE9999Y`\n",
        "  Take user input for PAN_CARD and validate as per the above example."
      ],
      "metadata": {
        "id": "4PVJ3gi8uzfQ"
      }
    },
    {
      "cell_type": "code",
      "source": [
        "pan = input(\"Enter a PAN number: \")\n",
        "\n",
        "if pan[:5].isalpha() and pan[5:9].isdigit() and pan[-1].isalpha():\n",
        "  print(f\"{pan} is a VALID PAN number.\")\n",
        "else:\n",
        "  print(\"PAN entered is incorrect.\")"
      ],
      "metadata": {
        "colab": {
          "base_uri": "https://localhost:8080/"
        },
        "id": "Rh5ROCmVuc-e",
        "outputId": "ed9e86b4-2afa-43a5-8ffc-01285ef80241"
      },
      "execution_count": null,
      "outputs": [
        {
          "output_type": "stream",
          "name": "stdout",
          "text": [
            "Enter a PAN number: HTYQR34561\n",
            "PAN entered is incorrect.\n"
          ]
        }
      ]
    }
  ]
}
