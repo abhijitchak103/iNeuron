{
  "nbformat": 4,
  "nbformat_minor": 0,
  "metadata": {
    "colab": {
      "provenance": [],
      "collapsed_sections": [],
      "include_colab_link": true
    },
    "kernelspec": {
      "name": "python3",
      "display_name": "Python 3"
    },
    "language_info": {
      "name": "python"
    }
  },
  "cells": [
    {
      "cell_type": "markdown",
      "metadata": {
        "id": "view-in-github",
        "colab_type": "text"
      },
      "source": [
        "<a href=\"https://colab.research.google.com/github/abhijitchak103/iNeuron/blob/Ungraded-Assignments/FSDS_bootcamp_assignment_005_Oct_16.ipynb\" target=\"_parent\"><img src=\"https://colab.research.google.com/assets/colab-badge.svg\" alt=\"Open In Colab\"/></a>"
      ]
    },
    {
      "cell_type": "markdown",
      "source": [
        "# ASSIGNMENTS \n",
        "## Send it before 0000 hrs IST or 12 AM Friday\n",
        "\n",
        "## NOTE: Evaluation will be done before next class.\n",
        "\n",
        "## HOW TO SUBMIT: -\n",
        "Download this notebook, Solve it and upload in the google form given in the mail."
      ],
      "metadata": {
        "id": "dkGbTD94s6CD"
      }
    },
    {
      "cell_type": "markdown",
      "source": [
        "# List, Tuple and Sets"
      ],
      "metadata": {
        "id": "n3FuI-mutNl6"
      }
    },
    {
      "cell_type": "markdown",
      "source": [
        "#### 1. On amazon website we have the following available items - \n",
        "\n",
        "```python\n",
        "amazon_website = [(\"watch\", 5000), (\"phone\", 10000), (\"laptop\", 50000), (\"shirt\", 1000)]\n",
        "```\n",
        "Take the user input N no. of times and find out the total cost to be paid?\n",
        "\n",
        "OR\n",
        "\n",
        "You can ask the user quntity or the count of item?\n",
        "\n",
        "if the item is not present in the amazon website then print that item as out of stock and do add it total\n",
        "\n",
        "\n",
        "HINT: while, for loop.. indexing"
      ],
      "metadata": {
        "id": "hZcGNSR2y9zW"
      }
    },
    {
      "cell_type": "code",
      "source": [
        "amazon_website = [(\"watch\", 5000), (\"phone\", 10000), (\"laptop\", 50000), (\"shirt\", 1000)]\n",
        "item_dict = dict()\n",
        "\n",
        "for ele in amazon_website:\n",
        "    item_dict[ele[0]] = ele[1]\n",
        "\n",
        "n = int(input(\"How many items do you want? \"))\n",
        "\n",
        "total_cost = 0\n",
        "for i in range(n):\n",
        "    item = input(\"Enter the item name you want: \")\n",
        "    if item in item_dict.keys():\n",
        "        total_cost += item_dict[item]\n",
        "    else:\n",
        "        print(f\"{item} is currently out of stock.\")\n",
        "\n",
        "print(\"---------------------------------------\")\n",
        "print(f\"Your total amount payable is: {total_cost}\")"
      ],
      "metadata": {
        "colab": {
          "base_uri": "https://localhost:8080/"
        },
        "id": "xNAdEi6tjMKe",
        "outputId": "4303e4c7-9efc-4058-8feb-16b14da9f8c2"
      },
      "execution_count": null,
      "outputs": [
        {
          "output_type": "stream",
          "name": "stdout",
          "text": [
            "How many items do you want? 2\n",
            "Enter the item name you want: jeans\n",
            "jeans is currently out of stock.\n",
            "Enter the item name you want: phone\n",
            "---------------------------------------\n",
            "Your total amount payable is: 10000\n"
          ]
        }
      ]
    },
    {
      "cell_type": "markdown",
      "source": [
        "#### 2. What will be the output of the following code snippet?\n",
        "\n",
        "```\n",
        "arr = [1, 2, 3, 4, 5, 6]\n",
        "for i in range(1, 6):\n",
        "    arr[i - 1] = arr[i]\n",
        "for i in range(0, 6): \n",
        "    print(arr[i], end = \" \")\n",
        "```"
      ],
      "metadata": {
        "id": "FQrKC2gzzsUm"
      }
    },
    {
      "cell_type": "code",
      "source": [
        "# 2 3 4 5 6 6\n",
        "\n",
        "# in the first for loop, all values get replaced by the next value in the list\n",
        "# except the last value.\n",
        "\n",
        "# in the second for loop, the numbers are sequentially printed separated by spaces."
      ],
      "metadata": {
        "id": "o_eecEfH0Z-w"
      },
      "execution_count": null,
      "outputs": []
    },
    {
      "cell_type": "markdown",
      "source": [
        "#### 3. Write a Python program to find the repeated items of a tuple."
      ],
      "metadata": {
        "id": "nL_DZJFS0ZZF"
      }
    },
    {
      "cell_type": "code",
      "source": [
        "t = (1,3,4,4,7,7,2,8,8,8)\n",
        "\n",
        "uniq_t = list()\n",
        "rep_t = set()\n",
        "\n",
        "for char in t:\n",
        "    if char not in uniq_t:\n",
        "        uniq_t.append(char)\n",
        "    else:\n",
        "        rep_t.add(char)\n",
        "\n",
        "print(f\"The repeated items of given tuple are: {rep_t}\")"
      ],
      "metadata": {
        "colab": {
          "base_uri": "https://localhost:8080/"
        },
        "id": "-SR6ZEMno8Ce",
        "outputId": "fcbe4e3b-fa8c-4266-ca74-6a20c4925e4c"
      },
      "execution_count": 4,
      "outputs": [
        {
          "output_type": "stream",
          "name": "stdout",
          "text": [
            "The repeated items of given tuple are: {8, 4, 7}\n"
          ]
        }
      ]
    },
    {
      "cell_type": "markdown",
      "source": [
        "#### 4. Replace last value of tuples in a list with 500. Try using list comprehension\n",
        "\n",
        "Example -: \n",
        "```\n",
        "Input -:\n",
        "\n",
        "[(10, 20, 40), (40, 50, 60), (70, 80, 90)]\n",
        "\n",
        "Output -:\n",
        "[(10, 20, 500), (40, 50, 500), (70, 80, 500)]\n",
        "\n",
        "\n",
        "```\n"
      ],
      "metadata": {
        "id": "ne8WpLZZ1GSm"
      }
    },
    {
      "cell_type": "code",
      "source": [
        "a = [(10, 20, 40), (40, 50, 60), (70, 80, 90)]\n",
        "a = [(ele[0], ele[1], 500) for ele in a]\n",
        "\n",
        "a"
      ],
      "metadata": {
        "colab": {
          "base_uri": "https://localhost:8080/"
        },
        "id": "I1x7X8H41K2T",
        "outputId": "3c5d59fa-d8dc-4baa-db78-e19fc81051c3"
      },
      "execution_count": 16,
      "outputs": [
        {
          "output_type": "execute_result",
          "data": {
            "text/plain": [
              "[(10, 20, 500), (40, 50, 500), (70, 80, 500)]"
            ]
          },
          "metadata": {},
          "execution_count": 16
        }
      ]
    }
  ]
}
