{
 "cells": [
  {
   "attachments": {},
   "cell_type": "markdown",
   "metadata": {},
   "source": [
    "# Programming Assignment 17"
   ]
  },
  {
   "attachments": {},
   "cell_type": "markdown",
   "metadata": {},
   "source": [
    "Q1. Create a function that takes three arguments a, b, c and returns the sum of the numbers that are evenly divided by c from the range a, b inclusive.\n",
    "\n",
    "**Examples**\n",
    "\n",
    "```python\n",
    "    > evenly_divisible(1, 10, 20) ➞ 0\n",
    "    > # No number between 1 and 10 can be evenly divided by 20.\n",
    "    > evenly_divisible(1, 10, 2) ➞ 30\n",
    "    > # 2 + 4 + 6 + 8 + 10 = 30\n",
    "    > evenly_divisible(1, 10, 3) ➞ 18\n",
    "    > # 3 + 6 + 9 = 18\n",
    "```\n",
    "\n",
    "Q2. Create a function that returns True if a given inequality expression is correct and False otherwise.\n",
    "\n",
    "**Examples**\n",
    "```python\n",
    "    > correct_signs(\"3 < 7 < 11\") ➞ True\n",
    "    > correct_signs(\"13 > 44 > 33 > 1\") ➞ False\n",
    "    > correct_signs(\"1 < 2 < 6 < 9 > 3\") ➞ True\n",
    "```\n"
   ]
  },
  {
   "attachments": {},
   "cell_type": "markdown",
   "metadata": {},
   "source": [
    "Q3. Create a function that replaces all the vowels in a string with a specified character.\n",
    "\n",
    "**Examples**\n",
    "```python\n",
    "    replace_vowels(\"the aardvark\", \"#\") ➞ \"th# ##rdv#rk\"\n",
    "    replace_vowels(\"minnie mouse\", \"?\") ➞ \"m?nn?? m??s?\"\n",
    "    replace_vowels(\"shakespeare\", \"*\") ➞ \"sh*k*sp**r*\"\n",
    "```"
   ]
  },
  {
   "attachments": {},
   "cell_type": "markdown",
   "metadata": {},
   "source": [
    "Q4. Write a function that calculates the factorial of a number recursively.\n",
    "\n",
    "**Examples**\n",
    "```python\n",
    "    > factorial(5) ➞ 120\n",
    "    > factorial(3) ➞ 6\n",
    "    > factorial(1) ➞ 1\n",
    "    > factorial(0) ➞ 1\n",
    "```\n"
   ]
  },
  {
   "attachments": {},
   "cell_type": "markdown",
   "metadata": {},
   "source": [
    "Q5. Hamming distance is the number of characters that differ between two strings.\n",
    "\n",
    "**To illustrate:**\n",
    "\n",
    "    > String1: \"abcbba\"\n",
    "    > String2: \"abcbda\"\n",
    "Hamming Distance: 1 - \"b\" vs. \"d\" is the only difference.\n",
    "Create a function that computes the hamming distance between two strings.\n",
    "\n",
    "**Examples**\n",
    "```python\n",
    "    > hamming_distance(\"abcde\", \"bcdef\") ➞ 5\n",
    "    > hamming_distance(\"abcde\", \"abcde\") ➞ 0\n",
    "    > hamming_distance(\"strong\", \"strung\") ➞ 1\n",
    "```"
   ]
  }
 ],
 "metadata": {
  "language_info": {
   "name": "python"
  },
  "orig_nbformat": 4
 },
 "nbformat": 4,
 "nbformat_minor": 2
}
