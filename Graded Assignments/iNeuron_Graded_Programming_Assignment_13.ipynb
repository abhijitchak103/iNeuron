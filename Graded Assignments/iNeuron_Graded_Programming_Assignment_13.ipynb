{
 "cells": [
  {
   "cell_type": "markdown",
   "metadata": {},
   "source": [
    "# Programming Assignment 13"
   ]
  },
  {
   "cell_type": "markdown",
   "metadata": {},
   "source": [
    "#### Question 1:\n",
    "\n",
    "Write a program that calculates and prints the value according to the given formula:\n",
    "Q = Square root of [(2 * C * D)/H]\n",
    "Following are the fixed values of C and H:\n",
    "C is 50. H is 30.\n",
    "D is the variable whose values should be input to your program in a comma-separated\n",
    "sequence.\n",
    "\n",
    "**Example**\n",
    "Let us assume the following comma separated input sequence is given to the program:\n",
    "100,150,180\n",
    "The output of the program should be:\n",
    "18,22,24"
   ]
  },
  {
   "cell_type": "code",
   "execution_count": 8,
   "metadata": {},
   "outputs": [
    {
     "name": "stdout",
     "output_type": "stream",
     "text": [
      "19,22,24\n"
     ]
    }
   ],
   "source": [
    "def q(d: int):\n",
    "    import math\n",
    "    c = 50\n",
    "    h = 30\n",
    "    q = math.sqrt(2*c*d/h)\n",
    "    return q\n",
    "\n",
    "user_input = list(map(int, input().split(',')))\n",
    "\n",
    "ans = list(map(q, user_input))\n",
    "\n",
    "for i in range(len(ans)):\n",
    "    ans[i] = int(ans[i])\n",
    "    print(ans[i], end=\",\") if i != len(ans) - 1 else print(ans[i])"
   ]
  },
  {
   "cell_type": "markdown",
   "metadata": {},
   "source": [
    "#### Question 2:\n",
    "\n",
    "Write a program which takes 2 digits, X,Y as input and generates a 2-dimensional array. The\n",
    "element value in the i-th row and j-th column of the array should be i*j.\n",
    "Note: i=0,1.., X-1; j=0,1,¡Y-1.\n",
    "\n",
    "**Example**\n",
    "\n",
    "Suppose the following inputs are given to the program:\n",
    "3,5\n",
    "\n",
    "Then, the output of the program should be:\n",
    "[[0, 0, 0, 0, 0], [0, 1, 2, 3, 4], [0, 2, 4, 6, 8]]"
   ]
  },
  {
   "cell_type": "code",
   "execution_count": 11,
   "metadata": {},
   "outputs": [
    {
     "name": "stdout",
     "output_type": "stream",
     "text": [
      "[[0, 0, 0, 0, 0], [0, 1, 2, 3, 4], [0, 2, 4, 6, 8]]\n"
     ]
    }
   ],
   "source": [
    "x = int(input())\n",
    "y = int(input())\n",
    "\n",
    "output = [[i*j for j in range(y)] for i in range(x)]\n",
    "\n",
    "print(output)"
   ]
  },
  {
   "cell_type": "markdown",
   "metadata": {},
   "source": [
    "#### Question 3:\n",
    "\n",
    "Write a program that accepts a comma separated sequence of words as input and prints the\n",
    "words in a comma-separated sequence after sorting them alphabetically.\n",
    "\n",
    "Suppose the following input is supplied to the program:\n",
    "> without,hello,bag,world\n",
    "\n",
    "Then, the output should be:\n",
    "> bag,hello,without,world\n",
    "\n"
   ]
  },
  {
   "cell_type": "code",
   "execution_count": 14,
   "metadata": {},
   "outputs": [
    {
     "name": "stdout",
     "output_type": "stream",
     "text": [
      "bag,hello,without,world\n"
     ]
    }
   ],
   "source": [
    "user_input = input().split(',')\n",
    "\n",
    "user_input.sort()\n",
    "\n",
    "for i in range(len(user_input)):\n",
    "    print(user_input[i], end=\",\") if i != len(user_input)-1 else print(user_input[i]) "
   ]
  },
  {
   "cell_type": "markdown",
   "metadata": {},
   "source": [
    "#### Question 4:\n",
    "\n",
    "Write a program that accepts a sequence of whitespace separated words as input and prints\n",
    "the words after removing all duplicate words and sorting them alphanumerically.\n",
    "\n",
    "Suppose the following input is supplied to the program:\n",
    "\n",
    "> hello world and practice makes perfect and hello world again\n",
    "\n",
    "Then, the output should be:\n",
    "\n",
    "> again and hello makes perfect practice world\n",
    "\n"
   ]
  },
  {
   "cell_type": "code",
   "execution_count": 16,
   "metadata": {},
   "outputs": [
    {
     "name": "stdout",
     "output_type": "stream",
     "text": [
      "again and hello makes perfect practice world\n"
     ]
    }
   ],
   "source": [
    "string = input().split()\n",
    "\n",
    "string = list(set(string))\n",
    "string.sort()\n",
    "\n",
    "output = \"\"\n",
    "for i in range(len(string)):\n",
    "    if i != len(string)-1:\n",
    "        output += string[i] + \" \"\n",
    "    else:\n",
    "        output += string[i]\n",
    "\n",
    "print(output)"
   ]
  },
  {
   "cell_type": "markdown",
   "metadata": {},
   "source": [
    "#### Question 5:\n",
    "\n",
    "Write a program that accepts a sentence and calculate the number of letters and digits.\n",
    "\n",
    "Suppose the following input is supplied to the program:\n",
    "hello world! 123\n",
    "\n",
    "Then, the output should be:\n",
    "LETTERS 10\n",
    "DIGITS 3\n",
    "\n"
   ]
  },
  {
   "cell_type": "code",
   "execution_count": 17,
   "metadata": {},
   "outputs": [
    {
     "name": "stdout",
     "output_type": "stream",
     "text": [
      "LETTERS 10 DIGITS 3\n"
     ]
    }
   ],
   "source": [
    "string = input()\n",
    "\n",
    "letters = 0\n",
    "digits = 0\n",
    "\n",
    "for char in string:\n",
    "    if char.isalpha():\n",
    "        letters += 1\n",
    "    elif char.isdigit():\n",
    "        digits += 1\n",
    "    else:\n",
    "        continue\n",
    "\n",
    "print(f\"LETTERS {letters} DIGITS {digits}\")"
   ]
  },
  {
   "cell_type": "markdown",
   "metadata": {},
   "source": [
    "#### Question 6:\n",
    "\n",
    "A website requires the users to input username and password to register. Write a program to\n",
    "check the validity of password input by users.\n",
    "Following are the criteria for checking the password:\n",
    "1. At least 1 letter between [a-z]\n",
    "2. At least 1 number between [0-9]\n",
    "3. At least 1 letter between [A-Z]\n",
    "4. At least 1 character from [$#@]\n",
    "5. Minimum length of transaction password: 6\n",
    "6. Maximum length of transaction password: 12\n",
    "\n",
    "Your program should accept a sequence of comma separated passwords and will check them\n",
    "according to the above criteria. Passwords that match the criteria are to be printed, each\n",
    "separated by a comma.\n",
    "\n",
    "**Example**\n",
    "\n",
    "If the following passwords are given as input to the program:\n",
    "ABd1234@1,a F1#,2w3E*,2We3345\n",
    "Then, the output of the program should be:\n",
    "ABd1234@1"
   ]
  },
  {
   "cell_type": "code",
   "execution_count": 19,
   "metadata": {},
   "outputs": [
    {
     "name": "stdout",
     "output_type": "stream",
     "text": [
      "ABd1234@1\n"
     ]
    }
   ],
   "source": [
    "string = input().split(',')\n",
    "\n",
    "lowers = \"abcdefghijklmnopqrstuvwxyz\"\n",
    "\n",
    "uppers = lowers.upper()\n",
    "\n",
    "specials = \"$#@\"\n",
    "\n",
    "output_lst = list()\n",
    "for element in string:\n",
    "    count = 0\n",
    "    if 6 <= len(element) <= 12:\n",
    "        for char in element:\n",
    "            if char in lowers:\n",
    "                count += 1\n",
    "                break\n",
    "        for char in element:\n",
    "            if char.isdigit():\n",
    "                count += 1\n",
    "                break\n",
    "        for char in element:\n",
    "            if char in uppers:\n",
    "                count += 1\n",
    "                break\n",
    "        for char in element:\n",
    "            if char in specials:\n",
    "                count += 1\n",
    "                break\n",
    "\n",
    "    if count == 4:\n",
    "        output_lst.append(element)\n",
    "\n",
    "output = \"\"\n",
    "for i in range(len(output_lst)):\n",
    "    if i != len(output_lst)-1:\n",
    "        output += output_lst[i] + \" \"\n",
    "    else:\n",
    "        output += output_lst[i]\n",
    "\n",
    "print(output)"
   ]
  }
 ],
 "metadata": {
  "kernelspec": {
   "display_name": "Python 3.10.5 64-bit",
   "language": "python",
   "name": "python3"
  },
  "language_info": {
   "codemirror_mode": {
    "name": "ipython",
    "version": 3
   },
   "file_extension": ".py",
   "mimetype": "text/x-python",
   "name": "python",
   "nbconvert_exporter": "python",
   "pygments_lexer": "ipython3",
   "version": "3.10.5"
  },
  "orig_nbformat": 4,
  "vscode": {
   "interpreter": {
    "hash": "26de051ba29f2982a8de78e945f0abaf191376122a1563185a90213a26c5da77"
   }
  }
 },
 "nbformat": 4,
 "nbformat_minor": 2
}
