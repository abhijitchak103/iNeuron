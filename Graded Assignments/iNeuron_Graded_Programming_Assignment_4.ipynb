{
  "nbformat": 4,
  "nbformat_minor": 0,
  "metadata": {
    "colab": {
      "provenance": [],
      "collapsed_sections": [],
      "authorship_tag": "ABX9TyPzyDQzWbmwYYBEOYYGhgv8",
      "include_colab_link": true
    },
    "kernelspec": {
      "name": "python3",
      "display_name": "Python 3"
    },
    "language_info": {
      "name": "python"
    }
  },
  "cells": [
    {
      "cell_type": "markdown",
      "metadata": {
        "id": "view-in-github",
        "colab_type": "text"
      },
      "source": [
        "<a href=\"https://colab.research.google.com/github/abhijitchak103/iNeuron/blob/main/Graded%20Assignments/iNeuron_Graded_Programming_Assignment_4.ipynb\" target=\"_parent\"><img src=\"https://colab.research.google.com/assets/colab-badge.svg\" alt=\"Open In Colab\"/></a>"
      ]
    },
    {
      "cell_type": "markdown",
      "source": [
        "# Programming Assignment 4"
      ],
      "metadata": {
        "id": "k60I_xzOCkHA"
      }
    },
    {
      "cell_type": "markdown",
      "source": [
        "1. Write a Python Program to Find the Factorial of a Number?\n"
      ],
      "metadata": {
        "id": "JPeFZFKdCoin"
      }
    },
    {
      "cell_type": "code",
      "execution_count": 1,
      "metadata": {
        "colab": {
          "base_uri": "https://localhost:8080/"
        },
        "id": "VvpKDzC0CYmN",
        "outputId": "f9ca1ae8-714b-49b6-85fe-3ca75b6f867d"
      },
      "outputs": [
        {
          "output_type": "stream",
          "name": "stdout",
          "text": [
            "Enter a number: 5\n",
            "5! = 120\n"
          ]
        }
      ],
      "source": [
        "x = int(input(\"Enter a number: \"))\n",
        "\n",
        "product = 1\n",
        "for i in range(1, x+1):\n",
        "    product *= i\n",
        "\n",
        "print(f\"{x}! = {product}\")"
      ]
    },
    {
      "cell_type": "markdown",
      "source": [
        "2. Write a Python Program to Display the multiplication Table?\n"
      ],
      "metadata": {
        "id": "yXJqo-rDCsT5"
      }
    },
    {
      "cell_type": "code",
      "source": [
        "num = int(input(\"Enter a number: \"))\n",
        "\n",
        "print(f\"The multiplication table of {num} is:\")\n",
        "for i in range(1, 11):\n",
        "    print(f\"{num} X {i} = {num*i}\")"
      ],
      "metadata": {
        "colab": {
          "base_uri": "https://localhost:8080/"
        },
        "id": "VkvfrHR2Dcje",
        "outputId": "03bc5d66-5b17-4bc3-db23-0a62043d330e"
      },
      "execution_count": 2,
      "outputs": [
        {
          "output_type": "stream",
          "name": "stdout",
          "text": [
            "Enter a number: 7\n",
            "The multiplication table of 7 is:\n",
            "7 X 1 = 7\n",
            "7 X 2 = 14\n",
            "7 X 3 = 21\n",
            "7 X 4 = 28\n",
            "7 X 5 = 35\n",
            "7 X 6 = 42\n",
            "7 X 7 = 49\n",
            "7 X 8 = 56\n",
            "7 X 9 = 63\n",
            "7 X 10 = 70\n"
          ]
        }
      ]
    },
    {
      "cell_type": "markdown",
      "source": [
        "3. Write a Python Program to Print the Fibonacci sequence?\n"
      ],
      "metadata": {
        "id": "O8-bqRb8CugG"
      }
    },
    {
      "cell_type": "code",
      "source": [
        "def fib(n):\n",
        "    if n == 0 or n == 1:\n",
        "        return 1\n",
        "    else:\n",
        "        return fib(n-1) + fib(n-2)\n",
        "\n",
        "x = int(input(\"Enter a number: \"))\n",
        "\n",
        "for i in range(x+1):\n",
        "    print(fib(i))"
      ],
      "metadata": {
        "colab": {
          "base_uri": "https://localhost:8080/"
        },
        "id": "8y2BNg2uEQm_",
        "outputId": "70919d9f-b2eb-4f4c-c665-7097708e1e6c"
      },
      "execution_count": 4,
      "outputs": [
        {
          "output_type": "stream",
          "name": "stdout",
          "text": [
            "Enter a number: 5\n",
            "1\n",
            "1\n",
            "2\n",
            "3\n",
            "5\n",
            "8\n"
          ]
        }
      ]
    },
    {
      "cell_type": "markdown",
      "source": [
        "4. Write a Python Program to Check Armstrong Number?\n"
      ],
      "metadata": {
        "id": "wzevnYgeCwb7"
      }
    },
    {
      "cell_type": "code",
      "source": [
        "x = int(input(\"Enter a number: \"))\n",
        "y = x\n",
        "l = len(str(x))\n",
        "\n",
        "sum = 0\n",
        "for i in range(1, l+1):\n",
        "    ans = (x%10)**3\n",
        "    x = x//10\n",
        "    sum += ans\n",
        "\n",
        "if sum == y:\n",
        "    print(f\"{y} is an Armstrong Number.\")\n",
        "else:\n",
        "    print(f\"{y} is not an Armstrong Number.\")"
      ],
      "metadata": {
        "colab": {
          "base_uri": "https://localhost:8080/"
        },
        "id": "Wr6H7n5nFimQ",
        "outputId": "61e4d9a7-4ef3-4ffa-d821-8266fc46601f"
      },
      "execution_count": 15,
      "outputs": [
        {
          "output_type": "stream",
          "name": "stdout",
          "text": [
            "Enter a number: 400\n",
            "400 is not an Armstrong Number.\n"
          ]
        }
      ]
    },
    {
      "cell_type": "markdown",
      "source": [
        "5. Write a Python Program to Find Armstrong Number in an Interval?\n"
      ],
      "metadata": {
        "id": "Alndf_LyCyFm"
      }
    },
    {
      "cell_type": "code",
      "source": [
        "x = int(input(\"Enter start of range: \"))\n",
        "y = int(input(\"Enter end of range: \"))\n",
        "\n",
        "an_list = list()\n",
        "\n",
        "for i in range(x, y+1):\n",
        "    b = i\n",
        "    l = len(str(i))\n",
        "\n",
        "    sum = 0\n",
        "    for j in range(1, l+1):\n",
        "        ans = (i%10)**3\n",
        "        i = i//10\n",
        "        sum += ans\n",
        "\n",
        "    if sum == b:\n",
        "        an_list.append(b)\n",
        "\n",
        "if len(an_list) > 0:\n",
        "    print(f\"The Armstrong numbers in range ({x}, {y}) is/are: {an_list}\")\n",
        "else:\n",
        "    print(f\"There are no Armstrong numbers in range ({x}, {y})\")"
      ],
      "metadata": {
        "colab": {
          "base_uri": "https://localhost:8080/"
        },
        "id": "yBzfLsdtJFfV",
        "outputId": "97476912-29c4-4d6e-9e8c-c3214ec8d2b0"
      },
      "execution_count": 20,
      "outputs": [
        {
          "output_type": "stream",
          "name": "stdout",
          "text": [
            "Enter start of range: 500\n",
            "Enter end of range: 700\n",
            "There are no Armstrong numbers in range (500, 700)\n"
          ]
        }
      ]
    },
    {
      "cell_type": "markdown",
      "source": [
        "6. Write a Python Program to Find the Sum of Natural Numbers?"
      ],
      "metadata": {
        "id": "jOvAnW_dC0G5"
      }
    },
    {
      "cell_type": "code",
      "source": [
        "n = int(input(\"Enter the natural number till which you want the sum: \"))\n",
        "\n",
        "sum = n*(n+1)/2\n",
        "\n",
        "print(f\"The sum of all natural numbers till {n} is {sum}\")"
      ],
      "metadata": {
        "colab": {
          "base_uri": "https://localhost:8080/"
        },
        "id": "6wV9GiK-C1KA",
        "outputId": "95cb2e5b-54bf-4ba2-c649-5b09e9a20ec3"
      },
      "execution_count": 23,
      "outputs": [
        {
          "output_type": "stream",
          "name": "stdout",
          "text": [
            "Enter the natural number till which you want the sum: 6\n",
            "The sum of all natural numbers till 6 is 21.0\n"
          ]
        }
      ]
    }
  ]
}