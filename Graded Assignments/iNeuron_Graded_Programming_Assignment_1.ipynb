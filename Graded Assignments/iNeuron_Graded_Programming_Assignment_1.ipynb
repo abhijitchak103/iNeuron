{
  "nbformat": 4,
  "nbformat_minor": 0,
  "metadata": {
    "colab": {
      "provenance": [],
      "collapsed_sections": [],
      "authorship_tag": "ABX9TyMiYxFhWU7u4qUBW2OsJUKD",
      "include_colab_link": true
    },
    "kernelspec": {
      "name": "python3",
      "display_name": "Python 3"
    },
    "language_info": {
      "name": "python"
    }
  },
  "cells": [
    {
      "cell_type": "markdown",
      "metadata": {
        "id": "view-in-github",
        "colab_type": "text"
      },
      "source": [
        "<a href=\"https://colab.research.google.com/github/abhijitchak103/iNeuron/blob/main/Graded%20Assignments/iNeuron_Graded_Programming_Assignment_1.ipynb\" target=\"_parent\"><img src=\"https://colab.research.google.com/assets/colab-badge.svg\" alt=\"Open In Colab\"/></a>"
      ]
    },
    {
      "cell_type": "markdown",
      "source": [
        "# Programming Assignment 1"
      ],
      "metadata": {
        "id": "WKOZqFFS8Sov"
      }
    },
    {
      "cell_type": "markdown",
      "source": [
        "1. Write a Python program to print \"Hello Python\"?\n"
      ],
      "metadata": {
        "id": "0DGJTWht8WyO"
      }
    },
    {
      "cell_type": "code",
      "execution_count": 2,
      "metadata": {
        "colab": {
          "base_uri": "https://localhost:8080/"
        },
        "id": "LxeWgkkK8Ouv",
        "outputId": "cff2f911-185c-45e8-ac16-a5530bf0c702"
      },
      "outputs": [
        {
          "output_type": "stream",
          "name": "stdout",
          "text": [
            "Hello Python\n"
          ]
        }
      ],
      "source": [
        "if __name__ == \"__main__\":\n",
        "    print(\"Hello Python\")"
      ]
    },
    {
      "cell_type": "markdown",
      "source": [
        "2. Write a Python program to do arithmetical operations addition and division.?\n"
      ],
      "metadata": {
        "id": "bvZgl3BS8fPl"
      }
    },
    {
      "cell_type": "code",
      "source": [
        "def add(num1, num2):\n",
        "    return (num1 + num2)\n",
        "\n",
        "def divide(num1, num2):\n",
        "    return (num1 / num2)\n",
        "\n",
        "if __name__ == \"__main__\":\n",
        "    a = float(input(\"Enter a number: \"))\n",
        "    b = float(input(\"Enter another number: \"))\n",
        "\n",
        "    print(f\"The sum of a: {a} and b: {b} is: {add(a, b)}\")\n",
        "    print(f\"The division of a: {a} by b: {b} is: {divide(a, b)}\")"
      ],
      "metadata": {
        "colab": {
          "base_uri": "https://localhost:8080/"
        },
        "id": "nfMNtxQg9BHV",
        "outputId": "f7f9a989-84bb-465a-84b9-679b2bd5fd37"
      },
      "execution_count": 3,
      "outputs": [
        {
          "output_type": "stream",
          "name": "stdout",
          "text": [
            "Enter a number: 35\n",
            "Enter another number: 7\n",
            "The sum of a: 35.0 and b: 7.0 is: 42.0\n",
            "The division of a: 35.0 by b: 7.0 is: 5.0\n"
          ]
        }
      ]
    },
    {
      "cell_type": "markdown",
      "source": [
        "3. Write a Python program to find the area of a triangle?"
      ],
      "metadata": {
        "id": "RTKRuVb-8g4E"
      }
    },
    {
      "cell_type": "code",
      "source": [
        "def area(height, base):\n",
        "    return (0.5 * height**2 * base)\n",
        "\n",
        "if __name__ == \"__main__\":\n",
        "    a = float(input(\"Enter the height dimension of the triangle: \"))\n",
        "    b = float(input(\"Enter the base dimension of the triangle: \"))\n",
        "\n",
        "    print(f\"The area of the triangle with of height: {a} and base: {b} is: {area(a, b)}\")"
      ],
      "metadata": {
        "colab": {
          "base_uri": "https://localhost:8080/"
        },
        "id": "niLJsaui-J8e",
        "outputId": "677d24f9-ca17-4d35-833d-8469e043e8c5"
      },
      "execution_count": 4,
      "outputs": [
        {
          "output_type": "stream",
          "name": "stdout",
          "text": [
            "Enter the height dimension of the triangle: 5\n",
            "Enter the base dimension of the triangle: 6\n",
            "The area of the triangle with of height: 5.0 and base: 6.0 is: 75.0\n"
          ]
        }
      ]
    },
    {
      "cell_type": "markdown",
      "source": [
        "4. Write a Python program to swap two variables?\n"
      ],
      "metadata": {
        "id": "Mxvlxolj8ics"
      }
    },
    {
      "cell_type": "code",
      "source": [
        "def swap(a, b):\n",
        "    temp = a\n",
        "    a = b\n",
        "    b = temp\n",
        "    return (f\"After swapping the variables are {a} and {b}\")\n",
        "\n",
        "if __name__ == \"__main__\":\n",
        "    a = input(\"Enter a variable: \")\n",
        "    b = input(\"Enter another variable to swap with: \")\n",
        "\n",
        "    print(\"\")\n",
        "    print(swap(a, b))"
      ],
      "metadata": {
        "colab": {
          "base_uri": "https://localhost:8080/"
        },
        "id": "E5bcaC4v-5EU",
        "outputId": "29e9286b-708b-483b-d3d4-113afd26fa5e"
      },
      "execution_count": 7,
      "outputs": [
        {
          "output_type": "stream",
          "name": "stdout",
          "text": [
            "Enter a variable: 7\n",
            "Enter another variable to swap with: 12\n",
            "\n",
            "After swapping the variables are 12 and 7\n"
          ]
        }
      ]
    },
    {
      "cell_type": "markdown",
      "source": [
        "5. Write a Python program to generate a random number?"
      ],
      "metadata": {
        "id": "hElrwVLU8kW2"
      }
    },
    {
      "cell_type": "code",
      "source": [
        "import random\n",
        "\n",
        "if __name__ == \"__main__\":\n",
        "    start = int(input(\"Enter the starting value of range: \"))\n",
        "    end = int(input(\"Enter the ending value of range: \"))\n",
        "    \n",
        "    num = random.randrange(start, end)\n",
        "    print(f\"Your random number is: {num}\")"
      ],
      "metadata": {
        "colab": {
          "base_uri": "https://localhost:8080/"
        },
        "id": "nfAlITa48lHi",
        "outputId": "25752058-f575-4de4-dd44-71cc8b54d705"
      },
      "execution_count": 11,
      "outputs": [
        {
          "output_type": "stream",
          "name": "stdout",
          "text": [
            "Enter the starting value of range: 30\n",
            "Enter the ending value of range: 150\n",
            "Your random number is: 90\n"
          ]
        }
      ]
    }
  ]
}