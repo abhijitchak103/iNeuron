{
 "cells": [
  {
   "cell_type": "markdown",
   "metadata": {},
   "source": [
    "# Programming Assignment 12"
   ]
  },
  {
   "cell_type": "markdown",
   "metadata": {},
   "source": [
    "#### 1. Write a Python program to Extract Unique values dictionary values?"
   ]
  },
  {
   "cell_type": "code",
   "execution_count": 35,
   "metadata": {},
   "outputs": [],
   "source": [
    "def unique_value(d: dict):\n",
    "    \"\"\"\n",
    "    Returns the unique values in a dictionary\n",
    "    \"\"\"\n",
    "    val = set()\n",
    "    for key, value in d.items():\n",
    "        val.add(value)\n",
    "    return list(val)\n"
   ]
  },
  {
   "cell_type": "markdown",
   "metadata": {},
   "source": [
    "#### 2. Write a Python program to find the sum of all items in a dictionary?"
   ]
  },
  {
   "cell_type": "code",
   "execution_count": 37,
   "metadata": {},
   "outputs": [],
   "source": [
    "def keys_sum(d: dict):\n",
    "    sum = 0\n",
    "    for ele in d.keys():\n",
    "        if type(ele) == int or type(ele) == float:\n",
    "           sum += ele\n",
    "    return sum\n",
    "\n",
    "\n",
    "def vals_sum(d: dict):\n",
    "    sum = 0\n",
    "    for ele in d.keys():\n",
    "        if type(d[ele]) == int or type(d[ele]) == float:\n",
    "           sum += d[ele]\n",
    "    return sum \n",
    "\n",
    "def dict_sum(d: dict):\n",
    "    return keys_sum(d) + vals_sum(d)"
   ]
  },
  {
   "cell_type": "markdown",
   "metadata": {},
   "source": [
    "#### 3. Write a Python program to Merging two Dictionaries?"
   ]
  },
  {
   "cell_type": "code",
   "execution_count": 38,
   "metadata": {},
   "outputs": [],
   "source": [
    "def merge_dict(d1: dict, d2: dict):\n",
    "    \"\"\"\n",
    "    Merges two different dicts\n",
    "    \"\"\"\n",
    "\n",
    "    df = d1.copy()\n",
    "    for key, value in d2.items():\n",
    "        df[key] = value\n",
    "    \n",
    "    return df"
   ]
  },
  {
   "cell_type": "markdown",
   "metadata": {},
   "source": [
    "#### 4. Write a Python program to convert key-values list to flat dictionary?"
   ]
  },
  {
   "cell_type": "code",
   "execution_count": 39,
   "metadata": {},
   "outputs": [],
   "source": [
    "def list_to_dict(l: list):\n",
    "    \"\"\"\n",
    "    Converts key-value list to a flat dictionary\n",
    "    \"\"\"\n",
    "    # l = [(\"k1\", (\"v11\",\"v12\",\"v13\"))]\n",
    "    df = dict()\n",
    "    for ele in l:\n",
    "        key = ele[0]\n",
    "        val = ele[-1]\n",
    "        df[key] = list(val)\n",
    "    \n",
    "    return df"
   ]
  },
  {
   "cell_type": "markdown",
   "metadata": {},
   "source": [
    "#### 5. Write a Python program to insertion at the beginning in OrderedDict?"
   ]
  },
  {
   "cell_type": "code",
   "execution_count": 40,
   "metadata": {},
   "outputs": [],
   "source": [
    "def insert_start_orderedDict(d, k, v):\n",
    "    \"\"\"\n",
    "    Inserts at the start of an ordered Dictionary\n",
    "    \"\"\"\n",
    "    from collections import OrderedDict\n",
    "\n",
    "    df = OrderedDict()\n",
    "    df[k] = v\n",
    "    for key, value in d.items():\n",
    "        df[key] = value\n",
    "    \n",
    "    d = df\n",
    "    return dict(d)\n",
    "\n"
   ]
  },
  {
   "cell_type": "markdown",
   "metadata": {},
   "source": [
    "#### 6. Write a Python program to check order of character in string using OrderedDict()?"
   ]
  },
  {
   "cell_type": "code",
   "execution_count": 41,
   "metadata": {},
   "outputs": [],
   "source": [
    "def character_order(input, string):\n",
    "    \"\"\"\n",
    "    Checks whether the order of characters in a string is same as that in another string\n",
    "    \"\"\"\n",
    "\n",
    "    from collections import OrderedDict\n",
    "\n",
    "    d = OrderedDict()\n",
    "\n",
    "    for char in input:\n",
    "        d[char] = None\n",
    "    \n",
    "    ptr = 0\n",
    "    for key in d.keys():\n",
    "        if key == string[ptr]:\n",
    "            ptr += 1\n",
    "\n",
    "        if ptr == len(string):\n",
    "            return True\n",
    "\n",
    "    # After traversing the entire dictionary\n",
    "    # if we dont get True as output, it means order is not same\n",
    "    return False"
   ]
  },
  {
   "cell_type": "markdown",
   "metadata": {},
   "source": [
    "#### 7. Write a Python program to sort Python Dictionaries by Key or Value?"
   ]
  },
  {
   "cell_type": "code",
   "execution_count": 42,
   "metadata": {},
   "outputs": [],
   "source": [
    "def sort_dict(d: dict, target = 0):\n",
    "    \"\"\"\n",
    "    Sorts a dictionary by keys: 0 or values: 1\n",
    "    \"\"\"\n",
    "    \n",
    "    l = list()\n",
    "    if target == 0:\n",
    "        for key, value in d.items():\n",
    "            l.append(key)\n",
    "        \n",
    "        l.sort()\n",
    "        df = dict()\n",
    "        for ele in l:\n",
    "            df[ele] = d[ele]\n",
    "            del d[ele]\n",
    "\n",
    "    else:\n",
    "        for key, value in d.items():\n",
    "            l.append(value)\n",
    "        \n",
    "        l.sort()\n",
    "        df = dict()\n",
    "        for ele in l:\n",
    "            key = get_key(d, ele)            \n",
    "            df[key] = ele\n",
    "            del d[key]\n",
    "    d = df\n",
    "    return d \n",
    "\n",
    "def get_key(d, val):\n",
    "    \"\"\"\n",
    "    Returns the key by value\n",
    "    \"\"\"\n",
    "    for key, value in d.items():\n",
    "        if value == val:\n",
    "            return key\n"
   ]
  }
 ],
 "metadata": {
  "kernelspec": {
   "display_name": "Python 3.10.5 64-bit",
   "language": "python",
   "name": "python3"
  },
  "language_info": {
   "codemirror_mode": {
    "name": "ipython",
    "version": 3
   },
   "file_extension": ".py",
   "mimetype": "text/x-python",
   "name": "python",
   "nbconvert_exporter": "python",
   "pygments_lexer": "ipython3",
   "version": "3.10.5"
  },
  "orig_nbformat": 4,
  "vscode": {
   "interpreter": {
    "hash": "26de051ba29f2982a8de78e945f0abaf191376122a1563185a90213a26c5da77"
   }
  }
 },
 "nbformat": 4,
 "nbformat_minor": 2
}
