{
 "cells": [
  {
   "cell_type": "markdown",
   "metadata": {},
   "source": [
    "# Programming Assignment 12"
   ]
  },
  {
   "cell_type": "markdown",
   "metadata": {},
   "source": [
    "#### 1. Write a Python program to Extract Unique values dictionary values?"
   ]
  },
  {
   "cell_type": "markdown",
   "metadata": {},
   "source": [
    "#### 2. Write a Python program to find the sum of all items in a dictionary?"
   ]
  },
  {
   "cell_type": "code",
   "execution_count": 1,
   "metadata": {},
   "outputs": [],
   "source": [
    "def keys_sum(d: dict):\n",
    "    sum = 0\n",
    "    for ele in d.keys():\n",
    "        if type(ele) == int or type(ele) == float:\n",
    "           sum += ele\n",
    "    return sum\n",
    "\n",
    "\n",
    "def vals_sum(d: dict):\n",
    "    sum = 0\n",
    "    for ele in d.keys():\n",
    "        if type(d[ele]) == int or type(d[ele]) == float:\n",
    "           sum += d[ele]\n",
    "    return sum \n",
    "\n",
    "def dict_sum(d: dict):\n",
    "    return keys_sum(d) + vals_sum(d)"
   ]
  },
  {
   "cell_type": "markdown",
   "metadata": {},
   "source": [
    "#### 3. Write a Python program to Merging two Dictionaries?"
   ]
  },
  {
   "cell_type": "code",
   "execution_count": 3,
   "metadata": {},
   "outputs": [],
   "source": [
    "def merge_dict(d1: dict, d2: dict):\n",
    "    \"\"\"\n",
    "    Merges two different dicts\n",
    "    \"\"\"\n",
    "\n",
    "    df = d1.copy()\n",
    "    for key, value in d2.items():\n",
    "        df[key] = value\n",
    "    \n",
    "    return df"
   ]
  },
  {
   "cell_type": "markdown",
   "metadata": {},
   "source": [
    "#### 4. Write a Python program to convert key-values list to flat dictionary?"
   ]
  },
  {
   "cell_type": "code",
   "execution_count": 8,
   "metadata": {},
   "outputs": [],
   "source": [
    "def list_to_dict(l: list):\n",
    "    \"\"\"\n",
    "    Converts key-value list to a flat dictionary\n",
    "    \"\"\"\n",
    "    # l = [(\"k1\", (\"v11\",\"v12\",\"v13\"))]\n",
    "    df = dict()\n",
    "    for ele in l:\n",
    "        key = ele[0]\n",
    "        val = ele[-1]\n",
    "        df[key] = list(val)\n",
    "    \n",
    "    return df"
   ]
  },
  {
   "cell_type": "code",
   "execution_count": null,
   "metadata": {},
   "outputs": [],
   "source": []
  },
  {
   "cell_type": "markdown",
   "metadata": {},
   "source": [
    "#### 5. Write a Python program to insertion at the beginning in OrderedDict?"
   ]
  },
  {
   "cell_type": "markdown",
   "metadata": {},
   "source": [
    "#### 6. Write a Python program to check order of character in string using OrderedDict()?"
   ]
  },
  {
   "cell_type": "markdown",
   "metadata": {},
   "source": [
    "#### 7. Write a Python program to sort Python Dictionaries by Key or Value?"
   ]
  }
 ],
 "metadata": {
  "kernelspec": {
   "display_name": "Python 3.10.5 64-bit",
   "language": "python",
   "name": "python3"
  },
  "language_info": {
   "codemirror_mode": {
    "name": "ipython",
    "version": 3
   },
   "file_extension": ".py",
   "mimetype": "text/x-python",
   "name": "python",
   "nbconvert_exporter": "python",
   "pygments_lexer": "ipython3",
   "version": "3.10.5"
  },
  "orig_nbformat": 4,
  "vscode": {
   "interpreter": {
    "hash": "26de051ba29f2982a8de78e945f0abaf191376122a1563185a90213a26c5da77"
   }
  }
 },
 "nbformat": 4,
 "nbformat_minor": 2
}
