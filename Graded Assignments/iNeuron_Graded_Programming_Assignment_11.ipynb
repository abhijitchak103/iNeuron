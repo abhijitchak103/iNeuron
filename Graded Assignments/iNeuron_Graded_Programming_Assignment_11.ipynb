{
 "cells": [
  {
   "cell_type": "markdown",
   "metadata": {},
   "source": [
    "# Programming Assignment 11"
   ]
  },
  {
   "cell_type": "markdown",
   "metadata": {},
   "source": [
    "#### 1. Write a Python program to find words which are greater than given length k?"
   ]
  },
  {
   "cell_type": "code",
   "execution_count": 1,
   "metadata": {},
   "outputs": [],
   "source": [
    "def longer_words(l: list, k: int):\n",
    "    \"\"\"\n",
    "    Returns a list of words whose length is more than the input parameter k\n",
    "    \"\"\"\n",
    "    res = list()\n",
    "    for ele in l:\n",
    "        if len(ele) > k:\n",
    "            res.append(ele)\n",
    "\n",
    "    return res"
   ]
  },
  {
   "cell_type": "markdown",
   "metadata": {},
   "source": [
    "#### 2. Write a Python program for removing i-th character from a string?\n"
   ]
  },
  {
   "cell_type": "code",
   "execution_count": 22,
   "metadata": {},
   "outputs": [],
   "source": [
    "def remove_char(s: str, x: int):\n",
    "    \"\"\"\n",
    "    Removes a char from given index\n",
    "    \"\"\"\n",
    "\n",
    "  \n",
    "    if x == 0:\n",
    "        return s[1:]\n",
    "    elif x == len(s) or x == -1:\n",
    "        return s[:-1]\n",
    "    elif 0 < x < len(s):\n",
    "        return (s[:x] + s[x+1:])\n",
    "    else:\n",
    "        raise IndexError"
   ]
  },
  {
   "cell_type": "markdown",
   "metadata": {},
   "source": [
    "#### 3. Write a Python program to split and join a string?\n"
   ]
  },
  {
   "cell_type": "code",
   "execution_count": 3,
   "metadata": {},
   "outputs": [],
   "source": [
    "def split_string(s: str, x: int):\n",
    "    \"\"\"\n",
    "    Splits a string at given position\n",
    "    \"\"\"\n",
    "\n",
    "    return (s[:x], s[x:])\n",
    "\n",
    "def join_strings(s1: str, s2: str):\n",
    "    \"\"\"\n",
    "    Joins two strings and returns the joined string\n",
    "    \"\"\"\n",
    "\n",
    "    return s1 + s2"
   ]
  },
  {
   "cell_type": "markdown",
   "metadata": {},
   "source": [
    "#### 4. Write a Python to check if a given string is binary string or not?\n"
   ]
  },
  {
   "cell_type": "code",
   "execution_count": 48,
   "metadata": {},
   "outputs": [],
   "source": [
    "def validate_binary(s: str):\n",
    "    \"\"\"\n",
    "    Returns True for binary string and False for non-binary string \n",
    "    \"\"\"\n",
    "    s = str(s)\n",
    "    flag = True\n",
    "    for i in s:\n",
    "        if i not in ['0','1']:\n",
    "            flag = False\n",
    "            break\n",
    "        else:\n",
    "            continue\n",
    "    return flag"
   ]
  },
  {
   "cell_type": "markdown",
   "metadata": {},
   "source": [
    "#### 5. Write a Python program to find uncommon words from two Strings?\n"
   ]
  },
  {
   "cell_type": "code",
   "execution_count": 10,
   "metadata": {},
   "outputs": [],
   "source": [
    "def uncommon_words(s1: str, s2: str):\n",
    "    \"\"\"\n",
    "    Returns the list of uncommon words between 2 strings\n",
    "    \"\"\"\n",
    "\n",
    "    res = set()\n",
    "    s1_list = s1.split()\n",
    "    s2_list = s2.split()\n",
    "\n",
    "    for ele in s1_list:\n",
    "        if ele not in s2_list:\n",
    "            res.add(ele)\n",
    "            continue\n",
    "        else:\n",
    "            continue\n",
    "\n",
    "    for ele in s2_list:\n",
    "        if ele not in s1_list:\n",
    "            res.add(ele)\n",
    "            continue\n",
    "        else:\n",
    "            continue\n",
    "    \n",
    "    return list(res)"
   ]
  },
  {
   "cell_type": "markdown",
   "metadata": {},
   "source": [
    "#### 6. Write a Python to find all duplicate characters in string?"
   ]
  },
  {
   "cell_type": "code",
   "execution_count": 51,
   "metadata": {},
   "outputs": [],
   "source": [
    "def find_duplicates(s1: str, s2: str):\n",
    "    \"\"\"\n",
    "    Returns a string comprising of duplicate characters between 2 strings\n",
    "    \"\"\"\n",
    "\n",
    "    s = list()\n",
    "    for char in s1:\n",
    "        if char in s2:\n",
    "            s.append(char)\n",
    "            continue\n",
    "    \n",
    "    res = \"\"\n",
    "    for ele in s:\n",
    "        while ele not in res:\n",
    "            res = res + ele\n",
    "\n",
    "    return res\n"
   ]
  },
  {
   "cell_type": "markdown",
   "metadata": {},
   "source": [
    "#### 7. Write a Python Program to check if a string contains any special character?"
   ]
  },
  {
   "cell_type": "code",
   "execution_count": 69,
   "metadata": {},
   "outputs": [],
   "source": [
    "def validate_special(s: str):\n",
    "    \"\"\"\n",
    "    Returns True if input string contains a special character.\n",
    "    Else returns False\n",
    "    \"\"\"\n",
    "\n",
    "    special = \"\"\"`~!@#$%^&*()-_=+[]\\;',./{}|:\"<>?\"\"\"\n",
    "\n",
    "    flag = False\n",
    "    for char in s:\n",
    "        if char in special:\n",
    "            flag = True\n",
    "            break\n",
    "        else:\n",
    "            pass\n",
    "    return (flag)"
   ]
  },
  {
   "cell_type": "code",
   "execution_count": null,
   "metadata": {},
   "outputs": [],
   "source": []
  }
 ],
 "metadata": {
  "kernelspec": {
   "display_name": "Python 3.10.5 64-bit",
   "language": "python",
   "name": "python3"
  },
  "language_info": {
   "codemirror_mode": {
    "name": "ipython",
    "version": 3
   },
   "file_extension": ".py",
   "mimetype": "text/x-python",
   "name": "python",
   "nbconvert_exporter": "python",
   "pygments_lexer": "ipython3",
   "version": "3.10.5"
  },
  "orig_nbformat": 4,
  "vscode": {
   "interpreter": {
    "hash": "26de051ba29f2982a8de78e945f0abaf191376122a1563185a90213a26c5da77"
   }
  }
 },
 "nbformat": 4,
 "nbformat_minor": 2
}
