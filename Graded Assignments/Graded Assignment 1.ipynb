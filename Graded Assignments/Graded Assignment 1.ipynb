{
  "cells": [
    {
      "cell_type": "markdown",
      "metadata": {
        "colab_type": "text",
        "id": "view-in-github"
      },
      "source": [
        "<a href=\"https://colab.research.google.com/github/abhijitchak103/iNeuron/blob/Graded-Assignments/iNeuron_Graded_Assignment_1.ipynb\" target=\"_parent\"><img src=\"https://colab.research.google.com/assets/colab-badge.svg\" alt=\"Open In Colab\"/></a>"
      ]
    },
    {
      "cell_type": "markdown",
      "metadata": {
        "id": "remCc0skSqVS"
      },
      "source": [
        "# Graded Assignment 1"
      ]
    },
    {
      "cell_type": "markdown",
      "metadata": {
        "id": "Olqbx_IFNkzV"
      },
      "source": [
        "1. In the below elements which of them are values or an expression? eg:- values can be integer or string and expressions will be mathematical operators.\n",
        "\n",
        "- *\n",
        "- 'hello'\n",
        "- -87.8\n",
        "- -\n",
        "- /\n",
        "- +\n",
        "- 6"
      ]
    },
    {
      "cell_type": "code",
      "execution_count": null,
      "metadata": {
        "id": "kokN4Dc0NjPS"
      },
      "outputs": [],
      "source": [
        "# (*, -, /, +) are expressions\n",
        "\n",
        "# ('hello', -87.8, 6) are values"
      ]
    },
    {
      "cell_type": "markdown",
      "metadata": {
        "id": "gB2W0sDPOIFj"
      },
      "source": [
        "2. What is the difference between string and variable?"
      ]
    },
    {
      "cell_type": "code",
      "execution_count": null,
      "metadata": {
        "id": "7YfZdN66OHL3"
      },
      "outputs": [],
      "source": [
        "# strings are datatypes which contain texts like 'hello', 'hello world'.\n",
        "# They are generally enclosed within '' or \"\".\n",
        "\n",
        "# variables are values (maybe int, floats, strings, complex, etc.) which can be \n",
        "# changed later on. they are used for computution or manipulating the program."
      ]
    },
    {
      "cell_type": "markdown",
      "metadata": {
        "id": "obKNGc8pOy8A"
      },
      "source": [
        "3. Describe three different data types."
      ]
    },
    {
      "cell_type": "code",
      "execution_count": null,
      "metadata": {
        "id": "GaZcPCdUOw4S"
      },
      "outputs": [],
      "source": [
        "# int : Stands for integer values like -6,-5,-4,...., 4,5,6,7... \n",
        "# float: Stands for floating points or decimals like 3.14, 2.7, 1.1, 1.005\n",
        "# string: Used to denote characters or words or sentences, like \"hello world\". \n"
      ]
    },
    {
      "cell_type": "markdown",
      "metadata": {
        "id": "y8BoaaspPaq5"
      },
      "source": [
        "4. What is an expression made up of? What do all expressions do?"
      ]
    },
    {
      "cell_type": "code",
      "execution_count": null,
      "metadata": {
        "id": "4ahtw2VLPOE0"
      },
      "outputs": [],
      "source": [
        "# An expression is made up of values and mathematical operators that generate some other value.\n",
        "# eg. in a = 5+4, 5+4 is an expression and is used to evaluate the value of a which 5+4=9"
      ]
    },
    {
      "cell_type": "markdown",
      "metadata": {
        "id": "kYgcnWygPy4v"
      },
      "source": [
        "5. This assignment statements, like spam = 10. What is the difference between an\n",
        "expression and a statement?"
      ]
    },
    {
      "cell_type": "code",
      "execution_count": null,
      "metadata": {
        "id": "QZ9_S0cLPwFA"
      },
      "outputs": [],
      "source": [
        "# Statements represent an action or command e.g print statements, assignment statements. \n",
        "# Expression is a combination of variables, operations and values that yields a result value."
      ]
    },
    {
      "cell_type": "markdown",
      "metadata": {
        "id": "ZG_ybuq6QF_8"
      },
      "source": [
        "6. After running the following code, what does the variable bacon contain?\n",
        "\n",
        "- bacon = 22\n",
        "- bacon + 1"
      ]
    },
    {
      "cell_type": "code",
      "execution_count": null,
      "metadata": {
        "id": "na78IjhqP-eq"
      },
      "outputs": [],
      "source": [
        "# bacon = 23"
      ]
    },
    {
      "cell_type": "markdown",
      "metadata": {
        "id": "ZjXjuwLZQPBN"
      },
      "source": [
        "7. What should the values of the following two terms be?\n",
        "- 'spam' + 'spamspam';\n",
        "- 'spam' * 3"
      ]
    },
    {
      "cell_type": "code",
      "execution_count": null,
      "metadata": {
        "id": "_tWeqFh4QMRk"
      },
      "outputs": [],
      "source": [
        "# both terms will be 'spamspamspam'"
      ]
    },
    {
      "cell_type": "markdown",
      "metadata": {
        "id": "WNq-mr6TQgu1"
      },
      "source": [
        "8. Why is eggs a valid variable name while 100 is invalid?"
      ]
    },
    {
      "cell_type": "code",
      "execution_count": null,
      "metadata": {
        "id": "e_WCh3toQd_s"
      },
      "outputs": [],
      "source": [
        "# variables names cannot be numbers only and also cannot start with numbers.\n",
        "# variables can have characters, hence eggs is valid but 100 is not."
      ]
    },
    {
      "cell_type": "markdown",
      "metadata": {
        "id": "uKXT6fuiRFpp"
      },
      "source": [
        "9. What three functions can be used to get the integer, floating-point number, or string\n",
        "version of a value?"
      ]
    },
    {
      "cell_type": "code",
      "execution_count": null,
      "metadata": {
        "id": "vRH4khMTRDal"
      },
      "outputs": [],
      "source": [
        "# for a value say a = 65.0, b = 45\n",
        "# to get int value a, we use int(a)\n",
        "# to get float value of b, we use float(b)\n",
        "# to get string value of a, we use str(a)"
      ]
    },
    {
      "cell_type": "code",
      "execution_count": null,
      "metadata": {
        "colab": {
          "base_uri": "https://localhost:8080/"
        },
        "id": "von1ZCCxRcZ9",
        "outputId": "a0f11578-6b2e-48b9-a2e1-c59c9ea341c8"
      },
      "outputs": [
        {
          "name": "stdout",
          "output_type": "stream",
          "text": [
            "Int form of a: 65.0 is 65\n",
            "Float form of b: 45 is 45.0\n",
            "String form of a: 65.0 is 65.0\n"
          ]
        }
      ],
      "source": [
        "a, b = 65.0,  45\n",
        "\n",
        "print(f\"Int form of a: {a} is {int(a)}\")\n",
        "print(f\"Float form of b: {b} is {float(b)}\")\n",
        "print(f\"String form of a: {a} is {str(a)}\")"
      ]
    },
    {
      "cell_type": "markdown",
      "metadata": {
        "id": "raxvSGvTSIcw"
      },
      "source": [
        "10. Why does this expression cause an error? How can you fix it?\n",
        "\n",
        "- &#39;I have eaten &#39; + 99 + &#39; burritos.&#39;"
      ]
    },
    {
      "cell_type": "code",
      "execution_count": null,
      "metadata": {
        "colab": {
          "base_uri": "https://localhost:8080/"
        },
        "id": "c42bWWz_Rx3u",
        "outputId": "fbf3537b-3338-478c-fd46-9d0526fc52d5"
      },
      "outputs": [
        {
          "name": "stdout",
          "output_type": "stream",
          "text": [
            "I have eaten99burritos.\n"
          ]
        }
      ],
      "source": [
        "# The expression is trying to concatenate strings and integers, which is not allowed.\n",
        "# to correct we can typecast 99 to str(99)\n",
        "\n",
        "print('I have eaten' + str(99) + 'burritos.')"
      ]
    }
  ],
  "metadata": {
    "colab": {
      "authorship_tag": "ABX9TyNb9UwBRxriRUfd7eDHQiJd",
      "collapsed_sections": [],
      "include_colab_link": true,
      "provenance": []
    },
    "kernelspec": {
      "display_name": "Python 3.10.5 64-bit",
      "language": "python",
      "name": "python3"
    },
    "language_info": {
      "name": "python",
      "version": "3.10.5"
    },
    "vscode": {
      "interpreter": {
        "hash": "26de051ba29f2982a8de78e945f0abaf191376122a1563185a90213a26c5da77"
      }
    }
  },
  "nbformat": 4,
  "nbformat_minor": 0
}
