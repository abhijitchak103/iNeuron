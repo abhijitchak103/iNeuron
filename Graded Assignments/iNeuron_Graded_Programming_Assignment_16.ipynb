{
 "cells": [
  {
   "attachments": {},
   "cell_type": "markdown",
   "metadata": {},
   "source": [
    "# Programming Assignment 16"
   ]
  },
  {
   "attachments": {},
   "cell_type": "markdown",
   "metadata": {},
   "source": [
    "#### Q1. Write a function that stutters a word as if someone is struggling to read it. The first two letters are repeated twice with an ellipsis '...' and space after each, and then the word is pronounced with a question mark '?'.\n",
    "\n",
    "**Examples**\n",
    "```\n",
    "    stutter(\"incredible\") ➞ \"in... in... incredible?\"\n",
    "    stutter(\"enthusiastic\") ➞ \"en... en... enthusiastic?\"\n",
    "    stutter(\"outstanding\") ➞ \"ou... ou... outstanding?\"\n",
    "```\n",
    "Hint :- Assume all input is in lower case and at least two characters long.\n"
   ]
  },
  {
   "attachments": {},
   "cell_type": "markdown",
   "metadata": {},
   "source": [
    "#### Q2. Create a function that takes an angle in radians and returns the corresponding angle in degrees rounded to one decimal place.\n",
    "\n",
    "**Examples**\n",
    "```\n",
    "    radians_to_degrees(1) ➞ 57.3\n",
    "    radians_to_degrees(20) ➞ 1145.9\n",
    "    radians_to_degrees(50) ➞ 2864.8\n",
    "```"
   ]
  },
  {
   "attachments": {},
   "cell_type": "markdown",
   "metadata": {},
   "source": [
    "#### Q3. In this challenge, establish if a given integer num is a Curzon number. If 1 plus 2 elevated to num is exactly divisible by 1 plus 2 multiplied by num, then num is a Curzon number.\n",
    "\n",
    "Given a non-negative integer num, implement a function that returns True if num is a Curzon number, or False otherwise.\n",
    "\n",
    "**Examples**\n",
    "```\n",
    "    is_curzon(5) ➞ True\n",
    "    # 2 ** 5 + 1 = 33\n",
    "    # 2 * 5 + 1 = 11\n",
    "    # 33 is a multiple of 11\n",
    "\n",
    "    is_curzon(10) ➞ False\n",
    "    # 2 ** 10 + 1 = 1025\n",
    "    # 2 * 10 + 1 = 21\n",
    "    # 1025 is not a multiple of 21\n",
    "\n",
    "    is_curzon(14) ➞ True\n",
    "    # 2 ** 14 + 1 = 16385\n",
    "    # 2 * 14 + 1 = 29\n",
    "    # 16385 is a multiple of 29\n",
    "```"
   ]
  },
  {
   "attachments": {},
   "cell_type": "markdown",
   "metadata": {},
   "source": [
    "#### Q4. Given the side length x find the area of a hexagon.\n",
    "\n",
    "![Hexagon](wikihow_hexagon.JPG)\n",
    "\n",
    "**Examples**\n",
    "```\n",
    "    area_of_hexagon(1) ➞ 2.6\n",
    "    area_of_hexagon(2) ➞ 10.4\n",
    "    area_of_hexagon(3) ➞ 23.4\n",
    "```"
   ]
  },
  {
   "cell_type": "markdown",
   "metadata": {},
   "source": [
    "#### Q5. Create a function that returns a base-2 (binary) representation of a base-10 (decimal) string number. To convert is simple: ((2) means base-2 and (10) means base-10) 010101001(2) = 1 + 8 + 32 + 128.\n",
    "\n",
    "Going from right to left, the value of the most right bit is 1, now from that every bit to the left will be x2 the value, value of an 8 bit binary numbers are (256, 128, 64, 32, 16, 8, 4, 2, 1).\n",
    "\n",
    "**Examples**\n",
    "```\n",
    "    binary(1) ➞ \"1\";\n",
    "    # 1*1 = 1\n",
    "    \n",
    "    binary(5) ➞ \"101\";\n",
    "    # 1*1 + 1*4 = 5\n",
    "    \n",
    "    binary(10) ➞ \"1010\";\n",
    "    # 1*2 + 1*8 = 10\n",
    "```"
   ]
  }
 ],
 "metadata": {
  "kernelspec": {
   "display_name": "Python 3",
   "language": "python",
   "name": "python3"
  },
  "language_info": {
   "name": "python",
   "version": "3.10.5 (tags/v3.10.5:f377153, Jun  6 2022, 16:14:13) [MSC v.1929 64 bit (AMD64)]"
  },
  "orig_nbformat": 4,
  "vscode": {
   "interpreter": {
    "hash": "26de051ba29f2982a8de78e945f0abaf191376122a1563185a90213a26c5da77"
   }
  }
 },
 "nbformat": 4,
 "nbformat_minor": 2
}
