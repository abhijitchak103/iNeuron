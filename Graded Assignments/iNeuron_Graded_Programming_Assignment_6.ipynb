{
  "nbformat": 4,
  "nbformat_minor": 0,
  "metadata": {
    "colab": {
      "provenance": [],
      "collapsed_sections": [],
      "authorship_tag": "ABX9TyNDgp/B6PgmIJ5c0WOYfw8C",
      "include_colab_link": true
    },
    "kernelspec": {
      "name": "python3",
      "display_name": "Python 3"
    },
    "language_info": {
      "name": "python"
    }
  },
  "cells": [
    {
      "cell_type": "markdown",
      "metadata": {
        "id": "view-in-github",
        "colab_type": "text"
      },
      "source": [
        "<a href=\"https://colab.research.google.com/github/abhijitchak103/iNeuron/blob/main/Graded%20Assignments/iNeuron_Graded_Programming_Assignment_6.ipynb\" target=\"_parent\"><img src=\"https://colab.research.google.com/assets/colab-badge.svg\" alt=\"Open In Colab\"/></a>"
      ]
    },
    {
      "cell_type": "markdown",
      "source": [
        "# Programming Assignment 6"
      ],
      "metadata": {
        "id": "O1UTZ4X9KNZF"
      }
    },
    {
      "cell_type": "markdown",
      "source": [
        "#### 1. Write a Python Program to Display Fibonacci Sequence Using Recursion?\n"
      ],
      "metadata": {
        "id": "ypZpUHFaKBO0"
      }
    },
    {
      "cell_type": "code",
      "execution_count": 1,
      "metadata": {
        "colab": {
          "base_uri": "https://localhost:8080/"
        },
        "id": "4rI6LDpHBDac",
        "outputId": "609151bc-fcd4-4d22-a1e6-259c58b3d2ba"
      },
      "outputs": [
        {
          "output_type": "stream",
          "name": "stdout",
          "text": [
            "Enter a number: 6\n",
            "1\n",
            "1\n",
            "2\n",
            "3\n",
            "5\n",
            "8\n",
            "13\n"
          ]
        }
      ],
      "source": [
        "def fib(n):\n",
        "    if n == 0 or n == 1:\n",
        "        return 1\n",
        "    else:\n",
        "        return fib(n-1) + fib(n-2)\n",
        "\n",
        "x = int(input(\"Enter a number: \"))\n",
        "\n",
        "for i in range(x+1):\n",
        "    print(fib(i))"
      ]
    },
    {
      "cell_type": "markdown",
      "source": [
        "#### 2. Write a Python Program to Find Factorial of Number Using Recursion?\n"
      ],
      "metadata": {
        "id": "mjO0488XKDX8"
      }
    },
    {
      "cell_type": "code",
      "source": [
        "def fact(n):\n",
        "    if n == 0 or n == 1:\n",
        "        return 1\n",
        "    else:\n",
        "        return n*fact(n-1)\n",
        "\n",
        "n = int(input(\"Enter a number: \"))\n",
        "print(f\"The factorial of {n} is {fact(n)}\")"
      ],
      "metadata": {
        "colab": {
          "base_uri": "https://localhost:8080/"
        },
        "id": "lIASah2ZK175",
        "outputId": "e0c972e0-a2be-4819-99e0-d5e20329a242"
      },
      "execution_count": 5,
      "outputs": [
        {
          "output_type": "stream",
          "name": "stdout",
          "text": [
            "Enter a number: 2\n",
            "The factorial of 2 is 2\n"
          ]
        }
      ]
    },
    {
      "cell_type": "markdown",
      "source": [
        "#### 3. Write a Python Program to calculate your Body Mass Index?\n"
      ],
      "metadata": {
        "id": "dD7UmtyOKFIT"
      }
    },
    {
      "cell_type": "code",
      "source": [
        "w = float(input(\"Enter your weight in kgs: \"))\n",
        "h = float(input(\"Enter your height in m: \"))\n",
        "\n",
        "bmi = w/(h**2)\n",
        "\n",
        "print(f\"Your BMI is: {bmi: .2f}\")"
      ],
      "metadata": {
        "colab": {
          "base_uri": "https://localhost:8080/"
        },
        "id": "jt5pPcvbLX09",
        "outputId": "62c6dba1-c117-4b05-84b9-c4fd220377fd"
      },
      "execution_count": 7,
      "outputs": [
        {
          "output_type": "stream",
          "name": "stdout",
          "text": [
            "Enter your weight in kgs: 75\n",
            "Enter your height in m: 1.82\n",
            "Your BMI is:  22.64\n"
          ]
        }
      ]
    },
    {
      "cell_type": "markdown",
      "source": [
        "#### 4. Write a Python Program to calculate the natural logarithm of any number?\n"
      ],
      "metadata": {
        "id": "vZ5VIQqUKH9E"
      }
    },
    {
      "cell_type": "code",
      "source": [
        "import math\n",
        "\n",
        "valid = True\n",
        "\n",
        "while valid == True:\n",
        "    n = float(input(\"Enter a number: \"))\n",
        "    if n > 0:\n",
        "        valid = False\n",
        "        x = math.log(n)\n",
        "        print(f\"The natural log of {n} is {x: .2f}\")\n",
        "    else:\n",
        "        print(\"Please a number greater than 0.\")"
      ],
      "metadata": {
        "colab": {
          "base_uri": "https://localhost:8080/"
        },
        "id": "DjnHu2IbMAwy",
        "outputId": "fe83ed59-4707-47db-b93a-f72328bc88ac"
      },
      "execution_count": 21,
      "outputs": [
        {
          "output_type": "stream",
          "name": "stdout",
          "text": [
            "Enter a number: 5\n",
            "The natural log of 5.0 is  1.61\n"
          ]
        }
      ]
    },
    {
      "cell_type": "markdown",
      "source": [
        "#### 5. Write a Python Program for cube sum of first n natural numbers?\n"
      ],
      "metadata": {
        "id": "PmD23KUNKJoN"
      }
    },
    {
      "cell_type": "code",
      "source": [
        "n = int(input(\"Enter a natural number: \"))\n",
        "\n",
        "cube_sum = (n*(n+1))**2/4\n",
        "\n",
        "print(f\"The cube of first {n} natural numbers is {cube_sum}\")"
      ],
      "metadata": {
        "colab": {
          "base_uri": "https://localhost:8080/"
        },
        "id": "dw494i3xKMoc",
        "outputId": "d32d86f7-1794-45c6-a7e3-381c3e6a29eb"
      },
      "execution_count": 22,
      "outputs": [
        {
          "output_type": "stream",
          "name": "stdout",
          "text": [
            "Enter a natural number: 5\n",
            "The cube of first 5 natural numbers is 225.0\n"
          ]
        }
      ]
    }
  ]
}