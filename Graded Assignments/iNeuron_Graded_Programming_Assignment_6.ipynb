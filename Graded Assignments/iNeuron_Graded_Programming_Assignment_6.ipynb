{
  "cells": [
    {
      "cell_type": "markdown",
      "metadata": {
        "colab_type": "text",
        "id": "view-in-github"
      },
      "source": [
        "<a href=\"https://colab.research.google.com/github/abhijitchak103/iNeuron/blob/main/Graded%20Assignments/iNeuron_Graded_Programming_Assignment_6.ipynb\" target=\"_parent\"><img src=\"https://colab.research.google.com/assets/colab-badge.svg\" alt=\"Open In Colab\"/></a>"
      ]
    },
    {
      "cell_type": "markdown",
      "metadata": {
        "id": "O1UTZ4X9KNZF"
      },
      "source": [
        "# Programming Assignment 6"
      ]
    },
    {
      "cell_type": "markdown",
      "metadata": {
        "id": "ypZpUHFaKBO0"
      },
      "source": [
        "#### 1. Write a Python Program to Display Fibonacci Sequence Using Recursion?\n"
      ]
    },
    {
      "cell_type": "code",
      "execution_count": 1,
      "metadata": {
        "colab": {
          "base_uri": "https://localhost:8080/"
        },
        "id": "4rI6LDpHBDac",
        "outputId": "609151bc-fcd4-4d22-a1e6-259c58b3d2ba"
      },
      "outputs": [
        {
          "name": "stdout",
          "output_type": "stream",
          "text": [
            "Enter a number: 6\n",
            "1\n",
            "1\n",
            "2\n",
            "3\n",
            "5\n",
            "8\n",
            "13\n"
          ]
        }
      ],
      "source": [
        "def fib(n):\n",
        "    if n == 0 or n == 1:\n",
        "        return 1\n",
        "    else:\n",
        "        return fib(n-1) + fib(n-2)\n",
        "\n",
        "x = int(input(\"Enter a number: \"))\n",
        "\n",
        "for i in range(x+1):\n",
        "    print(fib(i))"
      ]
    },
    {
      "cell_type": "markdown",
      "metadata": {
        "id": "mjO0488XKDX8"
      },
      "source": [
        "#### 2. Write a Python Program to Find Factorial of Number Using Recursion?\n"
      ]
    },
    {
      "cell_type": "code",
      "execution_count": 5,
      "metadata": {
        "colab": {
          "base_uri": "https://localhost:8080/"
        },
        "id": "lIASah2ZK175",
        "outputId": "e0c972e0-a2be-4819-99e0-d5e20329a242"
      },
      "outputs": [
        {
          "name": "stdout",
          "output_type": "stream",
          "text": [
            "Enter a number: 2\n",
            "The factorial of 2 is 2\n"
          ]
        }
      ],
      "source": [
        "def fact(n):\n",
        "    if n == 0 or n == 1:\n",
        "        return 1\n",
        "    else:\n",
        "        return n*fact(n-1)\n",
        "\n",
        "n = int(input(\"Enter a number: \"))\n",
        "print(f\"The factorial of {n} is {fact(n)}\")"
      ]
    },
    {
      "cell_type": "markdown",
      "metadata": {
        "id": "dD7UmtyOKFIT"
      },
      "source": [
        "#### 3. Write a Python Program to calculate your Body Mass Index?\n"
      ]
    },
    {
      "cell_type": "code",
      "execution_count": 7,
      "metadata": {
        "colab": {
          "base_uri": "https://localhost:8080/"
        },
        "id": "jt5pPcvbLX09",
        "outputId": "62c6dba1-c117-4b05-84b9-c4fd220377fd"
      },
      "outputs": [
        {
          "name": "stdout",
          "output_type": "stream",
          "text": [
            "Enter your weight in kgs: 75\n",
            "Enter your height in m: 1.82\n",
            "Your BMI is:  22.64\n"
          ]
        }
      ],
      "source": [
        "w = float(input(\"Enter your weight in kgs: \"))\n",
        "h = float(input(\"Enter your height in m: \"))\n",
        "\n",
        "bmi = w/(h**2)\n",
        "\n",
        "print(f\"Your BMI is: {bmi: .2f}\")"
      ]
    },
    {
      "cell_type": "markdown",
      "metadata": {
        "id": "vZ5VIQqUKH9E"
      },
      "source": [
        "#### 4. Write a Python Program to calculate the natural logarithm of any number?\n"
      ]
    },
    {
      "cell_type": "code",
      "execution_count": 21,
      "metadata": {
        "colab": {
          "base_uri": "https://localhost:8080/"
        },
        "id": "DjnHu2IbMAwy",
        "outputId": "fe83ed59-4707-47db-b93a-f72328bc88ac"
      },
      "outputs": [
        {
          "name": "stdout",
          "output_type": "stream",
          "text": [
            "Enter a number: 5\n",
            "The natural log of 5.0 is  1.61\n"
          ]
        }
      ],
      "source": [
        "import math\n",
        "\n",
        "valid = True\n",
        "\n",
        "while valid == True:\n",
        "    n = float(input(\"Enter a number: \"))\n",
        "    if n > 0:\n",
        "        valid = False\n",
        "        x = math.log(n)\n",
        "        print(f\"The natural log of {n} is {x: .2f}\")\n",
        "    else:\n",
        "        print(\"Please a number greater than 0.\")"
      ]
    },
    {
      "cell_type": "markdown",
      "metadata": {
        "id": "PmD23KUNKJoN"
      },
      "source": [
        "#### 5. Write a Python Program for cube sum of first n natural numbers?\n"
      ]
    },
    {
      "cell_type": "code",
      "execution_count": 22,
      "metadata": {
        "colab": {
          "base_uri": "https://localhost:8080/"
        },
        "id": "dw494i3xKMoc",
        "outputId": "d32d86f7-1794-45c6-a7e3-381c3e6a29eb"
      },
      "outputs": [
        {
          "name": "stdout",
          "output_type": "stream",
          "text": [
            "Enter a natural number: 5\n",
            "The cube of first 5 natural numbers is 225.0\n"
          ]
        }
      ],
      "source": [
        "n = int(input(\"Enter a natural number: \"))\n",
        "\n",
        "cube_sum = (n*(n+1))**2/4\n",
        "\n",
        "print(f\"The cube of first {n} natural numbers is {cube_sum}\")"
      ]
    }
  ],
  "metadata": {
    "colab": {
      "authorship_tag": "ABX9TyNDgp/B6PgmIJ5c0WOYfw8C",
      "collapsed_sections": [],
      "include_colab_link": true,
      "provenance": []
    },
    "kernelspec": {
      "display_name": "Python 3.10.5 64-bit",
      "language": "python",
      "name": "python3"
    },
    "language_info": {
      "name": "python",
      "version": "3.10.5"
    },
    "vscode": {
      "interpreter": {
        "hash": "26de051ba29f2982a8de78e945f0abaf191376122a1563185a90213a26c5da77"
      }
    }
  },
  "nbformat": 4,
  "nbformat_minor": 0
}
