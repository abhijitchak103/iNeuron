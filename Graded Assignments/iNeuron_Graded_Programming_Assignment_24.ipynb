{
 "cells": [
  {
   "attachments": {},
   "cell_type": "markdown",
   "metadata": {},
   "source": [
    "Q1. Create a function that takes an integer and returns a list from 1 to the given number, where:\n",
    "\n",
    "1. If the number can be divided evenly by 4, amplify it by 10 (i.e. return 10 times the\n",
    "number).\n",
    "2. If the number cannot be divided evenly by 4, simply return the number.\n",
    "\n",
    "*Examples*\n",
    "```\n",
    "amplify(4) ➞ [1, 2, 3, 40]\n",
    "amplify(3) ➞ [1, 2, 3]\n",
    "amplify(25) ➞ [1, 2, 3, 40, 5, 6, 7, 80, 9, 10, 11, 120, 13, 14, 15, 160, 17, 18, 19, 200, 21, 22, 23, 240, 25]\n",
    "```\n",
    "\n",
    "*Notes*:\n",
    "\n",
    "- The given integer will always be equal to or greater than 1.\n",
    "- Include the number (see example above).\n",
    "- To perform this problem with its intended purpose, try doing it with listcomprehensions. If that's too difficult, just solve the challenge any way you can."
   ]
  },
  {
   "cell_type": "code",
   "execution_count": 2,
   "metadata": {},
   "outputs": [
    {
     "name": "stdout",
     "output_type": "stream",
     "text": [
      "[1, 2, 3, 40]\n",
      "[1, 2, 3]\n",
      "[1, 2, 3, 40, 5, 6, 7, 80, 9, 10, 11, 120, 13, 14, 15, 160, 17, 18, 19, 200, 21, 22, 23, 240, 25]\n"
     ]
    }
   ],
   "source": [
    "def amplify(n: int):\n",
    "    \"\"\"\n",
    "    Returns the list of all numbers till n (including n). Each number gets multiplied by 10 if divisible by 4, else the number itself is returned.\n",
    "    \"\"\"\n",
    "\n",
    "    return [i*10 if i%4 == 0 else i for i in range(1, n+1)]\n",
    "\n",
    "print(amplify(4))\n",
    "print(amplify(3))\n",
    "print(amplify(25))"
   ]
  },
  {
   "attachments": {},
   "cell_type": "markdown",
   "metadata": {},
   "source": [
    "Q2. Create a function that takes a list of numbers and return the number that's unique.\n",
    "\n",
    "*Examples*\n",
    "```\n",
    "unique([3, 3, 3, 7, 3, 3]) ➞ 7\n",
    "unique([0, 0, 0.77, 0, 0]) ➞ 0.77\n",
    "unique([0, 1, 1, 1, 1, 1, 1, 1]) ➞ 0\n",
    "```\n",
    "\n",
    "*Notes*:\n",
    "\n",
    "Test cases will always have exactly one unique number while all others are the same."
   ]
  },
  {
   "cell_type": "code",
   "execution_count": 3,
   "metadata": {},
   "outputs": [
    {
     "name": "stdout",
     "output_type": "stream",
     "text": [
      "7\n",
      "0.77\n",
      "0\n"
     ]
    }
   ],
   "source": [
    "def unique(l: list):\n",
    "    \"\"\"\n",
    "    Returns the unique element in given list\n",
    "    \"\"\"\n",
    "    for ele in l:\n",
    "        if l.count(ele) == 1:\n",
    "            return ele\n",
    "\n",
    "print(unique([3, 3, 3, 7, 3, 3]))\n",
    "print(unique([0, 0, 0.77, 0, 0]))\n",
    "print(unique([0, 1, 1, 1, 1, 1, 1, 1]))"
   ]
  },
  {
   "attachments": {},
   "cell_type": "markdown",
   "metadata": {},
   "source": [
    "Q3. Your task is to create a Circle constructor that creates a circle with a radius provided by an argument. The circles constructed must have two getters getArea() (PIr^2) and getPerimeter() (2PI*r) which give both respective areas and perimeter (circumference).\n",
    "\n",
    "*Examples*\n",
    "```\n",
    "circy = Circle(11)\n",
    "circy.getArea()\n",
    "# Should return 380.132711084365\n",
    "\n",
    "circy = Circle(4.44)\n",
    "circy.getPerimeter()\n",
    "# Should return 27.897342763877365\n",
    "```\n",
    "\n",
    "*Notes*: Round results up to the nearest integer."
   ]
  },
  {
   "cell_type": "code",
   "execution_count": 7,
   "metadata": {},
   "outputs": [
    {
     "name": "stdout",
     "output_type": "stream",
     "text": [
      "380\n",
      "28\n"
     ]
    }
   ],
   "source": [
    "class Circle():\n",
    "    def __init__(self, radius: float):\n",
    "        \"\"\"\n",
    "        Initializing the radius attribute to the circle\n",
    "        \"\"\"\n",
    "        self.radius = radius\n",
    "\n",
    "    def getArea(self):\n",
    "        \"\"\"\n",
    "        Returns the area of the circle\n",
    "        \"\"\"\n",
    "        import math\n",
    "        return round(math.pi*self.radius**2)\n",
    "\n",
    "    def getPerimeter(self):\n",
    "        \"\"\"\n",
    "        Returns the perimeter/circumference of the circle\n",
    "        \"\"\"\n",
    "        import math\n",
    "        return round(2*math.pi*self.radius)\n",
    "\n",
    "circy = Circle(11)\n",
    "print(circy.getArea())\n",
    "\n",
    "circy = Circle(4.44)\n",
    "print(circy.getPerimeter())"
   ]
  },
  {
   "attachments": {},
   "cell_type": "markdown",
   "metadata": {},
   "source": [
    "Q4. Create a function that takes a list of strings and return a list, sorted from shortest to longest.\n",
    "\n",
    "*Examples*\n",
    "```\n",
    "sort_by_length([\"Google\", \"Apple\", \"Microsoft\"])\n",
    "➞ [\"Apple\", \"Google\", \"Microsoft\"]\n",
    "sort_by_length([\"Leonardo\", \"Michelangelo\", \"Raphael\", \"Donatello\"])\n",
    "➞ [\"Raphael\", \"Leonardo\", \"Donatello\", \"Michelangelo\"]\n",
    "sort_by_length([\"Turing\", \"Einstein\", \"Jung\"])\n",
    "➞ [\"Jung\", \"Turing\", \"Einstein\"]\n",
    "```\n",
    "\n",
    "*Notes*: All test cases contain lists with strings of different lengths, so you won't have to deal with multiple strings of the same length."
   ]
  },
  {
   "cell_type": "code",
   "execution_count": 10,
   "metadata": {},
   "outputs": [
    {
     "name": "stdout",
     "output_type": "stream",
     "text": [
      "['Apple', 'Google', 'Microsoft']\n",
      "['Raphael', 'Leonardo', 'Donatello', 'Michelangelo']\n",
      "['Jung', 'Turing', 'Einstein']\n"
     ]
    }
   ],
   "source": [
    "def sort_by_length(l: list) -> list:\n",
    "    \"\"\"\n",
    "    Returns a list of elements in passed argument in sorted way according to length.\n",
    "    \"\"\"\n",
    "    l.sort(key=len)\n",
    "    return l\n",
    "\n",
    "print(sort_by_length([\"Google\", \"Apple\", \"Microsoft\"]))\n",
    "print(sort_by_length([\"Leonardo\", \"Michelangelo\", \"Raphael\", \"Donatello\"]))\n",
    "print(sort_by_length([\"Turing\", \"Einstein\", \"Jung\"]))\n"
   ]
  },
  {
   "attachments": {},
   "cell_type": "markdown",
   "metadata": {},
   "source": [
    "Q5. Create a function that validates whether three given integers form a Pythagorean triplet. The sum of the squares of the two smallest integers must equal the square of the largest number to be validated."
   ]
  },
  {
   "cell_type": "code",
   "execution_count": 12,
   "metadata": {},
   "outputs": [
    {
     "name": "stdout",
     "output_type": "stream",
     "text": [
      "True\n",
      "True\n",
      "False\n"
     ]
    }
   ],
   "source": [
    "def validate_Pythagorean_triplet(a: int, b: int, c: int) -> bool:\n",
    "    \"\"\"\n",
    "    Validates whether the numbers passed form a Pythagorean triplet or not\n",
    "    \"\"\"\n",
    "    high = max(a, b, c)\n",
    "    low = min(a, b, c)\n",
    "    for i in [a, b, c]:\n",
    "        if i != high and i != low:\n",
    "            mid = i\n",
    "\n",
    "    if mid**2 + low**2 == high**2:\n",
    "        return True\n",
    "    else:\n",
    "        return False\n",
    "\n",
    "print(validate_Pythagorean_triplet(5,3,4))\n",
    "print(validate_Pythagorean_triplet(5,13,12))\n",
    "print(validate_Pythagorean_triplet(1,2,3))\n",
    "\n",
    "\n",
    "    "
   ]
  }
 ],
 "metadata": {
  "kernelspec": {
   "display_name": "base",
   "language": "python",
   "name": "python3"
  },
  "language_info": {
   "codemirror_mode": {
    "name": "ipython",
    "version": 3
   },
   "file_extension": ".py",
   "mimetype": "text/x-python",
   "name": "python",
   "nbconvert_exporter": "python",
   "pygments_lexer": "ipython3",
   "version": "3.9.13"
  },
  "orig_nbformat": 4,
  "vscode": {
   "interpreter": {
    "hash": "26477a1bc0f2991541817bec2ba146e84b80adc2173b1474d57acbdb80428c6b"
   }
  }
 },
 "nbformat": 4,
 "nbformat_minor": 2
}
