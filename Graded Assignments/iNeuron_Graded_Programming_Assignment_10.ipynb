{
 "cells": [
  {
   "cell_type": "markdown",
   "metadata": {},
   "source": [
    "# Programming Assignment 10"
   ]
  },
  {
   "cell_type": "markdown",
   "metadata": {},
   "source": [
    "#### 1. Write a Python program to find sum of elements in list?"
   ]
  },
  {
   "cell_type": "code",
   "execution_count": 1,
   "metadata": {},
   "outputs": [],
   "source": [
    "def sumoflist(l):\n",
    "    \"\"\"\n",
    "    Returns the sum of numeric elements of a list\n",
    "    Input: list\n",
    "    Output: Numeric\n",
    "    \"\"\"\n",
    "    sum = 0\n",
    "    for ele in l:\n",
    "        if type(ele) == int or type(ele) == float:\n",
    "            sum += ele\n",
    "    return sum"
   ]
  },
  {
   "cell_type": "markdown",
   "metadata": {},
   "source": [
    "#### 2. Write a Python program to Multiply all numbers in the list?\n"
   ]
  },
  {
   "cell_type": "code",
   "execution_count": 2,
   "metadata": {},
   "outputs": [],
   "source": [
    "def productoflist(l):\n",
    "    \"\"\"\n",
    "    Returns the product of numeric elements of a list\n",
    "    Input: list\n",
    "    Output: Numeric\n",
    "    \"\"\"\n",
    "    prod = 1\n",
    "    for ele in l:\n",
    "        if type(ele) == int or type(ele) == float:\n",
    "            prod *= ele\n",
    "    return prod"
   ]
  },
  {
   "cell_type": "markdown",
   "metadata": {},
   "source": [
    "#### 3. Write a Python program to find smallest number in a list?"
   ]
  },
  {
   "cell_type": "code",
   "execution_count": 5,
   "metadata": {},
   "outputs": [],
   "source": [
    "def minimum(l: list):\n",
    "    \"\"\"\n",
    "    Returns the smallest item in a list\n",
    "    Input: A list\n",
    "    Output: The smallest item in the list\n",
    "    \"\"\"\n",
    "    min = l[0]\n",
    "    for ele in l:\n",
    "        if ele <= ele:\n",
    "            min = ele\n",
    "    return min"
   ]
  },
  {
   "cell_type": "code",
   "execution_count": 6,
   "metadata": {},
   "outputs": [
    {
     "data": {
      "text/plain": [
       "-5"
      ]
     },
     "execution_count": 6,
     "metadata": {},
     "output_type": "execute_result"
    }
   ],
   "source": [
    "minimum([4,1,7,5,0,-5])"
   ]
  },
  {
   "cell_type": "markdown",
   "metadata": {},
   "source": [
    "#### 4. Write a Python program to find largest number in a list?\n"
   ]
  },
  {
   "cell_type": "code",
   "execution_count": 5,
   "metadata": {},
   "outputs": [],
   "source": [
    "def largest(l):\n",
    "    \"\"\"\n",
    "    Returns the largest item in a list\n",
    "    Input: A list\n",
    "    Output: The largest item in the list\n",
    "    \"\"\"\n",
    "    max = l[0]\n",
    "    for ele in l:\n",
    "        if ele >= max:\n",
    "            max = ele\n",
    "    return max"
   ]
  },
  {
   "cell_type": "code",
   "execution_count": 6,
   "metadata": {},
   "outputs": [
    {
     "data": {
      "text/plain": [
       "7"
      ]
     },
     "execution_count": 6,
     "metadata": {},
     "output_type": "execute_result"
    }
   ],
   "source": [
    "largest([4,1,7,5,0,-5])"
   ]
  },
  {
   "cell_type": "markdown",
   "metadata": {},
   "source": [
    "#### 5. Write a Python program to find second largest number in a list?\n"
   ]
  },
  {
   "cell_type": "code",
   "execution_count": 19,
   "metadata": {},
   "outputs": [],
   "source": [
    "def sec_largest(l):\n",
    "    \"\"\"\n",
    "    Returns the second largest item in a list\n",
    "    Input: list\n",
    "    Output: Second largest element in list\n",
    "    \"\"\"\n",
    "    max = largest(l)\n",
    "    res = [i for i in l if i != max]\n",
    "    return largest(res)"
   ]
  },
  {
   "cell_type": "code",
   "execution_count": 20,
   "metadata": {},
   "outputs": [
    {
     "data": {
      "text/plain": [
       "3"
      ]
     },
     "execution_count": 20,
     "metadata": {},
     "output_type": "execute_result"
    }
   ],
   "source": [
    "sec_largest([-9, -5, -9, 0, 3, 8, 8])"
   ]
  },
  {
   "cell_type": "markdown",
   "metadata": {},
   "source": [
    "#### 6. Write a Python program to find N largest elements from a list?\n"
   ]
  },
  {
   "cell_type": "code",
   "execution_count": 23,
   "metadata": {},
   "outputs": [],
   "source": [
    "def n_largest(l: list, n: int):\n",
    "    \"\"\"\n",
    "    Returns the n largest elements in a list\n",
    "    Input: list\n",
    "    Output: list\n",
    "    \"\"\"\n",
    "    l.sort(reverse = True)\n",
    "    return l[:n]\n"
   ]
  },
  {
   "cell_type": "code",
   "execution_count": 24,
   "metadata": {},
   "outputs": [
    {
     "data": {
      "text/plain": [
       "[7, 7, 6, 5, 4]"
      ]
     },
     "execution_count": 24,
     "metadata": {},
     "output_type": "execute_result"
    }
   ],
   "source": [
    "n_largest([1,3,7,7,4,5,3,0,4,6], 5)"
   ]
  },
  {
   "cell_type": "markdown",
   "metadata": {},
   "source": [
    "#### 7. Write a Python program to print even numbers in a list?\n"
   ]
  },
  {
   "cell_type": "code",
   "execution_count": 25,
   "metadata": {},
   "outputs": [],
   "source": [
    "def evens(l: list):\n",
    "    \"\"\"\n",
    "    Returns the even numbers in a list\n",
    "    Input: list\n",
    "    Output: even numbers in the list\n",
    "    \"\"\"\n",
    "    even = list()\n",
    "    for i in l:\n",
    "        if i%2 == 0:\n",
    "            even.append(i)\n",
    "\n",
    "    return even"
   ]
  },
  {
   "cell_type": "code",
   "execution_count": 26,
   "metadata": {},
   "outputs": [
    {
     "data": {
      "text/plain": [
       "[4, 8, 0, 2, 6, 4]"
      ]
     },
     "execution_count": 26,
     "metadata": {},
     "output_type": "execute_result"
    }
   ],
   "source": [
    "evens([4,3,8,1,0,2,6,4,7])"
   ]
  },
  {
   "cell_type": "markdown",
   "metadata": {},
   "source": [
    "#### 8. Write a Python program to print odd numbers in a List?\n"
   ]
  },
  {
   "cell_type": "code",
   "execution_count": 27,
   "metadata": {},
   "outputs": [],
   "source": [
    "def odds(l: list):\n",
    "    \"\"\"\n",
    "    Returns the oddd numbers in a list\n",
    "    Input: list\n",
    "    Output: odd numbers in the list\n",
    "    \"\"\"\n",
    "    odd = list()\n",
    "    for i in l:\n",
    "        if i%2 != 0:\n",
    "            odd.append(i)\n",
    "\n",
    "    return odd"
   ]
  },
  {
   "cell_type": "markdown",
   "metadata": {},
   "source": [
    "#### 9. Write a Python program to Remove empty List from List?\n"
   ]
  },
  {
   "cell_type": "code",
   "execution_count": 28,
   "metadata": {},
   "outputs": [
    {
     "data": {
      "text/plain": [
       "[3, 1, 7]"
      ]
     },
     "execution_count": 28,
     "metadata": {},
     "output_type": "execute_result"
    }
   ],
   "source": [
    "odds([4,3,8,1,0,2,6,4,7])"
   ]
  },
  {
   "cell_type": "markdown",
   "metadata": {},
   "source": [
    "#### 10. Write a Python program to Cloning or Copying a list?\n"
   ]
  },
  {
   "cell_type": "code",
   "execution_count": 29,
   "metadata": {},
   "outputs": [],
   "source": [
    "def clone_list(l: list):\n",
    "    \"\"\"\n",
    "    Returns a copy of the entered list\n",
    "    Input: list\n",
    "    Output: list\n",
    "    \"\"\"\n",
    "    return l[:]"
   ]
  },
  {
   "cell_type": "code",
   "execution_count": 31,
   "metadata": {},
   "outputs": [
    {
     "name": "stdout",
     "output_type": "stream",
     "text": [
      "a before cloning: ['etf', 'lo', 1, 5], b before cloning: ['etf', 'lo', 1, 5]\n",
      "\n",
      "a after cloning: ['etf', 'lo', 1, 5], b after cloning: ['etf', 'lo', 'update', 5]\n"
     ]
    }
   ],
   "source": [
    "a = [\"etf\", \"lo\", 1, 5]\n",
    "b = clone_list(a)\n",
    "\n",
    "print(f\"a before cloning: {a}, b before cloning: {b}\")\n",
    "\n",
    "b[2] = \"update\"\n",
    "\n",
    "print(f\"\\na after cloning: {a}, b after cloning: {b}\")"
   ]
  },
  {
   "cell_type": "markdown",
   "metadata": {},
   "source": [
    "#### 11. Write a Python program to Count occurrences of an element in a list?"
   ]
  },
  {
   "cell_type": "code",
   "execution_count": 47,
   "metadata": {},
   "outputs": [],
   "source": [
    "def count_item(l: list, n):\n",
    "    \"\"\"\n",
    "    Returns the count of a specific element in a list\n",
    "    Input: list\n",
    "    Output: int\n",
    "    \"\"\"\n",
    "    if n in l:\n",
    "        res = l.count(n)\n",
    "        return res\n",
    "    else:\n",
    "        print(f\"Element {n} not found in list {l}\")"
   ]
  },
  {
   "cell_type": "code",
   "execution_count": 48,
   "metadata": {},
   "outputs": [
    {
     "data": {
      "text/plain": [
       "2"
      ]
     },
     "execution_count": 48,
     "metadata": {},
     "output_type": "execute_result"
    }
   ],
   "source": [
    "count_item([1, 5, \"lo\", 5, \"5\", 9], 5)"
   ]
  },
  {
   "cell_type": "code",
   "execution_count": 49,
   "metadata": {},
   "outputs": [
    {
     "name": "stdout",
     "output_type": "stream",
     "text": [
      "Element -1 not found in list [1, 5, 'lo', 5, '5', 9]\n"
     ]
    }
   ],
   "source": [
    "count_item([1, 5, \"lo\", 5, \"5\", 9], -1)"
   ]
  }
 ],
 "metadata": {
  "kernelspec": {
   "display_name": "Python 3.10.5 64-bit",
   "language": "python",
   "name": "python3"
  },
  "language_info": {
   "codemirror_mode": {
    "name": "ipython",
    "version": 3
   },
   "file_extension": ".py",
   "mimetype": "text/x-python",
   "name": "python",
   "nbconvert_exporter": "python",
   "pygments_lexer": "ipython3",
   "version": "3.10.5"
  },
  "orig_nbformat": 4,
  "vscode": {
   "interpreter": {
    "hash": "26de051ba29f2982a8de78e945f0abaf191376122a1563185a90213a26c5da77"
   }
  }
 },
 "nbformat": 4,
 "nbformat_minor": 2
}
