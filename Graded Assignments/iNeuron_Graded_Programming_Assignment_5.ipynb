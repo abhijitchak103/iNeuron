{
  "nbformat": 4,
  "nbformat_minor": 0,
  "metadata": {
    "colab": {
      "provenance": [],
      "collapsed_sections": [],
      "authorship_tag": "ABX9TyN9EShAJPMkCHRJhE2YjqbU",
      "include_colab_link": true
    },
    "kernelspec": {
      "name": "python3",
      "display_name": "Python 3"
    },
    "language_info": {
      "name": "python"
    }
  },
  "cells": [
    {
      "cell_type": "markdown",
      "metadata": {
        "id": "view-in-github",
        "colab_type": "text"
      },
      "source": [
        "<a href=\"https://colab.research.google.com/github/abhijitchak103/iNeuron/blob/main/Graded%20Assignments/iNeuron_Graded_Programming_Assignment_5.ipynb\" target=\"_parent\"><img src=\"https://colab.research.google.com/assets/colab-badge.svg\" alt=\"Open In Colab\"/></a>"
      ]
    },
    {
      "cell_type": "markdown",
      "source": [
        "# Programming Assignment 5"
      ],
      "metadata": {
        "id": "Pu3wiYxP1Sat"
      }
    },
    {
      "cell_type": "markdown",
      "source": [
        "####1. Write a Python Program to Find LCM?\n"
      ],
      "metadata": {
        "id": "3OR9T7ND1RUN"
      }
    },
    {
      "cell_type": "code",
      "execution_count": 4,
      "metadata": {
        "colab": {
          "base_uri": "https://localhost:8080/"
        },
        "id": "OeKk-Xxo1NNw",
        "outputId": "c453c3d2-1e59-4c65-c594-f9b1b22f60d5"
      },
      "outputs": [
        {
          "output_type": "stream",
          "name": "stdout",
          "text": [
            "Enter the first number: 15\n",
            "Enter the second number: 20\n",
            "The LCM of 15 and 20 is 60.0\n"
          ]
        }
      ],
      "source": [
        "def hcf(a, b):\n",
        "    c = max(a, b)\n",
        "    d = min(a, b)\n",
        "\n",
        "    if c%d == 0:\n",
        "        return d\n",
        "    else:\n",
        "        return hcf(d, c%d)\n",
        "\n",
        "a = int(input(\"Enter the first number: \"))\n",
        "b = int(input(\"Enter the second number: \"))\n",
        "\n",
        "gcd = hcf(a, b)\n",
        "\n",
        "lcm = (a*b)/gcd\n",
        "\n",
        "print(f\"The LCM of {a} and {b} is {lcm}\")"
      ]
    },
    {
      "cell_type": "markdown",
      "source": [
        "####2. Write a Python Program to Find HCF?\n"
      ],
      "metadata": {
        "id": "_RNaWlKc1YMk"
      }
    },
    {
      "cell_type": "code",
      "source": [
        "def hcf(a, b):\n",
        "    c = max(a, b)\n",
        "    d = min(a, b)\n",
        "\n",
        "    if c%d == 0:\n",
        "        return d\n",
        "    else:\n",
        "        return hcf(d, c%d)\n",
        "\n",
        "a = int(input(\"Enter the first number: \"))\n",
        "b = int(input(\"Enter the second number: \"))\n",
        "\n",
        "print(f\"\\nThe HCF of {a} and {b} is {hcf(a,b)}\")\n",
        "\n"
      ],
      "metadata": {
        "colab": {
          "base_uri": "https://localhost:8080/"
        },
        "id": "xluidO1a2IjH",
        "outputId": "7e631356-c08a-4d5d-bf49-50b4996b3f2b"
      },
      "execution_count": 3,
      "outputs": [
        {
          "output_type": "stream",
          "name": "stdout",
          "text": [
            "Enter the first number: 34\n",
            "Enter the second number: 4\n",
            "\n",
            "The HCF of 34 and 4 is 2\n"
          ]
        }
      ]
    },
    {
      "cell_type": "markdown",
      "source": [
        "####3. Write a Python Program to Convert Decimal to Binary, Octal and Hexadecimal?\n"
      ],
      "metadata": {
        "id": "g9HatK9M1Zxl"
      }
    },
    {
      "cell_type": "markdown",
      "source": [
        "####4. Write a Python Program To Find ASCII value of a character?\n"
      ],
      "metadata": {
        "id": "Qpsz4yyQ1bXu"
      }
    },
    {
      "cell_type": "markdown",
      "source": [
        "####5. Write a Python Program to Make a Simple Calculator with 4 basic mathematical operations?"
      ],
      "metadata": {
        "id": "2MMzEvAS1duN"
      }
    },
    {
      "cell_type": "code",
      "source": [],
      "metadata": {
        "id": "yvvcsWGL1heB"
      },
      "execution_count": null,
      "outputs": []
    }
  ]
}