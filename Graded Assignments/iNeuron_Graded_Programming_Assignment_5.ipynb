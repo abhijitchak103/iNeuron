{
  "nbformat": 4,
  "nbformat_minor": 0,
  "metadata": {
    "colab": {
      "provenance": [],
      "collapsed_sections": [],
      "authorship_tag": "ABX9TyNh/fOzNST7eN9c38j8xfPq",
      "include_colab_link": true
    },
    "kernelspec": {
      "name": "python3",
      "display_name": "Python 3"
    },
    "language_info": {
      "name": "python"
    }
  },
  "cells": [
    {
      "cell_type": "markdown",
      "metadata": {
        "id": "view-in-github",
        "colab_type": "text"
      },
      "source": [
        "<a href=\"https://colab.research.google.com/github/abhijitchak103/iNeuron/blob/main/Graded%20Assignments/iNeuron_Graded_Programming_Assignment_5.ipynb\" target=\"_parent\"><img src=\"https://colab.research.google.com/assets/colab-badge.svg\" alt=\"Open In Colab\"/></a>"
      ]
    },
    {
      "cell_type": "markdown",
      "source": [
        "# Programming Assignment 5"
      ],
      "metadata": {
        "id": "Pu3wiYxP1Sat"
      }
    },
    {
      "cell_type": "markdown",
      "source": [
        "####1. Write a Python Program to Find LCM?\n"
      ],
      "metadata": {
        "id": "3OR9T7ND1RUN"
      }
    },
    {
      "cell_type": "code",
      "execution_count": 4,
      "metadata": {
        "colab": {
          "base_uri": "https://localhost:8080/"
        },
        "id": "OeKk-Xxo1NNw",
        "outputId": "c453c3d2-1e59-4c65-c594-f9b1b22f60d5"
      },
      "outputs": [
        {
          "output_type": "stream",
          "name": "stdout",
          "text": [
            "Enter the first number: 15\n",
            "Enter the second number: 20\n",
            "The LCM of 15 and 20 is 60.0\n"
          ]
        }
      ],
      "source": [
        "def hcf(a, b):\n",
        "    c = max(a, b)\n",
        "    d = min(a, b)\n",
        "\n",
        "    if c%d == 0:\n",
        "        return d\n",
        "    else:\n",
        "        return hcf(d, c%d)\n",
        "\n",
        "a = int(input(\"Enter the first number: \"))\n",
        "b = int(input(\"Enter the second number: \"))\n",
        "\n",
        "gcd = hcf(a, b)\n",
        "\n",
        "lcm = (a*b)/gcd\n",
        "\n",
        "print(f\"The LCM of {a} and {b} is {lcm}\")"
      ]
    },
    {
      "cell_type": "markdown",
      "source": [
        "####2. Write a Python Program to Find HCF?\n"
      ],
      "metadata": {
        "id": "_RNaWlKc1YMk"
      }
    },
    {
      "cell_type": "code",
      "source": [
        "def hcf(a, b):\n",
        "    c = max(a, b)\n",
        "    d = min(a, b)\n",
        "\n",
        "    if c%d == 0:\n",
        "        return d\n",
        "    else:\n",
        "        return hcf(d, c%d)\n",
        "\n",
        "a = int(input(\"Enter the first number: \"))\n",
        "b = int(input(\"Enter the second number: \"))\n",
        "\n",
        "print(f\"\\nThe HCF of {a} and {b} is {hcf(a,b)}\")\n",
        "\n"
      ],
      "metadata": {
        "colab": {
          "base_uri": "https://localhost:8080/"
        },
        "id": "xluidO1a2IjH",
        "outputId": "7e631356-c08a-4d5d-bf49-50b4996b3f2b"
      },
      "execution_count": 3,
      "outputs": [
        {
          "output_type": "stream",
          "name": "stdout",
          "text": [
            "Enter the first number: 34\n",
            "Enter the second number: 4\n",
            "\n",
            "The HCF of 34 and 4 is 2\n"
          ]
        }
      ]
    },
    {
      "cell_type": "markdown",
      "source": [
        "####3. Write a Python Program to Convert Decimal to Binary, Octal and Hexadecimal?\n"
      ],
      "metadata": {
        "id": "g9HatK9M1Zxl"
      }
    },
    {
      "cell_type": "code",
      "source": [
        "a = int(input(\"Enter a number in decimal system: \"))\n",
        "\n",
        "print(f\"\\nThe binary equivalent of {a} in decimal is: {bin(a)[2:]}\")\n",
        "print(f\"The octal equivalent of {a} in decimal is: {oct(a)[2:]}\")\n",
        "print(f\"The hexadecimal equivalent of {a} in decimal is: {hex(a)[2:].upper()}\")"
      ],
      "metadata": {
        "colab": {
          "base_uri": "https://localhost:8080/"
        },
        "id": "igb15RnG4kE1",
        "outputId": "214bb5dc-41d7-4867-84af-94f025277d3a"
      },
      "execution_count": 6,
      "outputs": [
        {
          "output_type": "stream",
          "name": "stdout",
          "text": [
            "Enter a number in decimal system: 10\n",
            "\n",
            "The binary equivalent of 10 in decimal is: 1010\n",
            "The octal equivalent of 10 in decimal is: 12\n",
            "The hexadecimal equivalent of 10 in decimal is: A\n"
          ]
        }
      ]
    },
    {
      "cell_type": "markdown",
      "source": [
        "####4. Write a Python Program To Find ASCII value of a character?"
      ],
      "metadata": {
        "id": "Qpsz4yyQ1bXu"
      }
    },
    {
      "cell_type": "code",
      "source": [
        "a = input(\"Enter a character: \")\n",
        "print(f\"\\nThe ASCII value of {a} is {ord(a)}\")"
      ],
      "metadata": {
        "colab": {
          "base_uri": "https://localhost:8080/"
        },
        "id": "r_gV1TnI5dFr",
        "outputId": "d6bffaea-69cc-4e43-bdee-24853426b24d"
      },
      "execution_count": 11,
      "outputs": [
        {
          "output_type": "stream",
          "name": "stdout",
          "text": [
            "Enter a character: P\n",
            "\n",
            "The ASCII value of P is 80\n"
          ]
        }
      ]
    },
    {
      "cell_type": "markdown",
      "source": [
        "####5. Write a Python Program to Make a Simple Calculator with 4 basic mathematical operations?"
      ],
      "metadata": {
        "id": "2MMzEvAS1duN"
      }
    },
    {
      "cell_type": "code",
      "source": [
        "def add(a, b):\n",
        "    return a+b\n",
        "\n",
        "def subtract(a,b):\n",
        "    return a-b\n",
        "\n",
        "def multiply(a,b):\n",
        "    return a*b\n",
        "\n",
        "def divide(a,b):\n",
        "    return a/b\n",
        "\n",
        "a = float(input(\"Enter any number: \"))\n",
        "b = float(input(\"Enter any non-zero number: \"))\n",
        "\n",
        "print(\"\\nPlease choose your desired operation..\")\n",
        "user_input = input(\"Enter 1 for Addition, 2 for Subtraction, 3 for Multiplication, 4 for Division: \")\n",
        "\n",
        "if user_input == \"1\":\n",
        "    print(\"\\nYou chose addition...\")\n",
        "    print(f\"The sum of {a} and {b} is {add(a, b)}\")\n",
        "elif user_input == \"2\":\n",
        "    print(\"\\nYou chose subtraction...\")\n",
        "    print(f\"The difference of {a} and {b} is {subtract(a, b)}\")\n",
        "elif user_input == \"3\":\n",
        "    print(\"\\nYou chose multiplication...\")\n",
        "    print(f\"The product of {a} and {b} is {multiply(a, b)}\")\n",
        "elif user_input == \"4\":\n",
        "    if b == 0.0:\n",
        "        print(\"\\nYou chose division...\")\n",
        "        print(\"But you entered 0 as denominator. Not acceptable.\")\n",
        "        print(\"Exiting now...\")\n",
        "    else:\n",
        "        print(\"\\nYou chose division...\")\n",
        "        print(f\"The quotient of {a} and {b} is {divide(a, b)}\")\n",
        "else:\n",
        "    print(\"\\nSorry.. You entered an invalid operation input.\")"
      ],
      "metadata": {
        "colab": {
          "base_uri": "https://localhost:8080/"
        },
        "id": "yvvcsWGL1heB",
        "outputId": "25e4c9d8-33a4-4a24-8728-72b9142496c5"
      },
      "execution_count": 9,
      "outputs": [
        {
          "output_type": "stream",
          "name": "stdout",
          "text": [
            "Enter any number: 5\n",
            "Enter any non-zero number: 1\n",
            "\n",
            "Please choose your desired operation..\n",
            "Enter 1 for Addition, 2 for Subtraction, 3 for Multiplication, 4 for Division: 6\n",
            "\n",
            "Sorry.. You entered an invalid operation input.\n"
          ]
        }
      ]
    }
  ]
}