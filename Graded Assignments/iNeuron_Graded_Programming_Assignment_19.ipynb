{
 "cells": [
  {
   "attachments": {},
   "cell_type": "markdown",
   "metadata": {},
   "source": [
    "# Programming Assignment 19"
   ]
  },
  {
   "attachments": {},
   "cell_type": "markdown",
   "metadata": {},
   "source": [
    "Q1. Create a function that takes a string and returns a string in which each character is repeated once.\n",
    "\n",
    "*Examples*\n",
    "```\n",
    "double_char(\"String\") ➞ \"SSttrriinngg\"\n",
    "double_char(\"Hello World!\") ➞ \"HHeelllloo WWoorrlldd!!\"\n",
    "double_char(\"1234!_ \") ➞ \"11223344!!__ \"\n",
    "```"
   ]
  },
  {
   "cell_type": "code",
   "execution_count": null,
   "metadata": {},
   "outputs": [],
   "source": [
    "def double_char(string: str):\n",
    "    \"\"\"\n",
    "    Returns a string where each character of input string is repeated twice\n",
    "    \"\"\"\n",
    "    result = \"\"\n",
    "    for char in string:\n",
    "        result = result + char*2\n",
    "\n",
    "    return result\n",
    "\n",
    "print(double_char(\"String\"))\n",
    "print(double_char(\"Hello World!\"))\n",
    "print(double_char(\"1234!_ \"))\n"
   ]
  },
  {
   "attachments": {},
   "cell_type": "markdown",
   "metadata": {},
   "source": [
    "Q2. Create a function that reverses a boolean value and returns the string \"boolean expected\" if another variable type is given.\n",
    "\n",
    "*Examples*\n",
    "```\n",
    "reverse(True) ➞ False\n",
    "reverse(False) ➞ True\n",
    "reverse(0) ➞ \"boolean expected\"\n",
    "reverse(None) ➞ \"boolean expected\"\n",
    "```"
   ]
  },
  {
   "attachments": {},
   "cell_type": "markdown",
   "metadata": {},
   "source": [
    "Q3. Create a function that returns the thickness (in meters) of a piece of paper after folding it n number of times. The paper starts off with a thickness of 0.5mm.\n",
    "\n",
    "*Examples*\n",
    "```\n",
    "num_layers(1) ➞ \"0.001m\"\n",
    "# Paper folded once is 1mm (equal to 0.001m)\n",
    "num_layers(4) ➞ \"0.008m\"\n",
    "# Paper folded 4 times is 8mm (equal to 0.008m)\n",
    "num_layers(21) ➞ \"1048.576m\"\n",
    "# Paper folded 21 times is 1048576mm (equal to 1048.576m)\n",
    "```"
   ]
  },
  {
   "attachments": {},
   "cell_type": "markdown",
   "metadata": {},
   "source": [
    "Q4. Create a function that takes a single string as argument and returns an ordered list containing the indices of all capital letters in the string.\n",
    "\n",
    "*Examples*\n",
    "```\n",
    "index_of_caps(\"eDaBiT\") ➞ [1, 3, 5]\n",
    "index_of_caps(\"eQuINoX\") ➞ [1, 3, 4, 6]\n",
    "index_of_caps(\"determine\") ➞ []\n",
    "index_of_caps(\"STRIKE\") ➞ [0, 1, 2, 3, 4, 5]\n",
    "index_of_caps(\"sUn\") ➞ [1]\n",
    "```\n"
   ]
  },
  {
   "attachments": {},
   "cell_type": "markdown",
   "metadata": {},
   "source": [
    "Q5. Using list comprehensions, create a function that finds all even numbers from 1 to the given number.\n",
    "\n",
    "*Examples*\n",
    "```\n",
    "find_even_nums(8) ➞ [2, 4, 6, 8]\n",
    "find_even_nums(4) ➞ [2, 4]\n",
    "find_even_nums(2) ➞ [2]\n",
    "```"
   ]
  }
 ],
 "metadata": {
  "kernelspec": {
   "display_name": "base",
   "language": "python",
   "name": "python3"
  },
  "language_info": {
   "name": "python",
   "version": "3.9.13 (main, Aug 25 2022, 23:51:50) [MSC v.1916 64 bit (AMD64)]"
  },
  "orig_nbformat": 4,
  "vscode": {
   "interpreter": {
    "hash": "26477a1bc0f2991541817bec2ba146e84b80adc2173b1474d57acbdb80428c6b"
   }
  }
 },
 "nbformat": 4,
 "nbformat_minor": 2
}
