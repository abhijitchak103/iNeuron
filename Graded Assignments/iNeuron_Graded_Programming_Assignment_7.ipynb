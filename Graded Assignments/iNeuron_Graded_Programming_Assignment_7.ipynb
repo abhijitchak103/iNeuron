{
  "cells": [
    {
      "cell_type": "markdown",
      "metadata": {
        "colab_type": "text",
        "id": "view-in-github"
      },
      "source": [
        "<a href=\"https://colab.research.google.com/github/abhijitchak103/iNeuron/blob/main/Graded%20Assignments/iNeuron_Graded_Programming_Assignment_6.ipynb\" target=\"_parent\"><img src=\"https://colab.research.google.com/assets/colab-badge.svg\" alt=\"Open In Colab\"/></a>"
      ]
    },
    {
      "cell_type": "markdown",
      "metadata": {
        "id": "O1UTZ4X9KNZF"
      },
      "source": [
        "# Programming Assignment 7"
      ]
    },
    {
      "cell_type": "markdown",
      "metadata": {
        "id": "ypZpUHFaKBO0"
      },
      "source": [
        "#### 1. Write a Python Program to find sum of array?\n",
        "\n"
      ]
    },
    {
      "cell_type": "code",
      "execution_count": 2,
      "metadata": {},
      "outputs": [
        {
          "name": "stdout",
          "output_type": "stream",
          "text": [
            "Enter the 3 numbers now...\n",
            "The numbers are: [3.0, 3.0, 3.0]\n",
            "The sum of the numbers entered above is: 9.0\n"
          ]
        }
      ],
      "source": [
        "n = int(input(\"How many numbers you want to add? \"))\n",
        "print(f\"Enter the {n} numbers now...\")\n",
        "n_list = [float(input()) for _ in range(n)]\n",
        "\n",
        "print(f\"The numbers are: {n_list}\")\n",
        "\n",
        "sum = 0\n",
        "for num in n_list:\n",
        "    sum += num\n",
        "\n",
        "print(f\"The sum of the numbers entered above is: {sum}\")"
      ]
    },
    {
      "cell_type": "markdown",
      "metadata": {
        "id": "mjO0488XKDX8"
      },
      "source": [
        "#### 2. Write a Python Program to find largest element in an array?\n"
      ]
    },
    {
      "cell_type": "code",
      "execution_count": 3,
      "metadata": {},
      "outputs": [
        {
          "name": "stdout",
          "output_type": "stream",
          "text": [
            "Enter the 5 numbers now...\n",
            "The numbers are: [1.0, 6.0, 3.0, 8.0, 0.0]\n",
            "The largest element in [1.0, 6.0, 3.0, 8.0, 0.0] is 8.0\n"
          ]
        }
      ],
      "source": [
        "n = int(input(\"How many numbers you want to add? \"))\n",
        "print(f\"Enter the {n} numbers now...\")\n",
        "n_list = [float(input()) for _ in range(n)]\n",
        "\n",
        "print(f\"The numbers are: {n_list}\")\n",
        "\n",
        "max = 0\n",
        "for num in n_list:\n",
        "    if num > max:\n",
        "        max = num\n",
        "\n",
        "print(f\"The largest element in {n_list} is {max}\")"
      ]
    },
    {
      "cell_type": "markdown",
      "metadata": {
        "id": "dD7UmtyOKFIT"
      },
      "source": [
        "#### 3. Write a Python Program for array rotation?\n",
        "\n",
        "\n"
      ]
    },
    {
      "cell_type": "code",
      "execution_count": 11,
      "metadata": {},
      "outputs": [
        {
          "name": "stdout",
          "output_type": "stream",
          "text": [
            "Enter the 4 numbers now...\n",
            "The numbers are: [1.0, 5.0, 3.0, 7.0]\n",
            "\n",
            "Rotating the list to the right by 2 spaces\n",
            "After rotation your list is: [3.0, 7.0, 1.0, 5.0]\n"
          ]
        }
      ],
      "source": [
        "n = int(input(\"How many numbers you want to add? \"))\n",
        "print(f\"Enter the {n} numbers now...\")\n",
        "n_list = [float(input()) for _ in range(n)]\n",
        "\n",
        "print(f\"The numbers are: {n_list}\")\n",
        "\n",
        "d = int(input(\"By how many places you want to rotate? \"))\n",
        "dir = input(\"Please specify direction of rotation... 0 for left, 1 for right: \")\n",
        "\n",
        "if dir == \"0\":\n",
        "    print(f\"\\nRotating the list to the left by {d} spaces\")\n",
        "    temp = n_list[d:]\n",
        "    for num in n_list[:d]:\n",
        "        temp.append(num)\n",
        "else:\n",
        "    print(f\"\\nRotating the list to the right by {d} spaces\")\n",
        "    temp = n_list[-d:] + n_list[:-d]\n",
        "\n",
        "print(f\"After rotation your list is: {temp}\")"
      ]
    },
    {
      "cell_type": "markdown",
      "metadata": {
        "id": "vZ5VIQqUKH9E"
      },
      "source": [
        "#### 4. Write a Python Program to Split the array and add the first part to the end?\n",
        "\n"
      ]
    },
    {
      "cell_type": "code",
      "execution_count": 13,
      "metadata": {},
      "outputs": [
        {
          "name": "stdout",
          "output_type": "stream",
          "text": [
            "Enter the 6 numbers now...\n",
            "The numbers are: [2.0, 5.0, 3.0, 1.0, 7.0, 2.0]\n",
            "Your new list is: [1.0, 7.0, 2.0, 2.0, 5.0, 3.0]\n"
          ]
        }
      ],
      "source": [
        "n = int(input(\"How many numbers you want to add? \"))\n",
        "print(f\"Enter the {n} numbers now...\")\n",
        "n_list = [float(input()) for _ in range(n)]\n",
        "\n",
        "print(f\"The numbers are: {n_list}\")\n",
        "\n",
        "d = int(input(\"Where do you want to split the list? \"))\n",
        "\n",
        "new_list = n_list[-d:] + n_list[:-d]\n",
        "\n",
        "print(f\"Your new list is: {new_list}\")"
      ]
    },
    {
      "cell_type": "markdown",
      "metadata": {
        "id": "PmD23KUNKJoN"
      },
      "source": [
        "#### 5. Write a Python Program to check if given array is Monotonic?\n"
      ]
    },
    {
      "cell_type": "code",
      "execution_count": 16,
      "metadata": {},
      "outputs": [
        {
          "name": "stdout",
          "output_type": "stream",
          "text": [
            "Enter the 5 numbers now...\n",
            "The list is: [1.0, 2.0, 2.0, 4.0, 6.0]\n",
            "Entered list is Monotonic.\n"
          ]
        }
      ],
      "source": [
        "n = int(input(\"How many numbers you want to add? \"))\n",
        "print(f\"Enter the {n} numbers now...\")\n",
        "n_list = [float(input()) for _ in range(n)]\n",
        "\n",
        "print(f\"The list is: {n_list}\")\n",
        "\n",
        "sorted_n = sorted(n_list)\n",
        "\n",
        "if n_list == sorted_n:\n",
        "    print(\"Entered list is Monotonic.\")\n",
        "else:\n",
        "    print(\"Entered list is not Monotonic.\")"
      ]
    }
  ],
  "metadata": {
    "colab": {
      "authorship_tag": "ABX9TyNDgp/B6PgmIJ5c0WOYfw8C",
      "collapsed_sections": [],
      "include_colab_link": true,
      "provenance": []
    },
    "kernelspec": {
      "display_name": "Python 3.10.5 64-bit",
      "language": "python",
      "name": "python3"
    },
    "language_info": {
      "codemirror_mode": {
        "name": "ipython",
        "version": 3
      },
      "file_extension": ".py",
      "mimetype": "text/x-python",
      "name": "python",
      "nbconvert_exporter": "python",
      "pygments_lexer": "ipython3",
      "version": "3.10.5"
    },
    "vscode": {
      "interpreter": {
        "hash": "26de051ba29f2982a8de78e945f0abaf191376122a1563185a90213a26c5da77"
      }
    }
  },
  "nbformat": 4,
  "nbformat_minor": 0
}
