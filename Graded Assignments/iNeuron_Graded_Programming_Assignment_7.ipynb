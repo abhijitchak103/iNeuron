{
  "cells": [
    {
      "cell_type": "markdown",
      "metadata": {
        "colab_type": "text",
        "id": "view-in-github"
      },
      "source": [
        "<a href=\"https://colab.research.google.com/github/abhijitchak103/iNeuron/blob/main/Graded%20Assignments/iNeuron_Graded_Programming_Assignment_6.ipynb\" target=\"_parent\"><img src=\"https://colab.research.google.com/assets/colab-badge.svg\" alt=\"Open In Colab\"/></a>"
      ]
    },
    {
      "cell_type": "markdown",
      "metadata": {
        "id": "O1UTZ4X9KNZF"
      },
      "source": [
        "# Programming Assignment 7"
      ]
    },
    {
      "cell_type": "markdown",
      "metadata": {
        "id": "ypZpUHFaKBO0"
      },
      "source": [
        "#### 1. Write a Python Program to find sum of array?\n",
        "\n"
      ]
    },
    {
      "cell_type": "markdown",
      "metadata": {
        "id": "mjO0488XKDX8"
      },
      "source": [
        "#### 2. Write a Python Program to find largest element in an array?\n"
      ]
    },
    {
      "cell_type": "markdown",
      "metadata": {
        "id": "dD7UmtyOKFIT"
      },
      "source": [
        "#### 3. Write a Python Program for array rotation?\n",
        "\n",
        "\n"
      ]
    },
    {
      "cell_type": "markdown",
      "metadata": {
        "id": "vZ5VIQqUKH9E"
      },
      "source": [
        "#### 4. Write a Python Program to Split the array and add the first part to the end?\n",
        "\n"
      ]
    },
    {
      "cell_type": "markdown",
      "metadata": {
        "id": "PmD23KUNKJoN"
      },
      "source": [
        "#### 5. Write a Python Program to check if given array is Monotonic?\n"
      ]
    }
  ],
  "metadata": {
    "colab": {
      "authorship_tag": "ABX9TyNDgp/B6PgmIJ5c0WOYfw8C",
      "collapsed_sections": [],
      "include_colab_link": true,
      "provenance": []
    },
    "kernelspec": {
      "display_name": "Python 3.10.5 64-bit",
      "language": "python",
      "name": "python3"
    },
    "language_info": {
      "name": "python",
      "version": "3.10.5"
    },
    "vscode": {
      "interpreter": {
        "hash": "26de051ba29f2982a8de78e945f0abaf191376122a1563185a90213a26c5da77"
      }
    }
  },
  "nbformat": 4,
  "nbformat_minor": 0
}
