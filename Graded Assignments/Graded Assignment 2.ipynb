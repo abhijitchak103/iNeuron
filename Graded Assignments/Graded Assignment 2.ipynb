{
  "nbformat": 4,
  "nbformat_minor": 0,
  "metadata": {
    "colab": {
      "provenance": [],
      "collapsed_sections": [],
      "authorship_tag": "ABX9TyMVqv70kVTvqjey9HH1Vven",
      "include_colab_link": true
    },
    "kernelspec": {
      "name": "python3",
      "display_name": "Python 3"
    },
    "language_info": {
      "name": "python"
    }
  },
  "cells": [
    {
      "cell_type": "markdown",
      "metadata": {
        "id": "view-in-github",
        "colab_type": "text"
      },
      "source": [
        "<a href=\"https://colab.research.google.com/github/abhijitchak103/iNeuron/blob/Graded-Assignments/iNeuron_Graded_Assignment_2.ipynb\" target=\"_parent\"><img src=\"https://colab.research.google.com/assets/colab-badge.svg\" alt=\"Open In Colab\"/></a>"
      ]
    },
    {
      "cell_type": "markdown",
      "source": [
        "# Graded Assignment 2"
      ],
      "metadata": {
        "id": "wvc8rTabKaY9"
      }
    },
    {
      "cell_type": "markdown",
      "source": [
        "1. What are the two values of the Boolean data type? How do you write them?"
      ],
      "metadata": {
        "id": "IyisVdyWKekW"
      }
    },
    {
      "cell_type": "code",
      "execution_count": 1,
      "metadata": {
        "id": "XxCII7NtJzff"
      },
      "outputs": [],
      "source": [
        "# The two values are True and False\n",
        "# They are used to evaluate the validity of expressions, eg\n",
        "# 1 > 3 --> False, 4 >= 2 --> True\n",
        "\n",
        "# They are simply written as \"True\" and \"False\""
      ]
    },
    {
      "cell_type": "markdown",
      "source": [
        "2. What are the three different types of Boolean operators?"
      ],
      "metadata": {
        "id": "D8L7hn7SMV5j"
      }
    },
    {
      "cell_type": "code",
      "source": [
        "# AND, OR and NOT"
      ],
      "metadata": {
        "id": "z-NE8bqLMU4X"
      },
      "execution_count": 2,
      "outputs": []
    },
    {
      "cell_type": "markdown",
      "source": [
        "3. Make a list of each Boolean operator's truth tables (i.e. every possible combination of Boolean values for the operator and what it evaluate )."
      ],
      "metadata": {
        "id": "p1rdzve-Mdp6"
      }
    },
    {
      "cell_type": "markdown",
      "source": [
        "Solution:\n",
        "\n",
        "Truth Table for `NOT`:\n",
        "\n",
        "Input 1 | Output (NOT)\n",
        "-|-\n",
        "`True` | `False`\n",
        "`False` | `True`\n",
        "\n",
        "Truth Table for `AND`:\n",
        "\n",
        "Input 1 | Input 2 | Output (AND)\n",
        "-|-|-\n",
        "`False` | `False` | `False`\n",
        "`False` | `True` | `False`\n",
        "`True` | `False` | `False`\n",
        "`True` | `True` | `True`\n",
        "\n",
        "Truth Table for `OR`:\n",
        "\n",
        "Input 1 | Input 2 | Output (OR)\n",
        "-|-|-\n",
        "`False` | `False` | `False`\n",
        "`False` | `True` | `True`\n",
        "`True` | `False` | `True`\n",
        "`True` | `True` | `True`\n",
        "\n"
      ],
      "metadata": {
        "id": "mpblC1g2Mmbt"
      }
    },
    {
      "cell_type": "markdown",
      "source": [
        "4. What are the values of the following expressions?\n",
        "- `(5 > 4) and (3 == 5)`\n",
        "    - Sol: `False`\n",
        "- `not (5 > 4)`\n",
        "    - Sol: `False`\n",
        "- `(5 > 4) or (3 == 5)`\n",
        "    - Sol: `True`\n",
        "- `not ((5 > 4) or (3 == 5))`\n",
        "    - Sol: `False`\n",
        "- `(True and True) and (True == False)`\n",
        "    - Sol: `False`\n",
        "- `(not False) or (not True)`\n",
        "    - Sol: `True`"
      ],
      "metadata": {
        "id": "BIwJ3MovN0Rv"
      }
    },
    {
      "cell_type": "markdown",
      "source": [
        "5. What are the six comparison operators?"
      ],
      "metadata": {
        "id": "g_v_P5f7Oxb2"
      }
    },
    {
      "cell_type": "code",
      "source": [
        "# The six comparison operators are:\n",
        "# 1. == --> Equal to\n",
        "# 2. != --> Not Equal to\n",
        "# 3. >  --> Greater than\n",
        "# 4. <  --> Less Than\n",
        "# 5. >= --> Greater than or Equal to\n",
        "# 6. <= --> Less than or Equal to"
      ],
      "metadata": {
        "id": "KDDpoVqvMa8i"
      },
      "execution_count": 3,
      "outputs": []
    },
    {
      "cell_type": "markdown",
      "source": [
        "6. How do you tell the difference between the equal to and assignment operators? Describe a condition and when you would use one."
      ],
      "metadata": {
        "id": "221bcgXKPNdG"
      }
    },
    {
      "cell_type": "code",
      "source": [
        "# The equal to operator is: ==\n",
        "# The assignment operator is: =\n",
        "\n",
        "# eg. While assigning a value to a variable:\n",
        "# a = 5 (Here we use the assignment operator)\n",
        "# and\n",
        "# While checking if a variable is equal to a specific value, generally used in a condition\n",
        "# b == 10 (Here we use the equal to operator)\n",
        "\n",
        "\n",
        "# A code snippet to show the difference:\n",
        "\n",
        "age = 20 # Use of assignment operator\n",
        "if age == 20: # Use of equal to operator\n",
        "    print(\"Age is 20.\")\n",
        "else:\n",
        "    print(\"Age is not 20.\")"
      ],
      "metadata": {
        "colab": {
          "base_uri": "https://localhost:8080/"
        },
        "id": "g_2kiaUQPJpM",
        "outputId": "dc931468-494a-49b8-8a8a-b15270ac3134"
      },
      "execution_count": 4,
      "outputs": [
        {
          "output_type": "stream",
          "name": "stdout",
          "text": [
            "Age is 20.\n"
          ]
        }
      ]
    },
    {
      "cell_type": "markdown",
      "source": [
        "7. Identify the three blocks in this code:\n",
        "```python\n",
        "spam = 0\n",
        "if spam == 10:\n",
        "print('eggs')\n",
        "if spam > 5:\n",
        "print('bacon')\n",
        "else:\n",
        "print('ham')\n",
        "print('spam')\n",
        "print('spam')\n",
        "```"
      ],
      "metadata": {
        "id": "beeiKRySQRuF"
      }
    },
    {
      "cell_type": "code",
      "source": [
        "# Block 1:\n",
        "\n",
        "# if spam == 10:\n",
        "#   print('eggs')\n",
        "\n",
        "# Block 2:\n",
        "\n",
        "# if spam > 5:\n",
        "#   print('bacon')\n",
        "\n",
        "# Block 3:\n",
        "\n",
        "# else: \n",
        "#   print('ham')\n"
      ],
      "metadata": {
        "id": "JvvIIoZgQKTI"
      },
      "execution_count": 5,
      "outputs": []
    },
    {
      "cell_type": "markdown",
      "source": [
        "8. Write code that prints Hello if 1 is stored in spam, prints Howdy if 2 is stored in spam, and prints Greetings! if anything else is stored in spam."
      ],
      "metadata": {
        "id": "pL7W6UxrRRrB"
      }
    },
    {
      "cell_type": "code",
      "source": [
        "spam = 3\n",
        "\n",
        "if spam == 1:\n",
        "    print(\"Hello\")\n",
        "elif spam == 2:\n",
        "    print(\"Howdy\")\n",
        "else: \n",
        "    print(\"Greetings!\")"
      ],
      "metadata": {
        "colab": {
          "base_uri": "https://localhost:8080/"
        },
        "id": "GhbwGhApRNO7",
        "outputId": "04ed02ab-0b13-4ba4-9149-f6ed273ed4ea"
      },
      "execution_count": 6,
      "outputs": [
        {
          "output_type": "stream",
          "name": "stdout",
          "text": [
            "Greetings!\n"
          ]
        }
      ]
    },
    {
      "cell_type": "markdown",
      "source": [
        "9. If your programme is stuck in an endless loop, what keys you’ll press?"
      ],
      "metadata": {
        "id": "AxvxytgCR1FQ"
      }
    },
    {
      "cell_type": "code",
      "source": [
        "# In Google Colab, we can interrupt the exceution with \"Ctrl + MI\""
      ],
      "metadata": {
        "id": "HC5trD2hSEqj"
      },
      "execution_count": 7,
      "outputs": []
    },
    {
      "cell_type": "markdown",
      "source": [
        "10. How can you tell the difference between break and continue?"
      ],
      "metadata": {
        "id": "O8BvfPpqSw-P"
      }
    },
    {
      "cell_type": "code",
      "source": [
        "# The break keyword, stops the exceution of a block and exits the block\n",
        "\n",
        "# The continue keyword, forces to execute the next iteration of code and skip the lines of code after the continue in the block."
      ],
      "metadata": {
        "id": "s1c6qB5fSp_i"
      },
      "execution_count": 8,
      "outputs": []
    },
    {
      "cell_type": "markdown",
      "source": [
        "11. In a for loop, what is the difference between range(10), range(0, 10), and range(0, 10, 1)?"
      ],
      "metadata": {
        "id": "gIkqQdXETqVm"
      }
    },
    {
      "cell_type": "code",
      "source": [
        "# All the above fulfill the same operation, i.e., create a list of numbers: 0,1,2,3,4,5,6,7,8,9. \n",
        "# They are only different ways of using the range function "
      ],
      "metadata": {
        "id": "4DVEtH5GT8ro"
      },
      "execution_count": 12,
      "outputs": []
    },
    {
      "cell_type": "markdown",
      "source": [
        "12. Write a short program that prints the numbers 1 to 10 using a for loop. Then write an equivalent program that prints the numbers 1 to 10 using a while loop."
      ],
      "metadata": {
        "id": "4KBspvXGUY0x"
      }
    },
    {
      "cell_type": "code",
      "source": [
        "# Using a for loop\n",
        "\n",
        "print(\"Printing 1 to 10 using a for loop: \")\n",
        "for i in range(1, 11):\n",
        "    print(i)\n",
        "\n",
        "# Using a while loop\n",
        "\n",
        "print(\"\")\n",
        "\n",
        "print(\"Printing 1 to 10 using a while loop: \")\n",
        "i = 1\n",
        "while i <= 10:\n",
        "    print(i)\n",
        "    i += 1"
      ],
      "metadata": {
        "colab": {
          "base_uri": "https://localhost:8080/"
        },
        "id": "jwiN5rNLUTad",
        "outputId": "a45fe021-56e7-45f4-d445-f27461c21634"
      },
      "execution_count": 13,
      "outputs": [
        {
          "output_type": "stream",
          "name": "stdout",
          "text": [
            "Printing 1 to 10 using a for loop: \n",
            "1\n",
            "2\n",
            "3\n",
            "4\n",
            "5\n",
            "6\n",
            "7\n",
            "8\n",
            "9\n",
            "10\n",
            "\n",
            "Printing 1 to 10 using a while loop: \n",
            "1\n",
            "2\n",
            "3\n",
            "4\n",
            "5\n",
            "6\n",
            "7\n",
            "8\n",
            "9\n",
            "10\n"
          ]
        }
      ]
    },
    {
      "cell_type": "markdown",
      "source": [
        "13. If you had a function named bacon() inside a module named spam, how would you call it after importing spam?"
      ],
      "metadata": {
        "id": "6T_pxsjNVC0N"
      }
    },
    {
      "cell_type": "code",
      "source": [
        "# spam.bacon()"
      ],
      "metadata": {
        "id": "wiU_0H5UU7FZ"
      },
      "execution_count": 15,
      "outputs": []
    }
  ]
}
