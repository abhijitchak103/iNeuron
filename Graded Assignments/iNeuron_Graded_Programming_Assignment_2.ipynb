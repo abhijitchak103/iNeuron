{
  "nbformat": 4,
  "nbformat_minor": 0,
  "metadata": {
    "colab": {
      "provenance": [],
      "collapsed_sections": [],
      "authorship_tag": "ABX9TyN5HnIRBH62725bun52dPvj",
      "include_colab_link": true
    },
    "kernelspec": {
      "name": "python3",
      "display_name": "Python 3"
    },
    "language_info": {
      "name": "python"
    }
  },
  "cells": [
    {
      "cell_type": "markdown",
      "metadata": {
        "id": "view-in-github",
        "colab_type": "text"
      },
      "source": [
        "<a href=\"https://colab.research.google.com/github/abhijitchak103/iNeuron/blob/main/Graded%20Assignments%20/iNeuron_Graded_Programming_Assignment_2.ipynb\" target=\"_parent\"><img src=\"https://colab.research.google.com/assets/colab-badge.svg\" alt=\"Open In Colab\"/></a>"
      ]
    },
    {
      "cell_type": "markdown",
      "source": [
        "# Programming Assignment 2\n",
        "\n"
      ],
      "metadata": {
        "id": "ctqGPLkqzolc"
      }
    },
    {
      "cell_type": "markdown",
      "source": [
        "1. Write a Python program to convert kilometers to miles?\n"
      ],
      "metadata": {
        "id": "3axVFYkBzncc"
      }
    },
    {
      "cell_type": "code",
      "execution_count": 4,
      "metadata": {
        "colab": {
          "base_uri": "https://localhost:8080/"
        },
        "id": "P-ii7beezfq7",
        "outputId": "8521d701-f135-405e-96a9-4b54ff24cbd6"
      },
      "outputs": [
        {
          "output_type": "stream",
          "name": "stdout",
          "text": [
            "Please enter the distance in Kms: 34\n",
            "The distance entered converted to miles is:  21.13\n"
          ]
        }
      ],
      "source": [
        "d_km = float(input(\"Please enter the distance in Kms: \"))\n",
        "\n",
        "d_miles = d_km * 0.621371\n",
        "\n",
        "print(f\"The distance entered converted to miles is: {d_miles: .2f}\")"
      ]
    },
    {
      "cell_type": "markdown",
      "source": [
        "2. Write a Python program to convert Celsius to Fahrenheit?\n"
      ],
      "metadata": {
        "id": "NUq0bXiSzwIh"
      }
    },
    {
      "cell_type": "code",
      "source": [
        "t_cel = float(input(\"Please enter the temperature in Celsius: \"))\n",
        "\n",
        "t_fah = t_cel * 1.8 + 32\n",
        "\n",
        "print(f\"The temperature in Fahrenheit is: {t_fah: .2f}\")"
      ],
      "metadata": {
        "colab": {
          "base_uri": "https://localhost:8080/"
        },
        "id": "IcF_pQho0sgj",
        "outputId": "6c032756-c112-4135-f2d0-2189be0b81ba"
      },
      "execution_count": 5,
      "outputs": [
        {
          "output_type": "stream",
          "name": "stdout",
          "text": [
            "Please enter the temperature in Celsius: 103\n",
            "The temperature in Fahrenheit is:  217.40\n"
          ]
        }
      ]
    },
    {
      "cell_type": "markdown",
      "source": [
        "3. Write a Python program to display calendar?"
      ],
      "metadata": {
        "id": "ACbz2Q-tzybc"
      }
    },
    {
      "cell_type": "code",
      "source": [
        "import calendar\n",
        "\n",
        "y = int(input(\"Enter Year: \"))\n",
        "m = int(input(\"\\nEnter Month Number (1-12): \"))\n",
        "\n",
        "print(\"\\n\", calendar.month(y, m))"
      ],
      "metadata": {
        "colab": {
          "base_uri": "https://localhost:8080/"
        },
        "id": "ljCab95q1sWQ",
        "outputId": "07b58eda-538a-4dcb-853d-93a2c083779d"
      },
      "execution_count": 6,
      "outputs": [
        {
          "output_type": "stream",
          "name": "stdout",
          "text": [
            "Enter Year: 2022\n",
            "\n",
            "Enter Month Number (1-12): 10\n",
            "\n",
            "     October 2022\n",
            "Mo Tu We Th Fr Sa Su\n",
            "                1  2\n",
            " 3  4  5  6  7  8  9\n",
            "10 11 12 13 14 15 16\n",
            "17 18 19 20 21 22 23\n",
            "24 25 26 27 28 29 30\n",
            "31\n",
            "\n"
          ]
        }
      ]
    },
    {
      "cell_type": "markdown",
      "source": [
        "4. Write a Python program to solve quadratic equation?\n"
      ],
      "metadata": {
        "id": "Sr96hUndz021"
      }
    },
    {
      "cell_type": "code",
      "source": [
        "print(\"Form of quadratic equation:  ax^2 + bx + c\")\n",
        "a = float(input(\"\\nEnter the co-efficient 'a' of x^2: \"))\n",
        "b = float(input(\"Enter the co-efficient 'b' of x: \"))\n",
        "c = float(input(\"Enter the constant 'c': \"))\n",
        "\n",
        "print(f\"\\nYour equation is : {a}x^2 + {b}x + {c}\")\n",
        "\n",
        "d = b**2 - 4*a*c\n",
        "\n",
        "if d < 0:\n",
        "    print(\"\\nProvided equation has no real roots.\")\n",
        "else:\n",
        "    x1 = (-b + (d)**0.5)/(2*a)\n",
        "    x2 = (-b - (d)**0.5)/(2*a)\n",
        "    print(f\"\\nThe real roots of the provided equation are: {x1: .3f} and {x2: .3f}\")"
      ],
      "metadata": {
        "colab": {
          "base_uri": "https://localhost:8080/"
        },
        "id": "eyPIAgIY2PnO",
        "outputId": "762443d1-3847-4919-aa42-1059f3bb268a"
      },
      "execution_count": 14,
      "outputs": [
        {
          "output_type": "stream",
          "name": "stdout",
          "text": [
            "Form of quadratic equation:  ax^2 + bx + c\n",
            "\n",
            "Enter the co-efficient 'a' of x^2: 4\n",
            "Enter the co-efficient 'b' of x: 3\n",
            "Enter the constant 'c': 2\n",
            "\n",
            "Your equation is : 4.0x^2 + 3.0x + 2.0\n",
            "\n",
            "Provided equation has no real roots.\n"
          ]
        }
      ]
    },
    {
      "cell_type": "markdown",
      "source": [
        "5. Write a Python program to swap two variables without temp variable?"
      ],
      "metadata": {
        "id": "ZZzzvXFxz2rt"
      }
    },
    {
      "cell_type": "code",
      "source": [
        "a = input(\"Enter the first variable: \")\n",
        "b = input(\"Enter the second variable: \")\n",
        "\n",
        "print(\"\\nBefore swapping: \")\n",
        "print(f\"Variables are {a} and {b}\")\n",
        "\n",
        "# Swapping the variables\n",
        "a, b = b, a\n",
        "\n",
        "print(\"\\nAfter swapping: \")\n",
        "print(f\"Variables are {a} and {b}\")"
      ],
      "metadata": {
        "colab": {
          "base_uri": "https://localhost:8080/"
        },
        "id": "ggjLtdhhz3MV",
        "outputId": "9df8becd-9fb3-48e2-deeb-d821ba5c8bfa"
      },
      "execution_count": 13,
      "outputs": [
        {
          "output_type": "stream",
          "name": "stdout",
          "text": [
            "Enter the first variable: Abhijit\n",
            "Enter the second variable: Arun\n",
            "\n",
            "Before swapping: \n",
            "Variables are Abhijit and Arun\n",
            "\n",
            "After swapping: \n",
            "Variables are Arun and Abhijit\n"
          ]
        }
      ]
    }
  ]
}
